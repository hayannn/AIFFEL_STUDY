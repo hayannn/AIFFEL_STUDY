{
  "cells": [
    {
      "cell_type": "markdown",
      "metadata": {
        "id": "view-in-github",
        "colab_type": "text"
      },
      "source": [
        "<a href=\"https://colab.research.google.com/github/hayannn/AIFFEL_STUDY/blob/main/8_1_%ED%85%8D%EC%8A%A4%ED%8A%B8_%EB%B6%84%EC%84%9D_%EC%9D%B4%ED%95%B4_%2B_8_2_%E1%84%90%E1%85%A6%E1%86%A8%E1%84%89%E1%85%B3%E1%84%90%E1%85%B3_%E1%84%89%E1%85%A1%E1%84%8C%E1%85%A5%E1%86%AB_%E1%84%8C%E1%85%AE%E1%86%AB%E1%84%87%E1%85%B5_%E1%84%8C%E1%85%A1%E1%86%A8%E1%84%8B%E1%85%A5%E1%86%B8(%E1%84%90%E1%85%A6%E1%86%A8%E1%84%89%E1%85%B3%E1%84%90%E1%85%B3_%E1%84%8C%E1%85%A5%E1%86%AB%E1%84%8E%E1%85%A5%E1%84%85%E1%85%B5)_%E1%84%90%E1%85%A6%E1%86%A8%E1%84%89%E1%85%B3%E1%84%90%E1%85%B3_%E1%84%8C%E1%85%A5%E1%86%BC%E1%84%80%E1%85%B2%E1%84%92%E1%85%AA_%2B_8_3_Bag_of_Words_BOW.ipynb\" target=\"_parent\"><img src=\"https://colab.research.google.com/assets/colab-badge.svg\" alt=\"Open In Colab\"/></a>"
      ]
    },
    {
      "cell_type": "markdown",
      "source": [
        "## NLP이냐 텍스트 분석이냐?\n",
        "- NLP\n",
        "  - 머신이 인간의 언어를 이해하고 해석하는 데 중점\n",
        "  - 텍스트 분석을 향상하게 하는 기반 기술\n",
        "- 텍스트 분석\n",
        "  - 텍스트 마이닝이라고도 불림, 비정형 텍스트에서 의미 있는 정보 추출하는 것에 중점\n",
        "  - 머신러닝, 언어 이해, 통계 등 활용해 모델 수립, 정보 추출로 비즈니스 인텔리전스나 예측 분석 등의 분석 작업을 주로 수행\n",
        "  - 종류\n",
        "    - 텍스트 분류(Text Classification)\n",
        "      - 지도 학습\n",
        "      - 문서가 특정 분류 또는 카테고리에 속하는 것을 예측하는 기법 통칭\n",
        "      - ex) 특정 신문 기사 내용이 연예/정치/사회/문화 중 어떤 카테고리에 속하는지 자동으로 분류, 스팸 메일 검출\n",
        "    - 감성 분석(Sentiment Analysis)\n",
        "      - 지도 학습, 비지도 학습 모두 가능\n",
        "      - 텍스트에서 나타나는 감정/판단/믿음/의견/기분 등 주관적 요소를 분석하는 기법 총칭\n",
        "      - 소셜 미디어 감성 분석, 영화나 제품에 대한 긍정 또는 리뷰, 여론조사 의견 분석 등\n",
        "      - Text Analytics에서 가장 활발히 사용되고 있는 분야\n",
        "      - 지도 학습, 비지도 학습 모두 가능\n",
        "    - 텍스트 요약(Summarization)\n",
        "      - 텍스트 내에서 중요한 주제나 중심 사상을 추출하는 기법\n",
        "      - 토픽 모델링(Topic Modeling)\n",
        "    - 텍스트 군집화(Clustering)와 유사도 측정\n",
        "      - 비슷한 유형의 문서에 대해 군집화를 수행하는 기법\n",
        "      - 텍스트 분류를 비지도학습으로 수행하는 방법의 일환으로 사용 가능\n",
        "      - 유사도 측정도 문서들간의 유사도를 측정해 비슷한 문서끼리 모을 수 있는 방법임"
      ],
      "metadata": {
        "id": "r3gDBvC91HhO"
      }
    },
    {
      "cell_type": "markdown",
      "source": [
        "# 8.1 텍스트 분석 이해\n",
        "- 텍스트를 머신러닝에 적용\n",
        "  - 비정형 텍스트 데이터를 어떻게 피쳐 형태로 추출하고, 추출된 피쳐에 의미 있는 값을 부여하는지에 대한 요소가 가장 중요\n",
        "- 피쳐 벡터화(Feature Vectorization)\n",
        "  - == 피쳐 추출(Feature Extraction)\n",
        "  - 텍스트를 word 또는 word의 일부분 기반의 다수 피쳐로 추출하고, 이 피쳐에 단어 빈도수와 같은 숫자 값 부여 -> 텍스트는 단어 조합인 벡터값으로 표현됨!\n",
        "\n",
        "- BOW(Bag Of Words)\n",
        "  - 대표적 피쳐 벡터화 방법론"
      ],
      "metadata": {
        "id": "i3s_9RcPjsfM"
      }
    },
    {
      "cell_type": "markdown",
      "source": [
        "## 텍스트 분석 수행 프로세스\n",
        "1. 텍스트 전처리\n",
        "- 텍스트를 피쳐로 만들기 전 작업\n",
        "- 클렌징\n",
        "  - 클렌징, 대/소문자 변경, 특수문자 삭제 등\n",
        "- 정규화\n",
        "  - 토큰화 : 단어 등\n",
        "  - 의미 없는 단어 제거 작업(Stop word)\n",
        "  - 어근 추출(Stemming/Lemmatization)\n",
        "\n",
        "2. 피쳐 벡터화/추출\n",
        "- 피쳐 추출, 벡터 값 할당\n",
        "- BOW(Count 기반 벡터화와 TF-IDF 기반 벡터화가 있음), Word2Vec\n",
        "\n",
        "3. ML 모델 수립 및 학습/예측/평가\n",
        "- 피쳐 벡터화된 데이트셋에 ML 모델 적용하여 학습/예측/평가 수행"
      ],
      "metadata": {
        "id": "SeHJ5kR64Xzu"
      }
    },
    {
      "cell_type": "markdown",
      "source": [
        "## 파이썬 기반의 NLP, 텍스트 분석 패키지\n",
        "- NLTK(Natural Language Toolkit for Python)\n",
        "  - 파이썬의 가장 대표적인 NLP 패키지\n",
        "  - 방대한 데이터 세트 및 서브 모듈 소유, NLP의 거의 모든 영역 커버\n",
        "  - 수행 속도 측면에서 다소 아쉬움 -> 실제 대량 데이터 기반에서는 잘 활용 X\n",
        "- Gensim\n",
        "  - 토픽 모델링 분야에서 가장 두각을 나타내는 패키지\n",
        "  - 또한, Word2Vec 구현 등의 다양한 신기능도 제공\n",
        "  - SpaCy와 함께 가장 많이 사용되는 NLP 패키지\n",
        "- SpaCy\n",
        "  - 뛰어난 수행 성능으로 최근 가장 주목받는 NLP 패키지\n",
        "\n",
        "<br>\n",
        "\n",
        "> 더 다양한 텍스트 분석이 적용돼야 하는 경우, NLTK/Gensim/SpaCy 같은 NLP 전용 패키지와 함께 결합해 애플케이션 작성하는 경우 많음!"
      ],
      "metadata": {
        "id": "DvAFwHre4ZQ0"
      }
    },
    {
      "cell_type": "markdown",
      "metadata": {
        "id": "zreh1rz6jrvo"
      },
      "source": [
        "# 8.2 텍스트 사전 준비 작업(텍스트 전처리) - 텍스트 정규화\n",
        "- 텍스트 정규화?\n",
        "  - 텍스트 자체를 바로 피쳐로 만들 수 없음\n",
        "  - 텍스트를 ML 알고리즘이나 NLP 애플리케이션에 입력 데이터로 사용하기 위해 클렌징, 정제, 토큰화, 어근화 등 다양한 텍스트 데이터 사전 작업을 수행하는 것을 의미\n",
        "\n",
        "- 텍스트 정규화 작업 종류\n",
        "  - 클렌징(Cleansing), 토큰화(Tokenization), 필터링/스톱 워드 제거/ 철자 수정, Stemming, Lemmatization\n"
      ]
    },
    {
      "cell_type": "markdown",
      "source": [
        "#### 클렌징\n",
        "- 불필요한 문자, 기호 등 사전 제거하는 작업\n",
        "- ex) HTML, XML 태그, 특정 기호 등"
      ],
      "metadata": {
        "id": "DV_Z2sU069ok"
      }
    },
    {
      "cell_type": "markdown",
      "metadata": {
        "id": "4oHyM2-ijrvq"
      },
      "source": [
        "#### Text Tokenization\n",
        "- 문장 토큰화(sentence tokenization)\n",
        "  - 마침표(.), 개행문자(\\n) 등 문장의 마지막을 뜻하는 기호에 따라 분리하는 것이 일반적\n",
        "  - 정규 표현식에 따른 문장 토큰화도 가능\n",
        "> - [error] punkt를 punkt_tab으로 변경\n",
        "![image](https://github.com/user-attachments/assets/befee2ac-1fc4-41d3-9939-cd9f49fa1062)"
      ]
    },
    {
      "cell_type": "code",
      "execution_count": 2,
      "metadata": {
        "colab": {
          "base_uri": "https://localhost:8080/"
        },
        "id": "9ymIEC1ujrvq",
        "outputId": "21da2f15-a7ce-4204-c133-e6ac6a983dcb"
      },
      "outputs": [
        {
          "output_type": "stream",
          "name": "stdout",
          "text": [
            "<class 'list'> 3\n",
            "['The Matrix is everywhere its all around us, here even in this room.', 'You can see it out your window or on your television.', 'You feel it when you go to work, or go to church or pay your taxes.']\n"
          ]
        },
        {
          "output_type": "stream",
          "name": "stderr",
          "text": [
            "[nltk_data] Downloading package punkt_tab to /root/nltk_data...\n",
            "[nltk_data]   Unzipping tokenizers/punkt_tab.zip.\n"
          ]
        }
      ],
      "source": [
        "# NTLK에서 많이 쓰이는 sent_tokenize로 토큰화 수행\n",
        "# 3개의 문장으로 이루어진 텍스트 문서를 문장으로 각각 분리하는 예제\n",
        "\n",
        "from nltk import sent_tokenize\n",
        "import nltk\n",
        "nltk.download('punkt_tab')\n",
        "\n",
        "text_sample = 'The Matrix is everywhere its all around us, here even in this room. \\\n",
        "               You can see it out your window or on your television. \\\n",
        "               You feel it when you go to work, or go to church or pay your taxes.'\n",
        "sentences = sent_tokenize(text=text_sample)\n",
        "print(type(sentences),len(sentences))\n",
        "print(sentences)"
      ]
    },
    {
      "cell_type": "markdown",
      "source": [
        "- sent_tokenize() 반환값 : 각각의 문장으로 구성된 list 객체"
      ],
      "metadata": {
        "id": "nHuASILK8DaP"
      }
    },
    {
      "cell_type": "markdown",
      "source": [
        "<br>"
      ],
      "metadata": {
        "id": "nAw1aJLd8H9L"
      }
    },
    {
      "cell_type": "markdown",
      "source": [
        "- 단어 토큰화(Word Tokenization)\n",
        "  - 문장을 단어로 토큰화\n",
        "  - 공백, 콤마(,), 마침표(.), 개행문자 등으로 단어 분리하는 것이 일반적이지만\n",
        "  - 정규 표현식을 통해 다양한 유형으로 토큰화 수행 가능\n",
        "  - BOW처럼 단어 순서가 중요하지 않은 경우 문장 토큰화를 사용하지 않고, 단어 토큰화만 사용해도 충분\n",
        "  - 문장 토큰화는 -> 각 문장이 가지는 시맨적적인 의미가 중요한 요소로 사용될 경우 적합"
      ],
      "metadata": {
        "id": "KkBjhGDU8Lhp"
      }
    },
    {
      "cell_type": "markdown",
      "source": [
        "- NTLK에서 기본 제공하는 word_tokenize()로 단어 토큰화"
      ],
      "metadata": {
        "id": "Caz74KIf9nvm"
      }
    },
    {
      "cell_type": "code",
      "execution_count": 3,
      "metadata": {
        "colab": {
          "base_uri": "https://localhost:8080/"
        },
        "id": "CkQ56Xnujrvr",
        "outputId": "bd8d6a40-d53c-4b0f-b23e-dfe40ae3d65c"
      },
      "outputs": [
        {
          "output_type": "stream",
          "name": "stdout",
          "text": [
            "<class 'list'> 15\n",
            "['The', 'Matrix', 'is', 'everywhere', 'its', 'all', 'around', 'us', ',', 'here', 'even', 'in', 'this', 'room', '.']\n"
          ]
        }
      ],
      "source": [
        "from nltk import word_tokenize\n",
        "\n",
        "sentence = \"The Matrix is everywhere its all around us, here even in this room.\"\n",
        "words = word_tokenize(sentence)\n",
        "print(type(words), len(words))\n",
        "print(words)"
      ]
    },
    {
      "cell_type": "markdown",
      "source": [
        "- sent_tokenize, word_tokenize 조합으로 모든 단어 토큰화"
      ],
      "metadata": {
        "id": "v6juWMlB9oku"
      }
    },
    {
      "cell_type": "code",
      "execution_count": 4,
      "metadata": {
        "colab": {
          "base_uri": "https://localhost:8080/"
        },
        "id": "7-qeynbGjrvs",
        "outputId": "69909ac3-825b-44a1-961b-f588f15f7758"
      },
      "outputs": [
        {
          "output_type": "stream",
          "name": "stdout",
          "text": [
            "<class 'list'> 3\n",
            "[['The', 'Matrix', 'is', 'everywhere', 'its', 'all', 'around', 'us', ',', 'here', 'even', 'in', 'this', 'room', '.'], ['You', 'can', 'see', 'it', 'out', 'your', 'window', 'or', 'on', 'your', 'television', '.'], ['You', 'feel', 'it', 'when', 'you', 'go', 'to', 'work', ',', 'or', 'go', 'to', 'church', 'or', 'pay', 'your', 'taxes', '.']]\n"
          ]
        }
      ],
      "source": [
        "from nltk import word_tokenize, sent_tokenize\n",
        "\n",
        "# 여러 개의 문장으로 된 입력 데이터를 문장별로 단어 토큰되게끔 만드는 함수 생성\n",
        "def tokenize_text(text):\n",
        "\n",
        "    # 문장별로 분리 토큰\n",
        "    sentences = sent_tokenize(text)\n",
        "    # 분리된 문장별 단어 토큰화\n",
        "    word_tokens = [word_tokenize(sentence) for sentence in sentences]\n",
        "    return word_tokens\n",
        "\n",
        "# 여러 문장들에 대해 문장별 단어 토큰화 수행\n",
        "word_tokens = tokenize_text(text_sample)\n",
        "print(type(word_tokens),len(word_tokens))\n",
        "print(word_tokens)"
      ]
    },
    {
      "cell_type": "markdown",
      "source": [
        "- n-gram\n",
        "  - 문장을 단어별로 하나씩 토큰화할 경우 문맥적 의미는 무시될 수밖에 없음\n",
        "  - 연속된 n개의 단어를 하나의 토큰화 단위로 분리하는 것\n",
        "  - n개 단어 크기 윈도우를 만들어 문장 처음부터 오른쪽으로 움직이면서 토큰화 수행\n",
        "  - ex) Agent Smith knocks the door\n",
        "    - 2-gram(bigram)으로 만들면 (Agent, Smith), (Smith, knocks), (knocks, the), (the, door) 처럼 연속 2개 단어를 순차적으로 이동하며 단어 토큰화\n"
      ],
      "metadata": {
        "id": "iqRLeF48_4Nd"
      }
    },
    {
      "cell_type": "markdown",
      "metadata": {
        "id": "_rfdzvTJjrvs"
      },
      "source": [
        "## Stopwords 제거\n",
        "- 필수 문법 요소이기는 하나, 문맥적으로 큰 의미가 없는 단어\n",
        "- 빈번함으로 인해 중요 단어로 잘못 선택될 수 있음 -> 그래서 처리하는 것"
      ]
    },
    {
      "cell_type": "code",
      "execution_count": 5,
      "metadata": {
        "colab": {
          "base_uri": "https://localhost:8080/"
        },
        "id": "x2GZrNsojrvs",
        "outputId": "227ef5c3-ff97-49a9-8e06-953dbb3beb24"
      },
      "outputs": [
        {
          "output_type": "stream",
          "name": "stderr",
          "text": [
            "[nltk_data] Downloading package stopwords to /root/nltk_data...\n",
            "[nltk_data]   Unzipping corpora/stopwords.zip.\n"
          ]
        },
        {
          "output_type": "execute_result",
          "data": {
            "text/plain": [
              "True"
            ]
          },
          "metadata": {},
          "execution_count": 5
        }
      ],
      "source": [
        "import nltk\n",
        "nltk.download('stopwords')"
      ]
    },
    {
      "cell_type": "code",
      "execution_count": 6,
      "metadata": {
        "colab": {
          "base_uri": "https://localhost:8080/"
        },
        "id": "p0Vp8phHjrvs",
        "outputId": "9029d324-3edd-49e8-f158-21dfca8bfe93"
      },
      "outputs": [
        {
          "output_type": "stream",
          "name": "stdout",
          "text": [
            "영어 stop words 갯수: 179\n",
            "['i', 'me', 'my', 'myself', 'we', 'our', 'ours', 'ourselves', 'you', \"you're\", \"you've\", \"you'll\", \"you'd\", 'your', 'yours', 'yourself', 'yourselves', 'he', 'him', 'his']\n"
          ]
        }
      ],
      "source": [
        "print('영어 stop words 갯수:',len(nltk.corpus.stopwords.words('english')))\n",
        "print(nltk.corpus.stopwords.words('english')[:20])"
      ]
    },
    {
      "cell_type": "markdown",
      "source": [
        "- stopwords를 필터링으로 제거해 분석을 위한 의미 있는 단어만 추출\n",
        "  - is, this 같은 스톱 워드 제거됨!"
      ],
      "metadata": {
        "id": "tujYBrcwBDdD"
      }
    },
    {
      "cell_type": "code",
      "execution_count": 7,
      "metadata": {
        "colab": {
          "base_uri": "https://localhost:8080/"
        },
        "id": "HBa4Ke3Cjrvt",
        "outputId": "e3413623-58fc-4cec-c09a-7214ceaecad7"
      },
      "outputs": [
        {
          "output_type": "stream",
          "name": "stdout",
          "text": [
            "[['matrix', 'everywhere', 'around', 'us', ',', 'even', 'room', '.'], ['see', 'window', 'television', '.'], ['feel', 'go', 'work', ',', 'go', 'church', 'pay', 'taxes', '.']]\n"
          ]
        }
      ],
      "source": [
        "import nltk\n",
        "\n",
        "stopwords = nltk.corpus.stopwords.words('english')\n",
        "all_tokens = []\n",
        "\n",
        "# 위 예제의 3개의 문장별 얻은 word_tokens list 에 대해 stop word 제거 Loop\n",
        "for sentence in word_tokens:\n",
        "    filtered_words=[]\n",
        "    # 개별 문장별 tokenize된 sentence list에 대해 stop word 제거 Loop\n",
        "    for word in sentence:\n",
        "        #소문자로 모두 변환\n",
        "        word = word.lower()\n",
        "        # tokenize된 개별 word가 stop words들의 단어에 포함되지 않으면 -> word_tokens에 추가\n",
        "        if word not in stopwords:\n",
        "            filtered_words.append(word)\n",
        "    all_tokens.append(filtered_words)\n",
        "\n",
        "print(all_tokens)"
      ]
    },
    {
      "cell_type": "markdown",
      "metadata": {
        "id": "Ep4OeWAYjrvt"
      },
      "source": [
        "## Stemming과 Lemmatization\n",
        "- 문법적 또는 의미적으로 변화하는 단어의 원형을 찾는 것\n",
        "- Lemmatization이 Stemming보다 정교하고, 의미론적인 기반에서 단어 원형을 찾음\n",
        "  - Stemming : 원형 단어로 변환 시 일반적 방법을 적용하거나 더 단순화된 방법을 적용해 원래 단어에서 일부 철자가 훼손된 어근 단어를 추출하는 경향이 있음\n",
        "  - Lemmatization : 품사 같은 문법적 요소와 더 의미적인 부분을 감안해 정확한 철자로 된 어근 단어를 찾아줌, 소요 시간 더 긺\n",
        "\n",
        "- NLTK\n",
        "  - Stemmer : Poster, Lancaster, Snowball Stemmer\n",
        "  - Lemmatization : WordNetLemmatizer"
      ]
    },
    {
      "cell_type": "markdown",
      "source": [
        "- NLTK의 LancasterStemmer를 이용해 Stemmer 살펴보기\n",
        "  - 진행형, 3인칭 단수, 과거형에 따른 동사, 그리고 비교, 최상에 따른 형용사 변화에 따라 더 단순히 원형 단어를 찾음"
      ],
      "metadata": {
        "id": "1-rzcz5tCTxj"
      }
    },
    {
      "cell_type": "code",
      "execution_count": 8,
      "metadata": {
        "colab": {
          "base_uri": "https://localhost:8080/"
        },
        "id": "QndS2E55jrvt",
        "outputId": "6c752dac-cd0c-49a4-d488-5b1c6b717218"
      },
      "outputs": [
        {
          "output_type": "stream",
          "name": "stdout",
          "text": [
            "work work work\n",
            "amus amus amus\n",
            "happy happiest\n",
            "fant fanciest\n"
          ]
        }
      ],
      "source": [
        "from nltk.stem import LancasterStemmer\n",
        "stemmer = LancasterStemmer()\n",
        "\n",
        "print(stemmer.stem('working'),stemmer.stem('works'),stemmer.stem('worked'))\n",
        "print(stemmer.stem('amusing'),stemmer.stem('amuses'),stemmer.stem('amused'))\n",
        "print(stemmer.stem('happier'),stemmer.stem('happiest'))\n",
        "print(stemmer.stem('fancier'),stemmer.stem('fanciest'))"
      ]
    },
    {
      "cell_type": "markdown",
      "source": [
        "- WordNetLemmatizer를 이용한 Lemmatization 수행\n",
        "  - 단어 '품사'를 입력해줘야 함!"
      ],
      "metadata": {
        "id": "KjFjssjUCoPL"
      }
    },
    {
      "cell_type": "code",
      "execution_count": 9,
      "metadata": {
        "colab": {
          "base_uri": "https://localhost:8080/"
        },
        "id": "iwUr1Slhjrvt",
        "outputId": "5085ca2a-d395-4093-96ae-66353af3679c"
      },
      "outputs": [
        {
          "output_type": "stream",
          "name": "stderr",
          "text": [
            "[nltk_data] Downloading package wordnet to /root/nltk_data...\n"
          ]
        },
        {
          "output_type": "stream",
          "name": "stdout",
          "text": [
            "amuse amuse amuse\n",
            "happy happy\n",
            "fancy fancy\n"
          ]
        }
      ],
      "source": [
        "from nltk.stem import WordNetLemmatizer\n",
        "import nltk\n",
        "nltk.download('wordnet')\n",
        "\n",
        "lemma = WordNetLemmatizer()\n",
        "print(lemma.lemmatize('amusing','v'),lemma.lemmatize('amuses','v'),lemma.lemmatize('amused','v'))\n",
        "print(lemma.lemmatize('happier','a'),lemma.lemmatize('happiest','a'))\n",
        "print(lemma.lemmatize('fancier','a'),lemma.lemmatize('fanciest','a'))"
      ]
    },
    {
      "cell_type": "markdown",
      "metadata": {
        "id": "bfcF5ReLjrvu"
      },
      "source": [
        "# 8.3 Bag of Words – BOW\n",
        "- 문서가 가지는 모든 단어를 문맥이나 순서를 무시하고 일괄적으로 단어에 대한 빈도 값 부여해 피쳐값을 추춘하는 모델\n",
        "- 수행 방법\n",
        "  - 문장 1과 문장 2에 있는 모든 단어에서 중복을 제거하고, 각 단어(feature 또는 term)를 컬럼 형태로 나열 -> 그 다음, 각 단어에 고유 인덱스를 부여\n",
        "  - 개별 문장에서 해당 단어가 나타나는 횟수(Occurrence)를 각 단어(단어 인덱스)에 기재\n",
        "\n",
        "- 장점\n",
        "  - 쉽고 빠른 구축\n",
        "- 단점\n",
        "  - 문맥 의미(Semantic Context) 반영 부족\n",
        "    - 단어 순서를 고려하지 않아 문맥 의미가 무시됨\n",
        "    - n-gram으로 보완하기도 하지만, 제한적이기 때문에 완전히 분명하게 해결할 수 없음\n",
        "  - 희소 행렬 문제(희소성,희소 행렬)\n",
        "    - BOW로 피쳐 벡터화 수행 시 희소 행렬 형태의 데이터셋이 만들어짐\n",
        "    - 매우 많은 문서에서 단어의 총 개수는 수만 ~ 수십만개가 될 수 있는데, 하나의 문서에 있는 단어는 이 중 극히 일부분이기 때문에 대부분의 데이터는 0 값으로 채워지게 됨\n",
        "    - 이렇게 대규모 컬럼으로 구성된 행렬에서 대부분의 값이 0으로 채워지는 행렬을 희소 행렬이라 함\n",
        "    - <-> 밀집 행렬(대부분의 값이 0이 아닌 의미 있는 값으로 채워져 있는 행렬)\n",
        "    - **희소 행렬 -> ML 알고리즘의 수행 시간 및 예측 성능을 떨어뜨리니 이를 위한 기법이 마련되어 있음!**"
      ]
    },
    {
      "cell_type": "markdown",
      "source": [
        "## BOW 피쳐 벡터화\n",
        "- BOW 모델에서 피쳐 벡터화를 수행한다는 것\n",
        "  - 모든 문서에서 모든 단어를 컬럼 형태로 나열하고, 각 문서에서 해당 단어 횟수나 정규화된 빈도를 값으로 부여하는 데이터 세트 모델로 변경하는 것\n",
        "  - N개의 단어와 M개의 문서 -> 결과적으로 M x N개의 단어 피쳐로 이뤄진 행렬을 구성하게 됨\n",
        "\n",
        "- 대표 방식 2가지\n",
        "  - 카운트 기반 벡터화\n",
        "    - 단어 피쳐에 값 부여 시 각 문서에서 해당 단어가 나타나는 횟수를 Count로 부여하는 경우\n",
        "    - 카운트 값이 높을 수록 중요 단어로 인식\n",
        "    - 카운트만 부여하면, 그 문서 특징을 나타내기보단 언어 특성상 문장에서 자주 사용될 수 밖에 없는 단어까지 높은 값을 부여하게 됨\n",
        "  - TF-IDF(Term Frequency - Inverse Document Frequency) 기반 벡터화\n",
        "    - 카운트 기반 벡터화의 단점 보완\n",
        "    - 개별 문서에서 나타나는 단어에 높은 가중치 주되, 모든 문서에서 전반적으로 자주 나타나는 단어에 대해서는 패널티를 적용! -> 단어에 대한 가중치 균형을 맞추는 것\n"
      ],
      "metadata": {
        "id": "kr7BxiXlC7IE"
      }
    },
    {
      "cell_type": "markdown",
      "source": [
        "## 사이킷런의 Count 및 TF-IDF 벡터화 구현: CountVectorizer, TfidfVectorizer\n",
        "- CountVectorizer : 카운트 기반 벡터화 구현 클래스, 피쳐 벡터화만 하는 건 아니고 소문자 일괄 변환, 토큰화, 스톱 워드 필터링 등 텍스트 전처리도 함께 수행\n",
        "- 텍스트 전처리 및 피쳐 벡터화를 위한 입력 파라미터 설정해 동작\n",
        "![image](https://github.com/user-attachments/assets/16c52cc4-30f6-49b1-b7a4-281becbdfd56)\n",
        "\n",
        "- 처리 방법\n",
        "  - 영어\n",
        "    - 모든 문자를 소문자로 변경하는 등의 전처리 작업 수행(Default로 lowercase = True)\n",
        "    - 디폴트 단어 기준으로 n_gram_range를 반영해 각 단어 토큰화\n",
        "    - 텍스트 정규화 수행\n",
        "    - 단, stop_words='english'와 같이 stop_words 파라미터가 주어진 경우 스톱 워드 필터링만 가능\n",
        "      - 어근 변환의 경우 tokenizer 파라미터에 커스텀 어근 변환 함수를 적용해 어근 변환 수행 가능\n",
        "    - max_df, min_df, max_features 등의 파라미터 이용해 토큰화된 단어를 피쳐로 추출하고 단어 빈도수 벡터값을 적용\n",
        "- TF-IDF 벡터화 : TfidfVectorizer 클래스 이용"
      ],
      "metadata": {
        "id": "4u2t84yfFmaF"
      }
    },
    {
      "cell_type": "markdown",
      "source": [
        "## BOW 벡터화를 위한 희소 행렬\n",
        "- 사이킷런의 CountVectorizer/TfidfVectorizer를 이용해 텍스트를 피쳐 단위로 벡터화해 변환하고 CSR 형태의 희소 행렬을 반환\n",
        "- BOW 형태를 가진 언어 모델의 피쳐 벡터화는 대부분 희소 행렬임\n",
        "- COO 혹은 CSR을 통해 희소 행렬을 물리적으로 적은 메모리 공간을 차지할 수 있도록 변환해야 함\n",
        "- CSR이 일반적으로 큰 희소 행렬 저장 및 계산 수행 능력이 더 뛰어나서 자주 사용"
      ],
      "metadata": {
        "id": "_Uw904jMLE_U"
      }
    },
    {
      "cell_type": "markdown",
      "metadata": {
        "id": "K8maPDebjrvu"
      },
      "source": [
        "## 희소 행렬 - COO 형식\n",
        "- 0이 아닌 데이터만 별도의 데이터 배열(Array)에 저장, 그 데이터가 가리키는 행과 열의 위치를 별도 배열로 저장하는 방식\n",
        "- 희소 행렬 변환을 위해 주로 Scipy를 사용!"
      ]
    },
    {
      "cell_type": "markdown",
      "source": [
        "- 넘파이의 ndarray 객체로 만들기"
      ],
      "metadata": {
        "id": "36-cYAdiNC9O"
      }
    },
    {
      "cell_type": "code",
      "execution_count": 10,
      "metadata": {
        "id": "zr6P62NRjrvu"
      },
      "outputs": [],
      "source": [
        "import numpy as np\n",
        "\n",
        "dense = np.array( [ [ 3, 0, 1 ], [0, 2, 0 ] ] )"
      ]
    },
    {
      "cell_type": "markdown",
      "source": [
        "- 위의 밀집 행렬을 Scipy의 coo_matrix 클래스로 COO 형식의 희소 행렬로 변환\n",
        "  - 0이 아닌 데이터를 별도의 배열 데이터로 만들고, 행 위치 배열과 열 위치 배열을 각각 만든 후 coo_matrix() 내에 생성 파라미터로 입력하면 됨"
      ],
      "metadata": {
        "id": "q-mL0FGdNG6w"
      }
    },
    {
      "cell_type": "code",
      "execution_count": 11,
      "metadata": {
        "id": "Ws-WhVXCjrvu"
      },
      "outputs": [],
      "source": [
        "from scipy import sparse\n",
        "\n",
        "# 0이 아닌 데이터 추출\n",
        "data = np.array([3,1,2])\n",
        "\n",
        "# 행 위치와 열 위치를 각각 array로 생성\n",
        "row_pos = np.array([0,0,1])\n",
        "col_pos = np.array([0,2,1])\n",
        "\n",
        "# sparse 패키지의 coo_matrix를 이용하여 COO 형식으로 희소 행렬 생성\n",
        "sparse_coo = sparse.coo_matrix((data, (row_pos,col_pos)))"
      ]
    },
    {
      "cell_type": "markdown",
      "source": [
        "- 다시 toarray()를 이용해 밀집 형태 행렬로 표현"
      ],
      "metadata": {
        "id": "JcwkPJxuNbAD"
      }
    },
    {
      "cell_type": "code",
      "execution_count": 12,
      "metadata": {
        "colab": {
          "base_uri": "https://localhost:8080/"
        },
        "id": "R8QSAnU8jrvu",
        "outputId": "9ed9fed5-f92a-48f3-be0a-d6120894b308"
      },
      "outputs": [
        {
          "output_type": "execute_result",
          "data": {
            "text/plain": [
              "array([[3, 0, 1],\n",
              "       [0, 2, 0]])"
            ]
          },
          "metadata": {},
          "execution_count": 12
        }
      ],
      "source": [
        "sparse_coo.toarray()"
      ]
    },
    {
      "cell_type": "markdown",
      "metadata": {
        "id": "Bv4dKK0ajrvu"
      },
      "source": [
        "## 희소 행렬 – CSR 형식\n",
        "- Compressed Sparse Row\n",
        "- COO 형식이 행과 열 위치를 나타내기 위해 반복적 위치 데이터 사용의 문제를 발생시키는 것을 해결"
      ]
    },
    {
      "cell_type": "markdown",
      "source": [
        "- COO 변환 형식의 문제점부터 파악\n",
        "- `[[0,0,1,0,0,5], [1,4,0,3,2,5], [0,6,0,3,0,0], [2,0,0,0,0,0], [0,0,0,7,0,8], [1,0,0,0,0,0]]`를 COO로 변환하면\n",
        "  - 데이터 배열 : [1, 5, 1, 4, 3, 2, 5, 6, 3, 2, 7, 8, 1]\n",
        "  - 행 위치 배열 : [0, 0, 1, 1, 1, 1, 1, 2, 2, 3, 4, 4, 5]\n",
        "  - 열 위치 배열 : [2, 5, 0, 1, 3, 4, 5, 1, 3, 0, 3, 5, 0]\n",
        "- 행 위치 배열에서의 문제점\n",
        "  - 순차적인 같은 값이 반복적으로 나타남\n",
        "  - 이것을 -> 행 위치 배열의 고유 값 시작 위치만 표기하는 방법으로 이러한 반복을 제거할 수 있음(위치의 위치를 표기하는 것)\n",
        "  - 행 위치 배열의 첫번째(인덱스 0)는 0, 두번째(인덱스 1)는 0, 세번째(인덱스 2)는 1이라면 -> 행 위치 배열의 고유 값 시작 위치는 첫 번째, 세번째이며 인덱스 기준으로 [0, 2]임\n",
        "\n",
        "- CSR\n",
        "  - 이렇게 행 위치 배열 내에 있는 고유 값의 시작 위치만 다시 별도의 위치 배열로 가지는 변환 방식을 의미!\n",
        "  - 행 위치 배열 [0, 0, 1, 1, 1, 1, 1, 2, 2, 3, 4, 4, 5]를 CSR로 변환 -> [0, 2, 7, 9, 10, 12]\n",
        "  - 맨 마지막에는 데이터 총 항목 개수를 배열에 추가\n",
        "  - 최종 CSR 변환 배열 : [0, 2, 7, 9, 10, 12, 13]\n",
        "  - 고유값 시작 위치만 알고 있으면 얼마든지 행 위치 배열을 새로 만들 수 있어 COO 방식보다 메모리 적게 들고 빠른 연산 가능!"
      ],
      "metadata": {
        "id": "UiDHH_w2Oo9h"
      }
    },
    {
      "cell_type": "markdown",
      "source": [
        "- CSR은 coo_matrix 클래스로 쉽게 구현 가능"
      ],
      "metadata": {
        "id": "SbUY5eY7QbMQ"
      }
    },
    {
      "cell_type": "code",
      "execution_count": 13,
      "metadata": {
        "colab": {
          "base_uri": "https://localhost:8080/"
        },
        "id": "rb9z7JmMjrvu",
        "outputId": "41efc1cf-36e0-4225-9832-4776f794c2fe"
      },
      "outputs": [
        {
          "output_type": "stream",
          "name": "stdout",
          "text": [
            "COO 변환된 데이터가 제대로 되었는지 다시 Dense로 출력 확인\n",
            "[[0 0 1 0 0 5]\n",
            " [1 4 0 3 2 5]\n",
            " [0 6 0 3 0 0]\n",
            " [2 0 0 0 0 0]\n",
            " [0 0 0 7 0 8]\n",
            " [1 0 0 0 0 0]]\n",
            "CSR 변환된 데이터가 제대로 되었는지 다시 Dense로 출력 확인\n",
            "[[0 0 1 0 0 5]\n",
            " [1 4 0 3 2 5]\n",
            " [0 6 0 3 0 0]\n",
            " [2 0 0 0 0 0]\n",
            " [0 0 0 7 0 8]\n",
            " [1 0 0 0 0 0]]\n"
          ]
        }
      ],
      "source": [
        "from scipy import sparse\n",
        "\n",
        "dense2 = np.array([[0,0,1,0,0,5],\n",
        "             [1,4,0,3,2,5],\n",
        "             [0,6,0,3,0,0],\n",
        "             [2,0,0,0,0,0],\n",
        "             [0,0,0,7,0,8],\n",
        "             [1,0,0,0,0,0]])\n",
        "\n",
        "# 0이 아닌 데이터 추출\n",
        "data2 = np.array([1, 5, 1, 4, 3, 2, 5, 6, 3, 2, 7, 8, 1])\n",
        "\n",
        "# 행 위치와 열 위치를 각각 array로 생성\n",
        "row_pos = np.array([0, 0, 1, 1, 1, 1, 1, 2, 2, 3, 4, 4, 5])\n",
        "col_pos = np.array([2, 5, 0, 1, 3, 4, 5, 1, 3, 0, 3, 5, 0])\n",
        "\n",
        "# COO 형식으로 변환\n",
        "sparse_coo = sparse.coo_matrix((data2, (row_pos,col_pos)))\n",
        "\n",
        "# 행 위치 배열의 고유한 값들의 시작 위치 인덱스를 배열로 생성\n",
        "row_pos_ind = np.array([0, 2, 7, 9, 10, 12, 13])\n",
        "\n",
        "# CSR 형식으로 변환\n",
        "sparse_csr = sparse.csr_matrix((data2, col_pos, row_pos_ind))\n",
        "\n",
        "print('COO 변환된 데이터가 제대로 되었는지 다시 Dense로 출력 확인')\n",
        "print(sparse_coo.toarray())\n",
        "print('CSR 변환된 데이터가 제대로 되었는지 다시 Dense로 출력 확인')\n",
        "print(sparse_csr.toarray())"
      ]
    },
    {
      "cell_type": "markdown",
      "source": [
        "- 실제 사용 시에는 아래처럼 밀집 행렬을 생성 파라미터로 입력하면 COO or CSR 희소 행렬로 생성!"
      ],
      "metadata": {
        "id": "kXf7K_JBQllL"
      }
    },
    {
      "cell_type": "code",
      "execution_count": 14,
      "metadata": {
        "id": "wCOuwd0Ojrvu"
      },
      "outputs": [],
      "source": [
        "dense3 = np.array([[0,0,1,0,0,5],\n",
        "             [1,4,0,3,2,5],\n",
        "             [0,6,0,3,0,0],\n",
        "             [2,0,0,0,0,0],\n",
        "             [0,0,0,7,0,8],\n",
        "             [1,0,0,0,0,0]])\n",
        "\n",
        "coo = sparse.coo_matrix(dense3)\n",
        "csr = sparse.csr_matrix(dense3)"
      ]
    }
  ],
  "metadata": {
    "kernelspec": {
      "display_name": "Python 3 (ipykernel)",
      "language": "python",
      "name": "python3"
    },
    "language_info": {
      "codemirror_mode": {
        "name": "ipython",
        "version": 3
      },
      "file_extension": ".py",
      "mimetype": "text/x-python",
      "name": "python",
      "nbconvert_exporter": "python",
      "pygments_lexer": "ipython3",
      "version": "3.9.7"
    },
    "colab": {
      "provenance": [],
      "collapsed_sections": [
        "i3s_9RcPjsfM"
      ],
      "toc_visible": true,
      "include_colab_link": true
    }
  },
  "nbformat": 4,
  "nbformat_minor": 0
}