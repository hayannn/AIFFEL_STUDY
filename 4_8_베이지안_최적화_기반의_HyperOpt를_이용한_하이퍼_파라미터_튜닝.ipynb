{
  "cells": [
    {
      "cell_type": "markdown",
      "metadata": {
        "id": "view-in-github",
        "colab_type": "text"
      },
      "source": [
        "<a href=\"https://colab.research.google.com/github/hayannn/AIFFEL_STUDY/blob/main/4_8_%E1%84%87%E1%85%A6%E1%84%8B%E1%85%B5%E1%84%8C%E1%85%B5%E1%84%8B%E1%85%A1%E1%86%AB_%E1%84%8E%E1%85%AC%E1%84%8C%E1%85%A5%E1%86%A8%E1%84%92%E1%85%AA_%E1%84%80%E1%85%B5%E1%84%87%E1%85%A1%E1%86%AB%E1%84%8B%E1%85%B4_HyperOpt%E1%84%85%E1%85%B3%E1%86%AF_%E1%84%8B%E1%85%B5%E1%84%8B%E1%85%AD%E1%86%BC%E1%84%92%E1%85%A1%E1%86%AB_%E1%84%92%E1%85%A1%E1%84%8B%E1%85%B5%E1%84%91%E1%85%A5_%E1%84%91%E1%85%A1%E1%84%85%E1%85%A1%E1%84%86%E1%85%B5%E1%84%90%E1%85%A5_%E1%84%90%E1%85%B2%E1%84%82%E1%85%B5%E1%86%BC.ipynb\" target=\"_parent\"><img src=\"https://colab.research.google.com/assets/colab-badge.svg\" alt=\"Open In Colab\"/></a>"
      ]
    },
    {
      "cell_type": "markdown",
      "source": [
        "# 08. 베이지안 최적화 기반의 HyperOpt를 이용한 하이퍼 파라미터 튜닝\n",
        "### 베이지안 최적화 개요\n",
        "- 목적 함수식을 제대로 알 수 없는 블랙 박스 형태의 함수에서 최대 또는 최소 함수 반환 값을 만드는 최적 입력값을 가능한 적은 시도를 통해 빠르고 효과적으로 찾아주는 방식\n",
        "- 베이지안 확률에 기반을 두고 있는 최적화 기법\n",
        "- 베이지안 확률이 새로운 사건의 관측이나 새로운 샘플 데이터를 기반으로 사후 확률을 개선해나가듯, 베이지안 최적화는 새로운 데이터를 입력받았을 때 최적 함수를 예측하는 사후 모델을 개선해나가며 최적 함수 모델을 만들어냄\n",
        "\n",
        "<br>\n",
        "\n",
        "### 베이지안 최적화 구성의 2가지 중요 요소\n",
        "- 대체 모델(Surrogate Model)\n",
        "  - 획득 함수로부터 최적 함수를 예측할 수 있는 입력값을 추천받은 뒤, 이를 기반으로 최적 함수 모델을 개선\n",
        "- 획득 함수(Acquisition Function)\n",
        "  - 획득 함수는 개선된 대체 모델을 기반으로 최적 입력값 계산\n",
        "- 베이지안 최적화를 하이퍼 파라미터 튜닝에 사용할 때에는 입력값이 하이퍼 파라미터가 됨\n",
        "  - 즉, 대체 모델은 획득 함수가 계산한 하이퍼 파라미터를 입력받으며 점차 개선, 개선된 대체 모델을 기반으로 획득 함수는 더 정확한 하이퍼 파라미터를 계산\n",
        "\n",
        "<br>\n",
        "\n",
        "### 베이지안 최적화 단계\n",
        "#### Step 1\n",
        "- 최초에는 랜덤하게 하이퍼 파라미터들을 샘플링해 성능 결과 관측\n",
        "- 검은색 원은 특정 하이퍼 파라미터가 입력되었을 경우 관측된 성능 지표 결과값을 뜻함\n",
        "- 주황색 사선은 찾아야 할 목표 최적함수 <br>\n",
        "<img width=\"332\" alt=\"image\" src=\"https://github.com/user-attachments/assets/974e5207-3028-41ba-9ba0-82ca8939768c\">\n",
        "\n",
        "<br>\n",
        "\n",
        "#### Step 2\n",
        "- 관측된 값을 기반으로 대체 모델은 최적함수를 추정\n",
        "- 파란색 실선은 대체 모델이 추정한 최적 함수\n",
        "- 옅은 파란색 영역은 예측된 함수의 신뢰 구간 = 추정된 함수의 결과값 오류 편차 = 추정함수의 불확실성\n",
        "- 최적 관측값은 y축 value에서 가장 높은 값을 가질 때의 하이퍼 파라미터 <br>\n",
        "<img width=\"349\" alt=\"image\" src=\"https://github.com/user-attachments/assets/61576ad8-6b4b-4dc6-8b0e-efbbfc328101\">\n",
        "\n",
        "<br>\n",
        "\n",
        "#### Step 3\n",
        "- 추정된 최적 함수를 기반으로 획득 함수(Acquisition Function)는 다음 관측을 할 하이퍼 파라미터 값 계산\n",
        "- 획득 함수는 이전 최적 관측값보다 더 큰 최댓값을 가질 가능성이 높은 지점을 찾아 다음에 관측할 하이퍼 파라미터를 대체 모델에 전달 <br>\n",
        "<img width=\"349\" alt=\"image\" src=\"https://github.com/user-attachments/assets/078be85e-1fb3-49bd-9cf7-adc93280a59a\">\n",
        "\n",
        "<br>\n",
        "\n",
        "#### Step 4\n",
        "- 획득 함수로부터 전달된 하이퍼 파라미터를 수행해 관측된 값을 기반으로 대체 모델은 갱신되어 다시 최적 함수 예측 추정 <br>\n",
        "<img width=\"331\" alt=\"image\" src=\"https://github.com/user-attachments/assets/b08b59e4-c124-4a08-aaa1-3ecfd8fe7dd5\">\n",
        "\n",
        "> Step 3와 Step 4를 특정 횟수만큼 반복 -> 대체 모델의 불확실성 개선, 점차 정확한 최적 함수 추정이 가능해짐\n",
        "\n",
        "- 대체 모델\n",
        "  - 최적 함수를 추정할 때 다양한 알고리즘 사용 가능\n",
        "  - 일반적으로 가우시안 프로세스(Gaussian Process) 적용\n",
        "  - HyperOpt는 가우시안 프로세스가 아닌 트리 파르젠 Estimator(TPE, Tree-structure Parzen Estimator) 사용\n",
        "\n",
        "<br>\n",
        "\n",
        "### HyperOpt 사용하기\n",
        "- 주요 로직\n",
        "  - 입력 변수명과 입력값의 검색 공간(Search Space) 설정\n",
        "  - 목적 함수(Objective Function) 설정\n",
        "  - 목적 함수의 반환 최솟값을 가지는 최적 입력값을 유추\n",
        "\n",
        "- 유의점\n",
        "  - 다른 패키지와는 달리 목적 함수 반환값의 최댓값이 아닌 최솟값을 가지는 최적 입력값을 유추한다는 것"
      ],
      "metadata": {
        "id": "4pwucMpwf5-a"
      },
      "id": "4pwucMpwf5-a"
    },
    {
      "cell_type": "code",
      "execution_count": null,
      "id": "2d57320f",
      "metadata": {
        "id": "2d57320f"
      },
      "outputs": [],
      "source": [
        "#pip install hyperopt"
      ]
    },
    {
      "cell_type": "code",
      "execution_count": 1,
      "id": "6ff2c890",
      "metadata": {
        "colab": {
          "base_uri": "https://localhost:8080/"
        },
        "id": "6ff2c890",
        "outputId": "62305cee-db73-4ff2-8b83-dcb9301ccfe8"
      },
      "outputs": [
        {
          "output_type": "stream",
          "name": "stdout",
          "text": [
            "0.2.7\n"
          ]
        }
      ],
      "source": [
        "import hyperopt\n",
        "\n",
        "print(hyperopt.__version__)"
      ]
    },
    {
      "cell_type": "code",
      "execution_count": null,
      "id": "59720ff7",
      "metadata": {
        "id": "59720ff7"
      },
      "outputs": [],
      "source": [
        "from hyperopt import hp\n",
        "\n",
        "# -10 ~ 10까지 1간격을 가지는 입력 변수 x와 -15 ~ 15까지 1간격으로 입력 변수 y 설정.\n",
        "search_space = {'x': hp.quniform('x', -10, 10, 1), 'y': hp.quniform('y', -15, 15, 1) }"
      ]
    },
    {
      "cell_type": "markdown",
      "source": [
        "### 입력값의 검색 공간을 제공하는 대표 함수\n",
        "- `hp.quniform(label, low, high, q)` : label로 지정된 입력값 변수 검색 공간을 최솟값 low에서 최댓값 high까지 q 간격으로 설정\n",
        "- `hp.quniform(label, low, high)` : 최솟값 low에서 최댓값 high까지 정규 분포 형태의 검색 공간 설정\n",
        "- `hp.randint(label, upper)` : 0부터 최댓값 upper까지 random한 정숫값으로 검색 공간 설정\n",
        "- `hp.loguniform(label, low, high)` : exp(uniform(low, high)) 값 반환, 반환값의 log 변환된 값은 정규 분포 형태를 가지는 검색 공간 설정\n",
        "- `hp.choice(label, options)` : 검색값이 문자열 또는 문자열과 숫자가 섞여 있을 경우 설정\n",
        "  - Options : 리스트나 튜플 형태로 제공\n",
        "  - hp.choice('tree_criterion',['gini', 'entropy'])와 같은 설정 -> 입력 변수 tree_criterion 값을 'gini'와 'entropy'로 설정해 입력\n"
      ],
      "metadata": {
        "id": "DwhjbNkC1uoM"
      },
      "id": "DwhjbNkC1uoM"
    },
    {
      "cell_type": "markdown",
      "source": [
        "<br>\n",
        "\n",
        "### 목적 함수 생성\n",
        "- 반드시 변수값과 검색 공간을 가지는 딕셔너리를 인자로 받고, 특정 값을 반환하는 구조로 만들어져야 함"
      ],
      "metadata": {
        "id": "xmrAGN173iQi"
      },
      "id": "xmrAGN173iQi"
    },
    {
      "cell_type": "code",
      "execution_count": null,
      "id": "53ecdd65",
      "metadata": {
        "id": "53ecdd65"
      },
      "outputs": [],
      "source": [
        "from hyperopt import STATUS_OK\n",
        "\n",
        "# 목적 함수 생성 -> 변숫값과 변수 검색 공간을 가지는 딕셔너리를 인자로 받고, 특정 값을 반환\n",
        "def objective_func(search_space):\n",
        "    x = search_space['x']\n",
        "    y = search_space['y']\n",
        "    retval = x**2 - 20*y\n",
        "\n",
        "    return retval"
      ]
    },
    {
      "cell_type": "markdown",
      "source": [
        "- fmin() 함수의 주요 인자\n",
        "  - fn, space, algo, max_evals, trials, rstate"
      ],
      "metadata": {
        "id": "SaNnULB13v2-"
      },
      "id": "SaNnULB13v2-"
    },
    {
      "cell_type": "code",
      "execution_count": null,
      "id": "0022844b",
      "metadata": {
        "colab": {
          "base_uri": "https://localhost:8080/"
        },
        "id": "0022844b",
        "outputId": "24d65f77-da34-4439-b336-c7efc69d2452"
      },
      "outputs": [
        {
          "output_type": "stream",
          "name": "stdout",
          "text": [
            "100%|██████████| 5/5 [00:00<00:00, 544.05trial/s, best loss: -224.0]\n",
            "best: {'x': -4.0, 'y': 12.0}\n"
          ]
        }
      ],
      "source": [
        "from hyperopt import fmin, tpe, Trials\n",
        "import numpy as np\n",
        "\n",
        "# 입력 결괏값을 저장한 Trials 객체값 생성.\n",
        "trial_val = Trials()\n",
        "\n",
        "# 목적 함수의 최솟값을 반환하는 최적 입력 변숫값을 5번의 입력값 시도(max_evals=5)로 찾아냄.\n",
        "best_01 = fmin(fn=objective_func, space=search_space, algo=tpe.suggest, max_evals=5\n",
        "               , trials=trial_val, rstate=np.random.default_rng(seed=0))\n",
        "print('best:', best_01)"
      ]
    },
    {
      "cell_type": "markdown",
      "source": [
        "- best_01 변수값 확인\n",
        "  - 입력 변수 x의 공간 -10 ~ 10, y의 공간 -15 ~ 15\n",
        "  - 목적 함수 반환값을 $x^2 - 20y$로 설정\n",
        "  - x는 0에 가까울수록, y는 15에 가까울수록 반환값이 최소로 근사됨\n",
        "\n",
        "<br>"
      ],
      "metadata": {
        "id": "URjO2ccj4aCq"
      },
      "id": "URjO2ccj4aCq"
    },
    {
      "cell_type": "code",
      "execution_count": null,
      "id": "b29e3a4d",
      "metadata": {
        "colab": {
          "base_uri": "https://localhost:8080/"
        },
        "id": "b29e3a4d",
        "outputId": "b0c73dfd-ac33-4cc8-ec89-f64ac8705959"
      },
      "outputs": [
        {
          "output_type": "stream",
          "name": "stdout",
          "text": [
            "100%|██████████| 20/20 [00:00<00:00, 221.72trial/s, best loss: -296.0]\n",
            "best: {'x': 2.0, 'y': 15.0}\n"
          ]
        }
      ],
      "source": [
        "trial_val = Trials()\n",
        "\n",
        "# max_evals를 20회로 늘려서 재테스트\n",
        "best_02 = fmin(fn=objective_func, space=search_space, algo=tpe.suggest, max_evals=20\n",
        "               , trials=trial_val, rstate=np.random.default_rng(seed=0))\n",
        "print('best:', best_02)"
      ]
    },
    {
      "cell_type": "markdown",
      "source": [
        "- 그리드 서치 : 순차적으로 x, y 변수값을 입력해 최소 함수 반환값을 찾는다면 최대 21x31 = 651회의 반복 필요\n",
        "- 베이지안 최적화 : 20회의 반복만으로 일정 수준의 최적값 근사\n",
        "\n",
        "<br>"
      ],
      "metadata": {
        "id": "JL7ZE2Ss470P"
      },
      "id": "JL7ZE2Ss470P"
    },
    {
      "cell_type": "code",
      "execution_count": null,
      "id": "69910b83",
      "metadata": {
        "colab": {
          "base_uri": "https://localhost:8080/"
        },
        "id": "69910b83",
        "outputId": "f41a737a-d9cb-4e29-e2dc-fcfc9d60b659"
      },
      "outputs": [
        {
          "output_type": "stream",
          "name": "stdout",
          "text": [
            "[{'loss': -64.0, 'status': 'ok'}, {'loss': -184.0, 'status': 'ok'}, {'loss': 56.0, 'status': 'ok'}, {'loss': -224.0, 'status': 'ok'}, {'loss': 61.0, 'status': 'ok'}, {'loss': -296.0, 'status': 'ok'}, {'loss': -40.0, 'status': 'ok'}, {'loss': 281.0, 'status': 'ok'}, {'loss': 64.0, 'status': 'ok'}, {'loss': 100.0, 'status': 'ok'}, {'loss': 60.0, 'status': 'ok'}, {'loss': -39.0, 'status': 'ok'}, {'loss': 1.0, 'status': 'ok'}, {'loss': -164.0, 'status': 'ok'}, {'loss': 21.0, 'status': 'ok'}, {'loss': -56.0, 'status': 'ok'}, {'loss': 284.0, 'status': 'ok'}, {'loss': 176.0, 'status': 'ok'}, {'loss': -171.0, 'status': 'ok'}, {'loss': 0.0, 'status': 'ok'}]\n"
          ]
        }
      ],
      "source": [
        "# fmin( )에 인자로 들어가는 Trials 객체의 result 속성에 파이썬 리스트로 목적 함수 반환값들이 저장됨\n",
        "# 리스트 내부의 개별 원소는 {'loss':함수 반환값, 'status':반환 상태값} 와 같은 딕셔너리임.\n",
        "print(trial_val.results)"
      ]
    },
    {
      "cell_type": "code",
      "execution_count": null,
      "id": "4f52a94f",
      "metadata": {
        "colab": {
          "base_uri": "https://localhost:8080/"
        },
        "id": "4f52a94f",
        "outputId": "5272df10-6091-4ea7-f620-b440db90a54a"
      },
      "outputs": [
        {
          "output_type": "stream",
          "name": "stdout",
          "text": [
            "{'x': [-6.0, -4.0, 4.0, -4.0, 9.0, 2.0, 10.0, -9.0, -8.0, -0.0, -0.0, 1.0, 9.0, 6.0, 9.0, 2.0, -2.0, -4.0, 7.0, -0.0], 'y': [5.0, 10.0, -2.0, 12.0, 1.0, 15.0, 7.0, -10.0, 0.0, -5.0, -3.0, 2.0, 4.0, 10.0, 3.0, 3.0, -14.0, -8.0, 11.0, -0.0]}\n"
          ]
        }
      ],
      "source": [
        "# Trials 객체의 vals 속성에 {'입력변수명':개별 수행 시마다 입력된 값 리스트} 형태로 저장됨.\n",
        "print(trial_val.vals)"
      ]
    },
    {
      "cell_type": "code",
      "execution_count": null,
      "id": "3596f8c2",
      "metadata": {
        "colab": {
          "base_uri": "https://localhost:8080/",
          "height": 677
        },
        "id": "3596f8c2",
        "outputId": "bcc63c6d-cce9-46a9-dfe9-36aea65d422c"
      },
      "outputs": [
        {
          "output_type": "execute_result",
          "data": {
            "text/plain": [
              "       x     y  losses\n",
              "0   -6.0   5.0   -64.0\n",
              "1   -4.0  10.0  -184.0\n",
              "2    4.0  -2.0    56.0\n",
              "3   -4.0  12.0  -224.0\n",
              "4    9.0   1.0    61.0\n",
              "5    2.0  15.0  -296.0\n",
              "6   10.0   7.0   -40.0\n",
              "7   -9.0 -10.0   281.0\n",
              "8   -8.0   0.0    64.0\n",
              "9   -0.0  -5.0   100.0\n",
              "10  -0.0  -3.0    60.0\n",
              "11   1.0   2.0   -39.0\n",
              "12   9.0   4.0     1.0\n",
              "13   6.0  10.0  -164.0\n",
              "14   9.0   3.0    21.0\n",
              "15   2.0   3.0   -56.0\n",
              "16  -2.0 -14.0   284.0\n",
              "17  -4.0  -8.0   176.0\n",
              "18   7.0  11.0  -171.0\n",
              "19  -0.0  -0.0     0.0"
            ],
            "text/html": [
              "\n",
              "  <div id=\"df-56a93728-323c-4134-9f7f-d0f8bee63c08\" class=\"colab-df-container\">\n",
              "    <div>\n",
              "<style scoped>\n",
              "    .dataframe tbody tr th:only-of-type {\n",
              "        vertical-align: middle;\n",
              "    }\n",
              "\n",
              "    .dataframe tbody tr th {\n",
              "        vertical-align: top;\n",
              "    }\n",
              "\n",
              "    .dataframe thead th {\n",
              "        text-align: right;\n",
              "    }\n",
              "</style>\n",
              "<table border=\"1\" class=\"dataframe\">\n",
              "  <thead>\n",
              "    <tr style=\"text-align: right;\">\n",
              "      <th></th>\n",
              "      <th>x</th>\n",
              "      <th>y</th>\n",
              "      <th>losses</th>\n",
              "    </tr>\n",
              "  </thead>\n",
              "  <tbody>\n",
              "    <tr>\n",
              "      <th>0</th>\n",
              "      <td>-6.0</td>\n",
              "      <td>5.0</td>\n",
              "      <td>-64.0</td>\n",
              "    </tr>\n",
              "    <tr>\n",
              "      <th>1</th>\n",
              "      <td>-4.0</td>\n",
              "      <td>10.0</td>\n",
              "      <td>-184.0</td>\n",
              "    </tr>\n",
              "    <tr>\n",
              "      <th>2</th>\n",
              "      <td>4.0</td>\n",
              "      <td>-2.0</td>\n",
              "      <td>56.0</td>\n",
              "    </tr>\n",
              "    <tr>\n",
              "      <th>3</th>\n",
              "      <td>-4.0</td>\n",
              "      <td>12.0</td>\n",
              "      <td>-224.0</td>\n",
              "    </tr>\n",
              "    <tr>\n",
              "      <th>4</th>\n",
              "      <td>9.0</td>\n",
              "      <td>1.0</td>\n",
              "      <td>61.0</td>\n",
              "    </tr>\n",
              "    <tr>\n",
              "      <th>5</th>\n",
              "      <td>2.0</td>\n",
              "      <td>15.0</td>\n",
              "      <td>-296.0</td>\n",
              "    </tr>\n",
              "    <tr>\n",
              "      <th>6</th>\n",
              "      <td>10.0</td>\n",
              "      <td>7.0</td>\n",
              "      <td>-40.0</td>\n",
              "    </tr>\n",
              "    <tr>\n",
              "      <th>7</th>\n",
              "      <td>-9.0</td>\n",
              "      <td>-10.0</td>\n",
              "      <td>281.0</td>\n",
              "    </tr>\n",
              "    <tr>\n",
              "      <th>8</th>\n",
              "      <td>-8.0</td>\n",
              "      <td>0.0</td>\n",
              "      <td>64.0</td>\n",
              "    </tr>\n",
              "    <tr>\n",
              "      <th>9</th>\n",
              "      <td>-0.0</td>\n",
              "      <td>-5.0</td>\n",
              "      <td>100.0</td>\n",
              "    </tr>\n",
              "    <tr>\n",
              "      <th>10</th>\n",
              "      <td>-0.0</td>\n",
              "      <td>-3.0</td>\n",
              "      <td>60.0</td>\n",
              "    </tr>\n",
              "    <tr>\n",
              "      <th>11</th>\n",
              "      <td>1.0</td>\n",
              "      <td>2.0</td>\n",
              "      <td>-39.0</td>\n",
              "    </tr>\n",
              "    <tr>\n",
              "      <th>12</th>\n",
              "      <td>9.0</td>\n",
              "      <td>4.0</td>\n",
              "      <td>1.0</td>\n",
              "    </tr>\n",
              "    <tr>\n",
              "      <th>13</th>\n",
              "      <td>6.0</td>\n",
              "      <td>10.0</td>\n",
              "      <td>-164.0</td>\n",
              "    </tr>\n",
              "    <tr>\n",
              "      <th>14</th>\n",
              "      <td>9.0</td>\n",
              "      <td>3.0</td>\n",
              "      <td>21.0</td>\n",
              "    </tr>\n",
              "    <tr>\n",
              "      <th>15</th>\n",
              "      <td>2.0</td>\n",
              "      <td>3.0</td>\n",
              "      <td>-56.0</td>\n",
              "    </tr>\n",
              "    <tr>\n",
              "      <th>16</th>\n",
              "      <td>-2.0</td>\n",
              "      <td>-14.0</td>\n",
              "      <td>284.0</td>\n",
              "    </tr>\n",
              "    <tr>\n",
              "      <th>17</th>\n",
              "      <td>-4.0</td>\n",
              "      <td>-8.0</td>\n",
              "      <td>176.0</td>\n",
              "    </tr>\n",
              "    <tr>\n",
              "      <th>18</th>\n",
              "      <td>7.0</td>\n",
              "      <td>11.0</td>\n",
              "      <td>-171.0</td>\n",
              "    </tr>\n",
              "    <tr>\n",
              "      <th>19</th>\n",
              "      <td>-0.0</td>\n",
              "      <td>-0.0</td>\n",
              "      <td>0.0</td>\n",
              "    </tr>\n",
              "  </tbody>\n",
              "</table>\n",
              "</div>\n",
              "    <div class=\"colab-df-buttons\">\n",
              "\n",
              "  <div class=\"colab-df-container\">\n",
              "    <button class=\"colab-df-convert\" onclick=\"convertToInteractive('df-56a93728-323c-4134-9f7f-d0f8bee63c08')\"\n",
              "            title=\"Convert this dataframe to an interactive table.\"\n",
              "            style=\"display:none;\">\n",
              "\n",
              "  <svg xmlns=\"http://www.w3.org/2000/svg\" height=\"24px\" viewBox=\"0 -960 960 960\">\n",
              "    <path d=\"M120-120v-720h720v720H120Zm60-500h600v-160H180v160Zm220 220h160v-160H400v160Zm0 220h160v-160H400v160ZM180-400h160v-160H180v160Zm440 0h160v-160H620v160ZM180-180h160v-160H180v160Zm440 0h160v-160H620v160Z\"/>\n",
              "  </svg>\n",
              "    </button>\n",
              "\n",
              "  <style>\n",
              "    .colab-df-container {\n",
              "      display:flex;\n",
              "      gap: 12px;\n",
              "    }\n",
              "\n",
              "    .colab-df-convert {\n",
              "      background-color: #E8F0FE;\n",
              "      border: none;\n",
              "      border-radius: 50%;\n",
              "      cursor: pointer;\n",
              "      display: none;\n",
              "      fill: #1967D2;\n",
              "      height: 32px;\n",
              "      padding: 0 0 0 0;\n",
              "      width: 32px;\n",
              "    }\n",
              "\n",
              "    .colab-df-convert:hover {\n",
              "      background-color: #E2EBFA;\n",
              "      box-shadow: 0px 1px 2px rgba(60, 64, 67, 0.3), 0px 1px 3px 1px rgba(60, 64, 67, 0.15);\n",
              "      fill: #174EA6;\n",
              "    }\n",
              "\n",
              "    .colab-df-buttons div {\n",
              "      margin-bottom: 4px;\n",
              "    }\n",
              "\n",
              "    [theme=dark] .colab-df-convert {\n",
              "      background-color: #3B4455;\n",
              "      fill: #D2E3FC;\n",
              "    }\n",
              "\n",
              "    [theme=dark] .colab-df-convert:hover {\n",
              "      background-color: #434B5C;\n",
              "      box-shadow: 0px 1px 3px 1px rgba(0, 0, 0, 0.15);\n",
              "      filter: drop-shadow(0px 1px 2px rgba(0, 0, 0, 0.3));\n",
              "      fill: #FFFFFF;\n",
              "    }\n",
              "  </style>\n",
              "\n",
              "    <script>\n",
              "      const buttonEl =\n",
              "        document.querySelector('#df-56a93728-323c-4134-9f7f-d0f8bee63c08 button.colab-df-convert');\n",
              "      buttonEl.style.display =\n",
              "        google.colab.kernel.accessAllowed ? 'block' : 'none';\n",
              "\n",
              "      async function convertToInteractive(key) {\n",
              "        const element = document.querySelector('#df-56a93728-323c-4134-9f7f-d0f8bee63c08');\n",
              "        const dataTable =\n",
              "          await google.colab.kernel.invokeFunction('convertToInteractive',\n",
              "                                                    [key], {});\n",
              "        if (!dataTable) return;\n",
              "\n",
              "        const docLinkHtml = 'Like what you see? Visit the ' +\n",
              "          '<a target=\"_blank\" href=https://colab.research.google.com/notebooks/data_table.ipynb>data table notebook</a>'\n",
              "          + ' to learn more about interactive tables.';\n",
              "        element.innerHTML = '';\n",
              "        dataTable['output_type'] = 'display_data';\n",
              "        await google.colab.output.renderOutput(dataTable, element);\n",
              "        const docLink = document.createElement('div');\n",
              "        docLink.innerHTML = docLinkHtml;\n",
              "        element.appendChild(docLink);\n",
              "      }\n",
              "    </script>\n",
              "  </div>\n",
              "\n",
              "\n",
              "<div id=\"df-36c9f7ca-8003-4dc2-b6bb-0d4d2f13562a\">\n",
              "  <button class=\"colab-df-quickchart\" onclick=\"quickchart('df-36c9f7ca-8003-4dc2-b6bb-0d4d2f13562a')\"\n",
              "            title=\"Suggest charts\"\n",
              "            style=\"display:none;\">\n",
              "\n",
              "<svg xmlns=\"http://www.w3.org/2000/svg\" height=\"24px\"viewBox=\"0 0 24 24\"\n",
              "     width=\"24px\">\n",
              "    <g>\n",
              "        <path d=\"M19 3H5c-1.1 0-2 .9-2 2v14c0 1.1.9 2 2 2h14c1.1 0 2-.9 2-2V5c0-1.1-.9-2-2-2zM9 17H7v-7h2v7zm4 0h-2V7h2v10zm4 0h-2v-4h2v4z\"/>\n",
              "    </g>\n",
              "</svg>\n",
              "  </button>\n",
              "\n",
              "<style>\n",
              "  .colab-df-quickchart {\n",
              "      --bg-color: #E8F0FE;\n",
              "      --fill-color: #1967D2;\n",
              "      --hover-bg-color: #E2EBFA;\n",
              "      --hover-fill-color: #174EA6;\n",
              "      --disabled-fill-color: #AAA;\n",
              "      --disabled-bg-color: #DDD;\n",
              "  }\n",
              "\n",
              "  [theme=dark] .colab-df-quickchart {\n",
              "      --bg-color: #3B4455;\n",
              "      --fill-color: #D2E3FC;\n",
              "      --hover-bg-color: #434B5C;\n",
              "      --hover-fill-color: #FFFFFF;\n",
              "      --disabled-bg-color: #3B4455;\n",
              "      --disabled-fill-color: #666;\n",
              "  }\n",
              "\n",
              "  .colab-df-quickchart {\n",
              "    background-color: var(--bg-color);\n",
              "    border: none;\n",
              "    border-radius: 50%;\n",
              "    cursor: pointer;\n",
              "    display: none;\n",
              "    fill: var(--fill-color);\n",
              "    height: 32px;\n",
              "    padding: 0;\n",
              "    width: 32px;\n",
              "  }\n",
              "\n",
              "  .colab-df-quickchart:hover {\n",
              "    background-color: var(--hover-bg-color);\n",
              "    box-shadow: 0 1px 2px rgba(60, 64, 67, 0.3), 0 1px 3px 1px rgba(60, 64, 67, 0.15);\n",
              "    fill: var(--button-hover-fill-color);\n",
              "  }\n",
              "\n",
              "  .colab-df-quickchart-complete:disabled,\n",
              "  .colab-df-quickchart-complete:disabled:hover {\n",
              "    background-color: var(--disabled-bg-color);\n",
              "    fill: var(--disabled-fill-color);\n",
              "    box-shadow: none;\n",
              "  }\n",
              "\n",
              "  .colab-df-spinner {\n",
              "    border: 2px solid var(--fill-color);\n",
              "    border-color: transparent;\n",
              "    border-bottom-color: var(--fill-color);\n",
              "    animation:\n",
              "      spin 1s steps(1) infinite;\n",
              "  }\n",
              "\n",
              "  @keyframes spin {\n",
              "    0% {\n",
              "      border-color: transparent;\n",
              "      border-bottom-color: var(--fill-color);\n",
              "      border-left-color: var(--fill-color);\n",
              "    }\n",
              "    20% {\n",
              "      border-color: transparent;\n",
              "      border-left-color: var(--fill-color);\n",
              "      border-top-color: var(--fill-color);\n",
              "    }\n",
              "    30% {\n",
              "      border-color: transparent;\n",
              "      border-left-color: var(--fill-color);\n",
              "      border-top-color: var(--fill-color);\n",
              "      border-right-color: var(--fill-color);\n",
              "    }\n",
              "    40% {\n",
              "      border-color: transparent;\n",
              "      border-right-color: var(--fill-color);\n",
              "      border-top-color: var(--fill-color);\n",
              "    }\n",
              "    60% {\n",
              "      border-color: transparent;\n",
              "      border-right-color: var(--fill-color);\n",
              "    }\n",
              "    80% {\n",
              "      border-color: transparent;\n",
              "      border-right-color: var(--fill-color);\n",
              "      border-bottom-color: var(--fill-color);\n",
              "    }\n",
              "    90% {\n",
              "      border-color: transparent;\n",
              "      border-bottom-color: var(--fill-color);\n",
              "    }\n",
              "  }\n",
              "</style>\n",
              "\n",
              "  <script>\n",
              "    async function quickchart(key) {\n",
              "      const quickchartButtonEl =\n",
              "        document.querySelector('#' + key + ' button');\n",
              "      quickchartButtonEl.disabled = true;  // To prevent multiple clicks.\n",
              "      quickchartButtonEl.classList.add('colab-df-spinner');\n",
              "      try {\n",
              "        const charts = await google.colab.kernel.invokeFunction(\n",
              "            'suggestCharts', [key], {});\n",
              "      } catch (error) {\n",
              "        console.error('Error during call to suggestCharts:', error);\n",
              "      }\n",
              "      quickchartButtonEl.classList.remove('colab-df-spinner');\n",
              "      quickchartButtonEl.classList.add('colab-df-quickchart-complete');\n",
              "    }\n",
              "    (() => {\n",
              "      let quickchartButtonEl =\n",
              "        document.querySelector('#df-36c9f7ca-8003-4dc2-b6bb-0d4d2f13562a button');\n",
              "      quickchartButtonEl.style.display =\n",
              "        google.colab.kernel.accessAllowed ? 'block' : 'none';\n",
              "    })();\n",
              "  </script>\n",
              "</div>\n",
              "\n",
              "  <div id=\"id_d82a60e0-87c7-499e-bc51-9124ba6cb678\">\n",
              "    <style>\n",
              "      .colab-df-generate {\n",
              "        background-color: #E8F0FE;\n",
              "        border: none;\n",
              "        border-radius: 50%;\n",
              "        cursor: pointer;\n",
              "        display: none;\n",
              "        fill: #1967D2;\n",
              "        height: 32px;\n",
              "        padding: 0 0 0 0;\n",
              "        width: 32px;\n",
              "      }\n",
              "\n",
              "      .colab-df-generate:hover {\n",
              "        background-color: #E2EBFA;\n",
              "        box-shadow: 0px 1px 2px rgba(60, 64, 67, 0.3), 0px 1px 3px 1px rgba(60, 64, 67, 0.15);\n",
              "        fill: #174EA6;\n",
              "      }\n",
              "\n",
              "      [theme=dark] .colab-df-generate {\n",
              "        background-color: #3B4455;\n",
              "        fill: #D2E3FC;\n",
              "      }\n",
              "\n",
              "      [theme=dark] .colab-df-generate:hover {\n",
              "        background-color: #434B5C;\n",
              "        box-shadow: 0px 1px 3px 1px rgba(0, 0, 0, 0.15);\n",
              "        filter: drop-shadow(0px 1px 2px rgba(0, 0, 0, 0.3));\n",
              "        fill: #FFFFFF;\n",
              "      }\n",
              "    </style>\n",
              "    <button class=\"colab-df-generate\" onclick=\"generateWithVariable('result_df')\"\n",
              "            title=\"Generate code using this dataframe.\"\n",
              "            style=\"display:none;\">\n",
              "\n",
              "  <svg xmlns=\"http://www.w3.org/2000/svg\" height=\"24px\"viewBox=\"0 0 24 24\"\n",
              "       width=\"24px\">\n",
              "    <path d=\"M7,19H8.4L18.45,9,17,7.55,7,17.6ZM5,21V16.75L18.45,3.32a2,2,0,0,1,2.83,0l1.4,1.43a1.91,1.91,0,0,1,.58,1.4,1.91,1.91,0,0,1-.58,1.4L9.25,21ZM18.45,9,17,7.55Zm-12,3A5.31,5.31,0,0,0,4.9,8.1,5.31,5.31,0,0,0,1,6.5,5.31,5.31,0,0,0,4.9,4.9,5.31,5.31,0,0,0,6.5,1,5.31,5.31,0,0,0,8.1,4.9,5.31,5.31,0,0,0,12,6.5,5.46,5.46,0,0,0,6.5,12Z\"/>\n",
              "  </svg>\n",
              "    </button>\n",
              "    <script>\n",
              "      (() => {\n",
              "      const buttonEl =\n",
              "        document.querySelector('#id_d82a60e0-87c7-499e-bc51-9124ba6cb678 button.colab-df-generate');\n",
              "      buttonEl.style.display =\n",
              "        google.colab.kernel.accessAllowed ? 'block' : 'none';\n",
              "\n",
              "      buttonEl.onclick = () => {\n",
              "        google.colab.notebook.generateWithVariable('result_df');\n",
              "      }\n",
              "      })();\n",
              "    </script>\n",
              "  </div>\n",
              "\n",
              "    </div>\n",
              "  </div>\n"
            ],
            "application/vnd.google.colaboratory.intrinsic+json": {
              "type": "dataframe",
              "variable_name": "result_df",
              "summary": "{\n  \"name\": \"result_df\",\n  \"rows\": 20,\n  \"fields\": [\n    {\n      \"column\": \"x\",\n      \"properties\": {\n        \"dtype\": \"number\",\n        \"std\": 5.90182844103151,\n        \"min\": -9.0,\n        \"max\": 10.0,\n        \"num_unique_values\": 13,\n        \"samples\": [\n          -2.0,\n          1.0,\n          -6.0\n        ],\n        \"semantic_type\": \"\",\n        \"description\": \"\"\n      }\n    },\n    {\n      \"column\": \"y\",\n      \"properties\": {\n        \"dtype\": \"number\",\n        \"std\": 7.667257795670051,\n        \"min\": -14.0,\n        \"max\": 15.0,\n        \"num_unique_values\": 17,\n        \"samples\": [\n          5.0,\n          10.0,\n          15.0\n        ],\n        \"semantic_type\": \"\",\n        \"description\": \"\"\n      }\n    },\n    {\n      \"column\": \"losses\",\n      \"properties\": {\n        \"dtype\": \"number\",\n        \"std\": 154.37960732523817,\n        \"min\": -296.0,\n        \"max\": 284.0,\n        \"num_unique_values\": 20,\n        \"samples\": [\n          -64.0,\n          176.0,\n          -56.0\n        ],\n        \"semantic_type\": \"\",\n        \"description\": \"\"\n      }\n    }\n  ]\n}"
            }
          },
          "metadata": {},
          "execution_count": 8
        }
      ],
      "source": [
        "import pandas as pd\n",
        "\n",
        "# results에서 loss 키값에 해당하는 밸류들을 추출하여 list로 생성.\n",
        "losses = [loss_dict['loss'] for loss_dict in trial_val.results]\n",
        "\n",
        "# DataFrame으로 생성.\n",
        "result_df = pd.DataFrame({'x': trial_val.vals['x'], 'y': trial_val.vals['y'], 'losses': losses})\n",
        "result_df"
      ]
    },
    {
      "cell_type": "markdown",
      "id": "2955aa8d",
      "metadata": {
        "id": "2955aa8d"
      },
      "source": [
        "### HyperOpt를 이용한 XGBoost 하이퍼 파라미터 최적화"
      ]
    },
    {
      "cell_type": "code",
      "execution_count": null,
      "id": "1cb728ec",
      "metadata": {
        "id": "1cb728ec"
      },
      "outputs": [],
      "source": [
        "# 아래 코드는 이전에 수록된 코드라 책에는 싣지 않았습니다.\n",
        "import pandas as pd\n",
        "import numpy as np\n",
        "from sklearn.datasets import load_breast_cancer\n",
        "from sklearn.model_selection import train_test_split\n",
        "import warnings\n",
        "warnings.filterwarnings('ignore')\n",
        "\n",
        "dataset = load_breast_cancer()\n",
        "\n",
        "cancer_df = pd.DataFrame(data=dataset.data, columns=dataset.feature_names)\n",
        "cancer_df['target']= dataset.target\n",
        "X_features = cancer_df.iloc[:, :-1]\n",
        "y_label = cancer_df.iloc[:, -1]"
      ]
    },
    {
      "cell_type": "markdown",
      "source": [
        "- 순서\n",
        "  - 적용해야 할 하이퍼 파라미터와 검색 공간 설정\n",
        "  - 목적 함수에서 XGBoost를 학습 후에 예측 성능 결과를 반환값으로 설정\n",
        "  - fmin() 함수에서 목적 함수를 하이퍼 파라미터 검색 공간의 입력값들을 사용해 최적 예측 성능 결과를 반환하는 최적 입력값들을 결정하는 것\n",
        "\n",
        "- 주의\n",
        "  - 특정 하이퍼 파라미터들은 정숫값만 입력은 받는데, HyperOpt는 입력값 반환값이 모두 실수형 -> 형변환 필요\n",
        "  - HyperOpt의 목적 함수는 최솟값을 반환할 수 있도록 최적화해야해서 성능값이 클수록 좋은 성능 지표일 경우 -1을 곱해줘야 함"
      ],
      "metadata": {
        "id": "7XNlD8Tl5mcZ"
      },
      "id": "7XNlD8Tl5mcZ"
    },
    {
      "cell_type": "code",
      "execution_count": null,
      "id": "49e2762e",
      "metadata": {
        "id": "49e2762e"
      },
      "outputs": [],
      "source": [
        "# 전체 데이터 중 80%는 학습용 데이터, 20%는 테스트용 데이터 추출\n",
        "X_train, X_test, y_train, y_test=train_test_split(X_features, y_label, test_size=0.2, random_state=156 )\n",
        "\n",
        "# 앞에서 추출한 학습 데이터를 다시 학습과 검증 데이터로 분리\n",
        "X_tr, X_val, y_tr, y_val= train_test_split(X_train, y_train, test_size=0.1, random_state=156 )"
      ]
    },
    {
      "cell_type": "code",
      "execution_count": null,
      "id": "2ca5d412",
      "metadata": {
        "id": "2ca5d412"
      },
      "outputs": [],
      "source": [
        "from hyperopt import hp\n",
        "\n",
        "# max_depth는 5에서 20까지 1간격으로, min_child_weight는 1에서 2까지 1간격으로\n",
        "# colsample_bytree는 0.5에서 1사이, learning_rate는 0.01에서 0.2 사이 정규 분포된 값으로 검색.\n",
        "xgb_search_space = {'max_depth': hp.quniform('max_depth', 5, 20, 1),\n",
        "                    'min_child_weight': hp.quniform('min_child_weight', 1, 2, 1),\n",
        "                    'learning_rate': hp.uniform('learning_rate', 0.01, 0.2),\n",
        "                    'colsample_bytree': hp.uniform('colsample_bytree', 0.5, 1),\n",
        "                   }"
      ]
    },
    {
      "cell_type": "markdown",
      "source": [
        "- 정수형 형변환\n",
        "- HyperOpt의 목적 함수는 최솟값을 반환할 수 있도록 최적화\n",
        "  - 정확도와 같이 값이 클수록 좋은 성능 지표일 경우 -1을 곱한 뒤 반환 -> 더 큰 성능 지표가 더 작은 반환값이 되도록 만들어줘야 함\n"
      ],
      "metadata": {
        "id": "NN2wgjbPG_ke"
      },
      "id": "NN2wgjbPG_ke"
    },
    {
      "cell_type": "code",
      "execution_count": null,
      "id": "0cc2d102",
      "metadata": {
        "id": "0cc2d102"
      },
      "outputs": [],
      "source": [
        "from sklearn.model_selection import cross_val_score\n",
        "from xgboost import XGBClassifier\n",
        "from hyperopt import STATUS_OK\n",
        "\n",
        "# fmin()에서 입력된 search_space 값으로 입력된 모든 값은 실수형임.\n",
        "# XGBClassifier의 정수형 하이퍼 파라미터는 정수형 변환을 해줘야 함.\n",
        "# 정확도는 높을수록 더 좋은 수치임. -1 * 정확도를 곱해서 큰 정확도 값일수록 최소가 되도록 변환\n",
        "def objective_func(search_space):\n",
        "    # 수행 시간 절약을 위해 nestimators는 100으로 축소\n",
        "    xgb_clf = XGBClassifier(n_estimators=100, max_depth=int(search_space['max_depth']),\n",
        "                            min_child_weight=int(search_space['min_child_weight']),\n",
        "                            learning_rate=search_space['learning_rate'],\n",
        "                            colsample_bytree=search_space['colsample_bytree'],\n",
        "                            eval_metric='logloss')\n",
        "    accuracy = cross_val_score(xgb_clf, X_train, y_train, scoring='accuracy', cv=3)\n",
        "\n",
        "    # accuracy는 cv=3 개수만큼 roc-auc 결과를 리스트로 가짐. 이를 평균해서 반환하되 -1을 곱함.\n",
        "    return {'loss':-1 * np.mean(accuracy), 'status': STATUS_OK}\n"
      ]
    },
    {
      "cell_type": "code",
      "execution_count": null,
      "id": "fc927169",
      "metadata": {
        "colab": {
          "base_uri": "https://localhost:8080/"
        },
        "id": "fc927169",
        "outputId": "c40c6cf1-16db-47fb-c842-55e3416f70ce"
      },
      "outputs": [
        {
          "output_type": "stream",
          "name": "stdout",
          "text": [
            "100%|██████████| 50/50 [00:22<00:00,  2.22trial/s, best loss: -0.9670616939700244]\n",
            "best: {'colsample_bytree': 0.5026505409854508, 'learning_rate': 0.19828428817109603, 'max_depth': 15.0, 'min_child_weight': 1.0}\n"
          ]
        }
      ],
      "source": [
        "from hyperopt import fmin, tpe, Trials\n",
        "\n",
        "trial_val = Trials()\n",
        "best = fmin(fn=objective_func,\n",
        "            space=xgb_search_space,\n",
        "            algo=tpe.suggest,\n",
        "            max_evals=50, # 최대 반복 횟수를 지정합니다.\n",
        "            trials=trial_val, rstate=np.random.default_rng(seed=9))\n",
        "print('best:', best)\n"
      ]
    },
    {
      "cell_type": "markdown",
      "source": [
        "- best 출력 결과\n",
        "  - 정수형 하이퍼 파라미터인 max_depth, min_child_weight가 실수형 값으로 도출되었음에 유의\n",
        "<br>\n",
        "\n",
        "- fmin()으로 추출된 최적 하이퍼 파라미터를 직접 XGBClassifier에 인자로 입력하기 전\n",
        "  - 정수형 하이퍼 파라미터는 정수형으로 형변환\n",
        "  - 실수형 하이퍼 파라미터는 소수점 5자리까지만 변환 후 확인"
      ],
      "metadata": {
        "id": "ha17K8l5IIgR"
      },
      "id": "ha17K8l5IIgR"
    },
    {
      "cell_type": "code",
      "execution_count": null,
      "id": "c77da755",
      "metadata": {
        "colab": {
          "base_uri": "https://localhost:8080/"
        },
        "id": "c77da755",
        "outputId": "41d02fae-5dc8-48ba-8e88-5d1937d0b01f"
      },
      "outputs": [
        {
          "output_type": "stream",
          "name": "stdout",
          "text": [
            "colsample_bytree:0.50265, learning_rate:0.19828, max_depth:15, min_child_weight:1\n"
          ]
        }
      ],
      "source": [
        "print('colsample_bytree:{0}, learning_rate:{1}, max_depth:{2}, min_child_weight:{3}'.format(\n",
        "    round(best['colsample_bytree'], 5), round(best['learning_rate'], 5),\n",
        "    int(best['max_depth']), int(best['min_child_weight'])))"
      ]
    },
    {
      "cell_type": "code",
      "execution_count": null,
      "id": "c05a7244",
      "metadata": {
        "id": "c05a7244"
      },
      "outputs": [],
      "source": [
        "from sklearn.metrics import confusion_matrix, accuracy_score\n",
        "from sklearn.metrics import precision_score, recall_score\n",
        "from sklearn.metrics import f1_score, roc_auc_score\n",
        "\n",
        "def get_clf_eval(y_test, pred=None, pred_proba=None):\n",
        "    confusion = confusion_matrix( y_test, pred)\n",
        "    accuracy = accuracy_score(y_test , pred)\n",
        "    precision = precision_score(y_test , pred)\n",
        "    recall = recall_score(y_test , pred)\n",
        "    f1 = f1_score(y_test,pred)\n",
        "    # ROC-AUC 추가\n",
        "    roc_auc = roc_auc_score(y_test, pred_proba)\n",
        "    print('오차 행렬')\n",
        "    print(confusion)\n",
        "    # ROC-AUC print 추가\n",
        "    print('정확도: {0:.4f}, 정밀도: {1:.4f}, 재현율: {2:.4f},\\\n",
        "    F1: {3:.4f}, AUC:{4:.4f}'.format(accuracy, precision, recall, f1, roc_auc))"
      ]
    },
    {
      "cell_type": "code",
      "execution_count": null,
      "id": "0d44ce31",
      "metadata": {
        "colab": {
          "base_uri": "https://localhost:8080/",
          "height": 341
        },
        "id": "0d44ce31",
        "outputId": "ec063927-0e2a-4a73-c921-d45bd0c5b9a8"
      },
      "outputs": [
        {
          "output_type": "error",
          "ename": "TypeError",
          "evalue": "XGBClassifier.fit() got an unexpected keyword argument 'early_stopping_rounds'",
          "traceback": [
            "\u001b[0;31m---------------------------------------------------------------------------\u001b[0m",
            "\u001b[0;31mTypeError\u001b[0m                                 Traceback (most recent call last)",
            "\u001b[0;32m<ipython-input-21-6e83c4c0d131>\u001b[0m in \u001b[0;36m<cell line: 9>\u001b[0;34m()\u001b[0m\n\u001b[1;32m      7\u001b[0m \u001b[0;34m\u001b[0m\u001b[0m\n\u001b[1;32m      8\u001b[0m \u001b[0mevals\u001b[0m \u001b[0;34m=\u001b[0m \u001b[0;34m[\u001b[0m\u001b[0;34m(\u001b[0m\u001b[0mX_tr\u001b[0m\u001b[0;34m,\u001b[0m \u001b[0my_tr\u001b[0m\u001b[0;34m)\u001b[0m\u001b[0;34m,\u001b[0m \u001b[0;34m(\u001b[0m\u001b[0mX_val\u001b[0m\u001b[0;34m,\u001b[0m \u001b[0my_val\u001b[0m\u001b[0;34m)\u001b[0m\u001b[0;34m]\u001b[0m\u001b[0;34m\u001b[0m\u001b[0;34m\u001b[0m\u001b[0m\n\u001b[0;32m----> 9\u001b[0;31m xgb_wrapper.fit(X_tr, y_tr, early_stopping_rounds=50, eval_metric='logloss',\n\u001b[0m\u001b[1;32m     10\u001b[0m                 eval_set=evals, verbose=True)\n\u001b[1;32m     11\u001b[0m \u001b[0;34m\u001b[0m\u001b[0m\n",
            "\u001b[0;32m/usr/local/lib/python3.10/dist-packages/xgboost/core.py\u001b[0m in \u001b[0;36minner_f\u001b[0;34m(*args, **kwargs)\u001b[0m\n\u001b[1;32m    724\u001b[0m             \u001b[0;32mfor\u001b[0m \u001b[0mk\u001b[0m\u001b[0;34m,\u001b[0m \u001b[0marg\u001b[0m \u001b[0;32min\u001b[0m \u001b[0mzip\u001b[0m\u001b[0;34m(\u001b[0m\u001b[0msig\u001b[0m\u001b[0;34m.\u001b[0m\u001b[0mparameters\u001b[0m\u001b[0;34m,\u001b[0m \u001b[0margs\u001b[0m\u001b[0;34m)\u001b[0m\u001b[0;34m:\u001b[0m\u001b[0;34m\u001b[0m\u001b[0;34m\u001b[0m\u001b[0m\n\u001b[1;32m    725\u001b[0m                 \u001b[0mkwargs\u001b[0m\u001b[0;34m[\u001b[0m\u001b[0mk\u001b[0m\u001b[0;34m]\u001b[0m \u001b[0;34m=\u001b[0m \u001b[0marg\u001b[0m\u001b[0;34m\u001b[0m\u001b[0;34m\u001b[0m\u001b[0m\n\u001b[0;32m--> 726\u001b[0;31m             \u001b[0;32mreturn\u001b[0m \u001b[0mfunc\u001b[0m\u001b[0;34m(\u001b[0m\u001b[0;34m**\u001b[0m\u001b[0mkwargs\u001b[0m\u001b[0;34m)\u001b[0m\u001b[0;34m\u001b[0m\u001b[0;34m\u001b[0m\u001b[0m\n\u001b[0m\u001b[1;32m    727\u001b[0m \u001b[0;34m\u001b[0m\u001b[0m\n\u001b[1;32m    728\u001b[0m         \u001b[0;32mreturn\u001b[0m \u001b[0minner_f\u001b[0m\u001b[0;34m\u001b[0m\u001b[0;34m\u001b[0m\u001b[0m\n",
            "\u001b[0;31mTypeError\u001b[0m: XGBClassifier.fit() got an unexpected keyword argument 'early_stopping_rounds'"
          ]
        }
      ],
      "source": [
        "xgb_wrapper = XGBClassifier(n_estimators=400,\n",
        "                            learning_rate=round(best['learning_rate'], 5),\n",
        "                            max_depth=int(best['max_depth']),\n",
        "                            min_child_weight=int(best['min_child_weight']),\n",
        "                            colsample_bytree=round(best['colsample_bytree'], 5)\n",
        "                           )\n",
        "\n",
        "evals = [(X_tr, y_tr), (X_val, y_val)]\n",
        "xgb_wrapper.fit(X_tr, y_tr, early_stopping_rounds=50, eval_metric='logloss',\n",
        "                eval_set=evals, verbose=True)\n",
        "\n",
        "preds = xgb_wrapper.predict(X_test)\n",
        "pred_proba = xgb_wrapper.predict_proba(X_test)[:, 1]\n",
        "\n",
        "get_clf_eval(y_test, preds, pred_proba)\n"
      ]
    },
    {
      "cell_type": "markdown",
      "source": [
        "- 도출된 최적 하이퍼 파라미터들을 이용해 XGBCalssifier를 재학습한 후, 성능 평가 결과 확인\n",
        "  - XGBoost의 조기 중단을 검증 데이터 세트로 활용\n",
        "  - n_estimators는 400으로 증가\n",
        "  - get_clf_eval()를 이용해 성능 평가"
      ],
      "metadata": {
        "id": "6pbQj1WBIuW4"
      },
      "id": "6pbQj1WBIuW4"
    },
    {
      "cell_type": "code",
      "execution_count": null,
      "id": "ed40fc6b",
      "metadata": {
        "colab": {
          "base_uri": "https://localhost:8080/"
        },
        "id": "ed40fc6b",
        "outputId": "2f8afde6-25a3-4818-f08b-b17d28762b15"
      },
      "outputs": [
        {
          "output_type": "stream",
          "name": "stdout",
          "text": [
            "[0]\ttrain-logloss:0.51230\teval-logloss:0.55948\n",
            "[1]\ttrain-logloss:0.40697\teval-logloss:0.47575\n",
            "[2]\ttrain-logloss:0.32809\teval-logloss:0.41760\n",
            "[3]\ttrain-logloss:0.27049\teval-logloss:0.37988\n",
            "[4]\ttrain-logloss:0.22671\teval-logloss:0.34438\n",
            "[5]\ttrain-logloss:0.19305\teval-logloss:0.31788\n",
            "[6]\ttrain-logloss:0.16589\teval-logloss:0.30717\n",
            "[7]\ttrain-logloss:0.14300\teval-logloss:0.30056\n",
            "[8]\ttrain-logloss:0.12355\teval-logloss:0.29707\n",
            "[9]\ttrain-logloss:0.10737\teval-logloss:0.28298\n",
            "[10]\ttrain-logloss:0.09355\teval-logloss:0.26801\n",
            "[11]\ttrain-logloss:0.08250\teval-logloss:0.26738\n",
            "[12]\ttrain-logloss:0.07357\teval-logloss:0.26220\n",
            "[13]\ttrain-logloss:0.06572\teval-logloss:0.26240\n",
            "[14]\ttrain-logloss:0.05892\teval-logloss:0.25570\n",
            "[15]\ttrain-logloss:0.05247\teval-logloss:0.25186\n",
            "[16]\ttrain-logloss:0.04804\teval-logloss:0.24924\n",
            "[17]\ttrain-logloss:0.04336\teval-logloss:0.24016\n",
            "[18]\ttrain-logloss:0.03953\teval-logloss:0.23794\n",
            "[19]\ttrain-logloss:0.03585\teval-logloss:0.23625\n",
            "[20]\ttrain-logloss:0.03349\teval-logloss:0.24089\n",
            "[21]\ttrain-logloss:0.03109\teval-logloss:0.24096\n",
            "[22]\ttrain-logloss:0.02906\teval-logloss:0.23890\n",
            "[23]\ttrain-logloss:0.02701\teval-logloss:0.23431\n",
            "[24]\ttrain-logloss:0.02513\teval-logloss:0.23567\n",
            "[25]\ttrain-logloss:0.02375\teval-logloss:0.23843\n",
            "[26]\ttrain-logloss:0.02229\teval-logloss:0.23880\n",
            "[27]\ttrain-logloss:0.02098\teval-logloss:0.23900\n",
            "[28]\ttrain-logloss:0.01996\teval-logloss:0.24129\n",
            "[29]\ttrain-logloss:0.01901\teval-logloss:0.24613\n",
            "[30]\ttrain-logloss:0.01827\teval-logloss:0.24397\n",
            "[31]\ttrain-logloss:0.01751\teval-logloss:0.24354\n",
            "[32]\ttrain-logloss:0.01677\teval-logloss:0.24160\n",
            "[33]\ttrain-logloss:0.01621\teval-logloss:0.24284\n",
            "[34]\ttrain-logloss:0.01556\teval-logloss:0.23844\n",
            "[35]\ttrain-logloss:0.01516\teval-logloss:0.24074\n",
            "[36]\ttrain-logloss:0.01461\teval-logloss:0.23999\n",
            "[37]\ttrain-logloss:0.01412\teval-logloss:0.24243\n",
            "[38]\ttrain-logloss:0.01354\teval-logloss:0.23580\n",
            "[39]\ttrain-logloss:0.01313\teval-logloss:0.23495\n",
            "[40]\ttrain-logloss:0.01287\teval-logloss:0.23428\n",
            "[41]\ttrain-logloss:0.01249\teval-logloss:0.23484\n",
            "[42]\ttrain-logloss:0.01216\teval-logloss:0.23558\n",
            "[43]\ttrain-logloss:0.01194\teval-logloss:0.23581\n",
            "[44]\ttrain-logloss:0.01172\teval-logloss:0.23402\n",
            "[45]\ttrain-logloss:0.01143\teval-logloss:0.23277\n",
            "[46]\ttrain-logloss:0.01123\teval-logloss:0.23363\n",
            "[47]\ttrain-logloss:0.01097\teval-logloss:0.23119\n",
            "[48]\ttrain-logloss:0.01080\teval-logloss:0.23286\n",
            "[49]\ttrain-logloss:0.01069\teval-logloss:0.23160\n",
            "[50]\ttrain-logloss:0.01052\teval-logloss:0.23009\n",
            "[51]\ttrain-logloss:0.01026\teval-logloss:0.23160\n",
            "[52]\ttrain-logloss:0.01005\teval-logloss:0.23238\n",
            "[53]\ttrain-logloss:0.00991\teval-logloss:0.23352\n",
            "[54]\ttrain-logloss:0.00981\teval-logloss:0.23231\n",
            "[55]\ttrain-logloss:0.00973\teval-logloss:0.23180\n",
            "[56]\ttrain-logloss:0.00954\teval-logloss:0.22916\n",
            "[57]\ttrain-logloss:0.00941\teval-logloss:0.23144\n",
            "[58]\ttrain-logloss:0.00933\teval-logloss:0.23041\n",
            "[59]\ttrain-logloss:0.00922\teval-logloss:0.23154\n",
            "[60]\ttrain-logloss:0.00914\teval-logloss:0.23107\n",
            "[61]\ttrain-logloss:0.00898\teval-logloss:0.23182\n",
            "[62]\ttrain-logloss:0.00888\teval-logloss:0.23351\n",
            "[63]\ttrain-logloss:0.00875\teval-logloss:0.23468\n",
            "[64]\ttrain-logloss:0.00858\teval-logloss:0.23451\n",
            "[65]\ttrain-logloss:0.00846\teval-logloss:0.23316\n",
            "[66]\ttrain-logloss:0.00841\teval-logloss:0.23292\n",
            "[67]\ttrain-logloss:0.00835\teval-logloss:0.23503\n",
            "[68]\ttrain-logloss:0.00830\teval-logloss:0.23589\n",
            "[69]\ttrain-logloss:0.00824\teval-logloss:0.23490\n",
            "[70]\ttrain-logloss:0.00818\teval-logloss:0.23450\n",
            "[71]\ttrain-logloss:0.00812\teval-logloss:0.23649\n",
            "[72]\ttrain-logloss:0.00807\teval-logloss:0.23557\n",
            "[73]\ttrain-logloss:0.00801\teval-logloss:0.23616\n",
            "[74]\ttrain-logloss:0.00796\teval-logloss:0.23806\n",
            "[75]\ttrain-logloss:0.00792\teval-logloss:0.23766\n",
            "[76]\ttrain-logloss:0.00787\teval-logloss:0.23945\n",
            "[77]\ttrain-logloss:0.00783\teval-logloss:0.23856\n",
            "[78]\ttrain-logloss:0.00778\teval-logloss:0.23821\n",
            "[79]\ttrain-logloss:0.00774\teval-logloss:0.23795\n",
            "[80]\ttrain-logloss:0.00770\teval-logloss:0.23964\n",
            "[81]\ttrain-logloss:0.00766\teval-logloss:0.23885\n",
            "[82]\ttrain-logloss:0.00762\teval-logloss:0.23857\n",
            "[83]\ttrain-logloss:0.00758\teval-logloss:0.23822\n",
            "[84]\ttrain-logloss:0.00753\teval-logloss:0.24005\n",
            "[85]\ttrain-logloss:0.00749\teval-logloss:0.23889\n",
            "[86]\ttrain-logloss:0.00746\teval-logloss:0.23853\n",
            "[87]\ttrain-logloss:0.00742\teval-logloss:0.23649\n",
            "[88]\ttrain-logloss:0.00739\teval-logloss:0.23730\n",
            "[89]\ttrain-logloss:0.00735\teval-logloss:0.23703\n",
            "[90]\ttrain-logloss:0.00732\teval-logloss:0.23682\n",
            "[91]\ttrain-logloss:0.00728\teval-logloss:0.23717\n",
            "[92]\ttrain-logloss:0.00724\teval-logloss:0.23642\n",
            "[93]\ttrain-logloss:0.00721\teval-logloss:0.23675\n",
            "[94]\ttrain-logloss:0.00718\teval-logloss:0.23585\n",
            "[95]\ttrain-logloss:0.00715\teval-logloss:0.23742\n",
            "[96]\ttrain-logloss:0.00712\teval-logloss:0.23708\n",
            "[97]\ttrain-logloss:0.00709\teval-logloss:0.23641\n",
            "[98]\ttrain-logloss:0.00706\teval-logloss:0.23615\n",
            "[99]\ttrain-logloss:0.00703\teval-logloss:0.23691\n",
            "[100]\ttrain-logloss:0.00701\teval-logloss:0.23498\n",
            "[101]\ttrain-logloss:0.00698\teval-logloss:0.23439\n",
            "[102]\ttrain-logloss:0.00695\teval-logloss:0.23590\n",
            "[103]\ttrain-logloss:0.00692\teval-logloss:0.23560\n",
            "[104]\ttrain-logloss:0.00690\teval-logloss:0.23531\n",
            "[105]\ttrain-logloss:0.00688\teval-logloss:0.23506\n",
            "[106]\ttrain-logloss:0.00685\teval-logloss:0.23634\n",
            "오차 행렬\n",
            "[[33  4]\n",
            " [ 3 74]]\n",
            "정확도: 0.9386, 정밀도: 0.9487, 재현율: 0.9610,    F1: 0.9548, AUC:0.9933\n"
          ]
        }
      ],
      "source": [
        "import xgboost as xgb\n",
        "from sklearn.model_selection import train_test_split\n",
        "\n",
        "# XGBoost에서 사용할 데이터셋 준비\n",
        "dtrain = xgb.DMatrix(X_tr, label=y_tr)\n",
        "dval = xgb.DMatrix(X_val, label=y_val)\n",
        "dtest = xgb.DMatrix(X_test)\n",
        "\n",
        "# 파라미터 설정\n",
        "params = {\n",
        "    'objective': 'binary:logistic',\n",
        "    'eval_metric': 'logloss',\n",
        "    'learning_rate': round(best['learning_rate'], 5),\n",
        "    'max_depth': int(best['max_depth']),\n",
        "    'min_child_weight': int(best['min_child_weight']),\n",
        "    'colsample_bytree': round(best['colsample_bytree'], 5)\n",
        "}\n",
        "\n",
        "# 평가할 데이터 설정\n",
        "evals = [(dtrain, 'train'), (dval, 'eval')]\n",
        "\n",
        "# XGBoost 훈련\n",
        "model = xgb.train(\n",
        "    params=params,\n",
        "    dtrain=dtrain,\n",
        "    num_boost_round=400,\n",
        "    evals=evals,\n",
        "    early_stopping_rounds=50,\n",
        "    verbose_eval=True\n",
        ")\n",
        "\n",
        "# 예측\n",
        "preds = model.predict(dtest)\n",
        "\n",
        "# 확률 값을 0 또는 1로 변환 (이진 분류를 위한 threshold 설정)\n",
        "preds_binary = (preds > 0.5).astype(int)  # 확률이 0.5 이상이면 1, 그렇지 않으면 0\n",
        "\n",
        "# 성능 평가\n",
        "get_clf_eval(y_test, preds_binary, preds)"
      ]
    },
    {
      "cell_type": "markdown",
      "source": [
        "- 하이퍼 파라미터를 튜닝하지 않은 결과보다는 약간 좋은 성능 도출\n",
        "  - 다만, 작은 데이터로 실행했기 때문에 fmin() 함수 인자의 rstate 값을 변경하는 경우 불안정한 성능 결과를 보일 수도 있음"
      ],
      "metadata": {
        "id": "OJdT71qpI-S4"
      },
      "id": "OJdT71qpI-S4"
    }
  ],
  "metadata": {
    "kernelspec": {
      "display_name": "Python 3 (ipykernel)",
      "language": "python",
      "name": "python3"
    },
    "language_info": {
      "codemirror_mode": {
        "name": "ipython",
        "version": 3
      },
      "file_extension": ".py",
      "mimetype": "text/x-python",
      "name": "python",
      "nbconvert_exporter": "python",
      "pygments_lexer": "ipython3",
      "version": "3.9.7"
    },
    "colab": {
      "provenance": [],
      "include_colab_link": true
    }
  },
  "nbformat": 4,
  "nbformat_minor": 5
}