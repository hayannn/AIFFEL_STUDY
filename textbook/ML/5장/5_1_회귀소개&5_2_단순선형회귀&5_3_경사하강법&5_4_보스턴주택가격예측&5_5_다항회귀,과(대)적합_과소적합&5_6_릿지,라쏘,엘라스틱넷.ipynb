{
  "cells": [
    {
      "cell_type": "markdown",
      "metadata": {
        "id": "view-in-github",
        "colab_type": "text"
      },
      "source": [
        "<a href=\"https://colab.research.google.com/github/hayannn/AIFFEL_STUDY/blob/main/5_1_%ED%9A%8C%EA%B7%80%EC%86%8C%EA%B0%9C%265_2_%EB%8B%A8%EC%88%9C%EC%84%A0%ED%98%95%ED%9A%8C%EA%B7%80%265_3_%EA%B2%BD%EC%82%AC%ED%95%98%EA%B0%95%EB%B2%95%265_4_%EB%B3%B4%EC%8A%A4%ED%84%B4%EC%A3%BC%ED%83%9D%EA%B0%80%EA%B2%A9%EC%98%88%EC%B8%A1%265_5_%EB%8B%A4%ED%95%AD%ED%9A%8C%EA%B7%80%2C%EA%B3%BC(%EB%8C%80)%EC%A0%81%ED%95%A9_%EA%B3%BC%EC%86%8C%EC%A0%81%ED%95%A9%265_6_%EB%A6%BF%EC%A7%80%2C%EB%9D%BC%EC%8F%98%2C%EC%97%98%EB%9D%BC%EC%8A%A4%ED%8B%B1%EB%84%B7.ipynb\" target=\"_parent\"><img src=\"https://colab.research.google.com/assets/colab-badge.svg\" alt=\"Open In Colab\"/></a>"
      ]
    },
    {
      "cell_type": "markdown",
      "source": [
        "# 01. 회귀 소개\n",
        "#### 회귀 분석\n",
        "- 데이터 값이 평균과 같은 일정한 값으로 돌아가려는 경향을 이용한 통계학 기법\n",
        "- 여러 개의 독립변수와 한 개의 종속변수 간 상관관계를 모델링하는 기법 통칭\n",
        "- 선형 회귀식 : $Y = W_1*X_1 + W_2*X_2 + W_3*X_3 + ... + W_n*X_n$\n",
        "  - Y : 종속변수(결정값), X : 독립변수(피처), W : 회귀 계수\n",
        "- 머신러닝 회귀 예측의 핵심은 주어진 피처와 결정 값 데이터 기반에서 학습을 통해 **최적의 회귀 계수**를 찾는 것\n",
        "\n",
        "| 독립변수 개수 | 회귀 계수의 결합 |\n",
        "|------------|--------------|\n",
        "| 1개: 단일 회귀 | 선형: 선형 회귀 |\n",
        "| 여러 개: 다중 회귀 | 비선형: 비선형 회귀 |\n",
        "\n",
        "<br>\n",
        "\n",
        "#### 분류와의 차이\n",
        "- 분류 : 예측값이 카테고리와 같은 이산형 클래스 값\n",
        "- 회귀 : 예측값이 연속형 숫자 값\n",
        "\n",
        "<br>\n",
        "\n",
        "#### 선형 회귀 종류\n",
        "> - 선형 회귀를 가장 많이 사용\n",
        "  - 실제 값과 예측값의 차이(오류 제곱값)를 최소화하는 직선형 회귀선을 최적화하는 방식\n",
        "- 규제 : 일반적인 선형 회귀 과적합 문제 해결을 위해 회귀 계수에 패널티 값 적용하는 것\n",
        "\n",
        "- `일반 선형 회귀` : 예측값과 실제값의 RSS를 최소화할 수 있도록 회귀 계수 최적화(규제 적용 X)\n",
        "- `릿지(Ridge)` : 선형 회귀에 L2 규제 추가(상대적으로 큰 회귀 계수 값의 예측 영향도를 감소시키기 위해 회귀 계수값을 더 작게 만듦)\n",
        "- `라쏘(Lasso)` : 선형 회귀에 L1 규제 추가(예측 영향력이 적은 피처의 회귀 계수를 0으로 만들어 회귀 예측 시 피처가 선택되지 않도록 하는 것)\n",
        "- `엘라스틱넷(ElasticNet)` : L2, L1 규제 결합 모델, 피처가 많은 데이터 세트에서 적용, L1 규제로 피처 개수 줄임 + L2 규제로 계수 값 크기 조정\n",
        "- `로지스틱 회귀(Logistic Regression)` : 분류 알고리즘임, 이진 분류, 희소 영역 분류(텍스트 분류 같은 영역에서 뛰어난 예측 성능을 보임)\n"
      ],
      "metadata": {
        "id": "QgqNtu1Z9750"
      }
    },
    {
      "cell_type": "markdown",
      "source": [
        "# 02. 단순 선형 회귀를 통한 회귀 이해\n",
        "#### 단순 선형 회귀\n",
        "- 독립변수도 1개, 종속변수도 1개\n",
        "- 예측값 $𝑦̂ = w_0 + w_1 * X$\n",
        "  - 기울기 w1과 절편 w0를 회귀 계수로 지칭\n",
        "\n",
        "<br>\n",
        "\n",
        "#### 최적의 회귀 모델을 만든다는 것\n",
        "- 전체 데이터 오류 값 합이 최소가 되는 모델을 만든다는 의미\n",
        "- 오류 값 합이 최소가 될 수 있는 최적의 **회귀 계수**를 찾는다는 의미도 가능\n",
        "\n",
        "<br>\n",
        "\n",
        "#### 오류합 계산\n",
        "- Mean Absolute Error : 절댓값을 취해 더하기\n",
        "- RSS : 오류 값의 제곱을 구해 더하기 -> 주로 이용 -> $Error^2 = RSS$\n",
        "\n",
        "<br>\n",
        "\n",
        "#### RSS를 최소로 할 수 있는 회귀 계수를 찾는 것이 가장 중요\n",
        "- w 변수 즉, 회귀 계수가 중심 변수임을 인지하는 것이 중요!\n",
        "- 학습 데이터로 입력되는 독립변수와 종속변수는 RSS에서 모두 상수로 간주\n",
        "\n",
        "<br>\n",
        "\n",
        "#### RSS 공식(feat. 손실함수)\n",
        "- 회귀에서 RSS는 비용\n",
        "- w 변수(회귀 계수)로 구성되는 RSS를 비용 함수로 칭함(=손실함수)\n",
        "- 비용 함수가 반환하는 값(오류 값)을 지속 감소시키고 최종적으로는 더이상 감소하지 않는 최소 오류값을 구하는 것\n",
        "![image](https://github.com/user-attachments/assets/0b445c6b-ab61-470b-9064-b3a48ef0b040)\n"
      ],
      "metadata": {
        "id": "0gMwhRX4Gtou"
      }
    },
    {
      "cell_type": "markdown",
      "metadata": {
        "id": "RH57TLc37pJ6"
      },
      "source": [
        "# 03. 경사하강법(Gradient Descent)\n",
        "- 점진적으로 반복적인 계산을 통해 W 파라미터 값을 업데이트하며 오류 값이 최소가 되는 W 파라미터를 구하는 방식\n",
        "- 반복적으로 비용 함수의 반환 값, 즉 예측값과 실제값의 차이가 작아지는 방향성을 가지고 W 파라미터를 지속해 보정해나감\n",
        "- 핵심은 \"어떻게 하면 오류가 작아지는 방향으로 W 값을 보정할 수 있을까?\"\n",
        "\n",
        "#### 경사하강법 프로세스\n",
        "- step 1\n",
        "  - $w_1$, $w_0$를 임의 값으로 설정, 첫 손실 함수의 값 계산\n",
        "- step 2\n",
        "  - $w_1$을 $ w_1 + \\eta \\frac{2}{N} \\sum_{i=1}^{N} x_i * (\\text{실제값}_i - \\text{예측값}_i)$, $w_0$을 $ w_0 + \\eta \\frac{2}{N} \\sum_{i=1}^{N} x_i * (\\text{실제값}_i - \\text{예측값}_i)$으로 업데이트 -> 다시 손실 함수 값 계산\n",
        "- step 3\n",
        "  - 손실 함수가 감소하는 방향성으로 주어진 횟수만큼 Step 2 반복 -> $w_1$, $w_0$을 계속 업데이트\n",
        "\n"
      ]
    },
    {
      "cell_type": "markdown",
      "metadata": {
        "id": "LSrEE-UD7pJ8"
      },
      "source": [
        "#### $Y=4X+6$ 근사하기 위한 100개 데이터 세트 만들기 + 경사하강법 적용"
      ]
    },
    {
      "cell_type": "code",
      "execution_count": 36,
      "metadata": {
        "colab": {
          "base_uri": "https://localhost:8080/",
          "height": 448
        },
        "id": "HWjAlR137pJ8",
        "outputId": "bd71e149-89ad-4005-c035-72db3050e546"
      },
      "outputs": [
        {
          "output_type": "execute_result",
          "data": {
            "text/plain": [
              "<matplotlib.collections.PathCollection at 0x78f6012db370>"
            ]
          },
          "metadata": {},
          "execution_count": 36
        },
        {
          "output_type": "display_data",
          "data": {
            "text/plain": [
              "<Figure size 640x480 with 1 Axes>"
            ],
            "image/png": "[encoded data removed]"
          },
          "metadata": {}
        }
      ],
      "source": [
        "import numpy as np\n",
        "import matplotlib.pyplot as plt\n",
        "%matplotlib inline\n",
        "\n",
        "np.random.seed(0)\n",
        "# y = 4X + 6 식을 근사(w1=4, w0=6). random 값은 Noise를 위해 만들어낸 것\n",
        "X = 2 * np.random.rand(100,1)\n",
        "y = 6 +4 * X+ np.random.randn(100,1)\n",
        "\n",
        "# X, y 데이터 셋 scatter plot으로 시각화\n",
        "plt.scatter(X, y)"
      ]
    },
    {
      "cell_type": "markdown",
      "source": [
        "- 손실 함수 정의"
      ],
      "metadata": {
        "id": "PA7-jcKtOMmz"
      }
    },
    {
      "cell_type": "code",
      "execution_count": 37,
      "metadata": {
        "id": "kXcmOcjn7pJ9"
      },
      "outputs": [],
      "source": [
        "def get_cost(y, y_pred):\n",
        "    N = len(y)\n",
        "    cost = np.sum(np.square(y - y_pred))/N\n",
        "    return cost"
      ]
    },
    {
      "cell_type": "markdown",
      "metadata": {
        "id": "3-oFzi3i7pJ9"
      },
      "source": [
        "- $w_0$과 $w_1$의 값을 최소화 할 수 있도록 업데이트 수행하는 함수 생성\n",
        "  - 예측 배열 y_pred는 `np.dot(X, w1.T) + w0` 으로 구함\n",
        "    - 100개의 데이터 X(1,2,...,100)이 있다면 -> 예측값은 w0 + X(1)*w1 + X(2)*w1 +..+ X(100)*w1 -> 입력 배열 X와 w1 배열의 내적!\n",
        "  - 따라서 넘파이 내적 연산인 dot()를 이용해 예측 배열값 계산\n",
        " - w1_update로 $ - \\eta \\frac{2}{N} \\sum_{i=1}^{N} x_i * (\\text{예측오류}_i)$를, w0_update로 $ - \\eta \\frac{2}{N} \\sum_{i=1}^{N}(\\text{예측오류}_i)$ 값을 넘파이 dot 행렬 연산으로 계산해 반환!"
      ]
    },
    {
      "cell_type": "code",
      "execution_count": 38,
      "metadata": {
        "id": "gsUw4bjX7pJ9"
      },
      "outputs": [],
      "source": [
        "# w1과 w0 를 업데이트 할 w1_update, w0_update를 반환\n",
        "def get_weight_updates(w1, w0, X, y, learning_rate=0.01):\n",
        "    N = len(y)\n",
        "\n",
        "    # 먼저 w1_update, w0_update를 각각 w1, w0의 shape와 동일한 크기를 가진 0으로 초기화\n",
        "    w1_update = np.zeros_like(w1)\n",
        "    w0_update = np.zeros_like(w0)\n",
        "\n",
        "    # 예측 배열 계산하고 예측과 실제 값의 차이 계산\n",
        "    y_pred = np.dot(X, w1.T) + w0\n",
        "    diff = y-y_pred\n",
        "\n",
        "    # w0_update를 dot 행렬 연산으로 구하기 위해 모두 1을 가진 행렬 생성\n",
        "    w0_factors = np.ones((N,1))\n",
        "\n",
        "    # w1과 w0을 업데이트할 w1_update와 w0_update 계산\n",
        "    w1_update = -(2/N)*learning_rate*(np.dot(X.T, diff))\n",
        "    w0_update = -(2/N)*learning_rate*(np.dot(w0_factors.T, diff))\n",
        "\n",
        "    return w1_update, w0_update"
      ]
    },
    {
      "cell_type": "code",
      "execution_count": 39,
      "metadata": {
        "colab": {
          "base_uri": "https://localhost:8080/"
        },
        "id": "JhMtS_uj7pJ-",
        "outputId": "75bdfbc1-ac9e-4e6d-b09c-ee6d473e48a1"
      },
      "outputs": [
        {
          "output_type": "stream",
          "name": "stdout",
          "text": [
            "(100, 1)\n",
            "(1, 1) (1, 1)\n"
          ]
        },
        {
          "output_type": "execute_result",
          "data": {
            "text/plain": [
              "(array([[0.]]), array([[0.]]))"
            ]
          },
          "metadata": {},
          "execution_count": 39
        }
      ],
      "source": [
        "w0 = np.zeros((1,1))\n",
        "w1 = np.zeros((1,1))\n",
        "y_pred = np.dot(X, w1.T) + w0\n",
        "diff = y-y_pred\n",
        "print(diff.shape)\n",
        "w0_factors = np.ones((100,1))\n",
        "w1_update = -(2/100)*0.01*(np.dot(X.T, diff))\n",
        "w0_update = -(2/100)*0.01*(np.dot(w0_factors.T, diff))\n",
        "print(w1_update.shape, w0_update.shape)\n",
        "w1, w0"
      ]
    },
    {
      "cell_type": "markdown",
      "metadata": {
        "id": "Tf_kEqFr7pJ-"
      },
      "source": [
        "- 반복적으로 경사 하강법을 이용하여 get_weigth_updates()를 호출하여 w1과 w0를 업데이트 하는 함수 생성"
      ]
    },
    {
      "cell_type": "code",
      "execution_count": 40,
      "metadata": {
        "id": "9FLvvSMK7pJ-"
      },
      "outputs": [],
      "source": [
        "# 입력 인자 iters로 주어진 횟수만큼 반복적으로 w1과 w0를 업데이트 적용\n",
        "def gradient_descent_steps(X, y, iters=10000):\n",
        "    # w0와 w1을 모두 0으로 초기화\n",
        "    w0 = np.zeros((1,1))\n",
        "    w1 = np.zeros((1,1))\n",
        "\n",
        "    # 인자로 주어진 iters 만큼 반복적으로 get_weight_updates() 호출하여 w1, w0 업데이트 수행\n",
        "    for ind in range(iters):\n",
        "        w1_update, w0_update = get_weight_updates(w1, w0, X, y, learning_rate=0.01)\n",
        "        w1 = w1 - w1_update\n",
        "        w0 = w0 - w0_update\n",
        "\n",
        "    return w1, w0"
      ]
    },
    {
      "cell_type": "markdown",
      "metadata": {
        "id": "9sLdm4MT7pJ-"
      },
      "source": [
        "- 예측 오차 비용을 계산을 수행하는 함수 생성 및 경사 하강법 수행"
      ]
    },
    {
      "cell_type": "code",
      "execution_count": 41,
      "metadata": {
        "colab": {
          "base_uri": "https://localhost:8080/"
        },
        "id": "JOrgfJ0w7pJ-",
        "outputId": "e6fcb176-219a-4ce1-cf70-92b57ee7de68"
      },
      "outputs": [
        {
          "output_type": "stream",
          "name": "stdout",
          "text": [
            "w1:4.022 w0:6.162\n",
            "Gradient Descent Total Cost:0.9935\n"
          ]
        }
      ],
      "source": [
        "def get_cost(y, y_pred):\n",
        "    N = len(y)\n",
        "    cost = np.sum(np.square(y - y_pred))/N\n",
        "    return cost\n",
        "\n",
        "w1, w0 = gradient_descent_steps(X, y, iters=1000)\n",
        "print(\"w1:{0:.3f} w0:{1:.3f}\".format(w1[0,0], w0[0,0]))\n",
        "y_pred = w1[0,0] * X + w0\n",
        "print('Gradient Descent Total Cost:{0:.4f}'.format(get_cost(y, y_pred)))"
      ]
    },
    {
      "cell_type": "markdown",
      "source": [
        "- y_pred 기반 회귀선 그려보기"
      ],
      "metadata": {
        "id": "hlTAOaFzP_RB"
      }
    },
    {
      "cell_type": "code",
      "execution_count": 42,
      "metadata": {
        "scrolled": true,
        "colab": {
          "base_uri": "https://localhost:8080/",
          "height": 448
        },
        "id": "FZ8hPOO17pJ-",
        "outputId": "c320a82b-fb94-4323-aee9-e85dc277253c"
      },
      "outputs": [
        {
          "output_type": "execute_result",
          "data": {
            "text/plain": [
              "[<matplotlib.lines.Line2D at 0x78f6012c7250>]"
            ]
          },
          "metadata": {},
          "execution_count": 42
        },
        {
          "output_type": "display_data",
          "data": {
            "text/plain": [
              "<Figure size 640x480 with 1 Axes>"
            ],
            "image/png": "[encoded data removed]"
          },
          "metadata": {}
        }
      ],
      "source": [
        "plt.scatter(X, y)\n",
        "plt.plot(X,y_pred)"
      ]
    },
    {
      "cell_type": "markdown",
      "source": [
        "#### 확률적 경사 하강법\n",
        "- 일반 경사 하강법은 오래걸리는 단점이 있음\n",
        "- 일부 데이터만을 이용해 w가 업데이트되는 값을 계산\n",
        "- 주로 확률적 경사 하강법 또는 미니 배치 확률적 경사 하강법을 통해 최적 손실 함수 도출"
      ],
      "metadata": {
        "id": "SywByYrxQGUq"
      }
    },
    {
      "cell_type": "markdown",
      "metadata": {
        "id": "g3OtMnun7pJ-"
      },
      "source": [
        "#### 미니 배치 확률적 경사 하강법을 이용한 최적 비용함수 도출"
      ]
    },
    {
      "cell_type": "code",
      "execution_count": 43,
      "metadata": {
        "id": "nFOQv_i17pJ-"
      },
      "outputs": [],
      "source": [
        "def stochastic_gradient_descent_steps(X, y, batch_size=10, iters=1000):\n",
        "    w0 = np.zeros((1,1))\n",
        "    w1 = np.zeros((1,1))\n",
        "    prev_cost = 100000\n",
        "    iter_index =0\n",
        "\n",
        "    for ind in range(iters):\n",
        "        np.random.seed(ind)\n",
        "\n",
        "        # 전체 X, y 데이터에서 랜덤하게 batch_size만큼 데이터 추출하여 sample_X, sample_y로 저장\n",
        "        stochastic_random_index = np.random.permutation(X.shape[0])\n",
        "        sample_X = X[stochastic_random_index[0:batch_size]]\n",
        "        sample_y = y[stochastic_random_index[0:batch_size]]\n",
        "\n",
        "        # 랜덤하게 batch_size만큼 추출된 데이터 기반으로 w1_update, w0_update 계산 후 업데이트\n",
        "        w1_update, w0_update = get_weight_updates(w1, w0, sample_X, sample_y, learning_rate=0.01)\n",
        "        w1 = w1 - w1_update\n",
        "        w0 = w0 - w0_update\n",
        "\n",
        "    return w1, w0"
      ]
    },
    {
      "cell_type": "code",
      "execution_count": 44,
      "metadata": {
        "colab": {
          "base_uri": "https://localhost:8080/"
        },
        "id": "vtVyDs7F7pJ_",
        "outputId": "802ecc16-5246-4cfb-e0d3-c055eb204c63"
      },
      "outputs": [
        {
          "output_type": "stream",
          "name": "stdout",
          "text": [
            "w1: 4.028 w0: 6.156\n",
            "Stochastic Gradient Descent Total Cost:0.9937\n"
          ]
        }
      ],
      "source": [
        "w1, w0 = stochastic_gradient_descent_steps(X, y, iters=1000)\n",
        "print(\"w1:\",round(w1[0,0],3),\"w0:\",round(w0[0,0],3))\n",
        "y_pred = w1[0,0] * X + w0\n",
        "print('Stochastic Gradient Descent Total Cost:{0:.4f}'.format(get_cost(y, y_pred)))"
      ]
    },
    {
      "cell_type": "markdown",
      "source": [
        "#### 피쳐가 M개일 경우의 회귀 예측값\n",
        "- $𝑦̂ = X_mat + W^T$\n",
        "![image](https://github.com/user-attachments/assets/f15e69c4-1984-4f46-ba14-98a4ebcdf773)"
      ],
      "metadata": {
        "id": "kt6n_s_cQ6P4"
      }
    },
    {
      "cell_type": "markdown",
      "metadata": {
        "id": "0TxZcmLE7pJ_"
      },
      "source": [
        "# 04. 사이킷런 LinearRegression을 이용한 보스턴 주택 가격 예측\n",
        "#### LinearRegression 클래스\n",
        "- 입력 파라미터\n",
        "  - fit_intercept : boolean 값, 디폴트 True, intercept(절편) 값 계산을 할건지 여부\n",
        "  - normalize : boolean 값, 디폴트 False, True로 설정할 경우 회귀 수행 전 입력 데이터 세트의 정규화 진행(fit_intercept가 False라면 이 파라미터는 무시됨)\n",
        "- 속성\n",
        "  - coef_ : fit() 메서드 수행 시 회귀 계수가 배열 형태로 저장됨, Shape는 (Target 값 개수, 피처 개수)\n",
        "  - intercept_ : intercept 값\n",
        "- 피처 간 상관관계가 매우 높은 경우 -> 분산이 매우 커져 -> 오류에 매우 민감해짐(=다중공선성 문제)\n",
        "![image](https://github.com/user-attachments/assets/812345e3-4685-4f26-b48f-87c8ebb77ae2)\n",
        "\n",
        "| 평가 방법 | 사이킷런 평가 지표 API | Scoring 함수 적용 값 |\n",
        "|---------|--------------------|-------------------|\n",
        "| MAE | metrics.mean_absolute_error | 'neg_mean_absolute_error' |\n",
        "| MSE | metrics.mean_squared_error | 'neg_mean_squared_error' |\n",
        "| RMSE | metrics.mean_squared_error를 그대로 사용하되, squared 파라미터를 False로 설정 | 'neg_root_mean_squared_error' |\n",
        "| MSLE | metrics.mean_squared_log_error | 'neg_mean_squared_log_error' |\n",
        "| $R^2$ | metrics.r2_score | 'r2' |\n",
        "\n",
        "- Scoring 함수의 scoring 파라미터 값 'neg_mean_absolute_error'가 의미하는 것\n",
        "  - 'neg_' : 음수값을 가진다는 의미(사이킷런의 Scoring 함수가 score 값이 클수록 좋은 평가 결과로 자동 평가하기 때문)\n",
        "  - -1 * metrics.mean_absolute_error()"
      ]
    },
    {
      "cell_type": "markdown",
      "source": [
        "#### LinearRegression을 이용해 보스턴 주택 가격 회귀 구현"
      ],
      "metadata": {
        "id": "mj9z4ukHUxIT"
      }
    },
    {
      "cell_type": "markdown",
      "metadata": {
        "id": "WFrcajnY7pJ_"
      },
      "source": [
        "* CRIM: 지역별 범죄 발생률  \n",
        "* ZN: 25,000평방피트를 초과하는 거주 지역의 비율\n",
        "* NDUS: 비상업 지역 넓이 비율\n",
        "* CHAS: 찰스강에 대한 더미 변수(강의 경계에 위치한 경우는 1, 아니면 0)\n",
        "* NOX: 일산화질소 농도\n",
        "* RM: 거주할 수 있는 방 개수\n",
        "* AGE: 1940년 이전에 건축된 소유 주택의 비율\n",
        "* DIS: 5개 주요 고용센터까지의 가중 거리\n",
        "* RAD: 고속도로 접근 용이도\n",
        "* TAX: 10,000달러당 재산세율\n",
        "* PTRATIO: 지역의 교사와 학생 수 비율\n",
        "* B: 지역의 흑인 거주 비율\n",
        "* LSTAT: 하위 계층의 비율\n",
        "* MEDV: 본인 소유의 주택 가격(중앙값)"
      ]
    },
    {
      "cell_type": "markdown",
      "source": [
        "- 보스턴 데이터 삭제되어 사용 불가능\n",
        "  - 해결 : [파이참(환경:m1x 맥북)에서 sklearn load_boston시, 아래와 같은 에러 메세지로 로딩해오지 못하는데요](https://www.codeit.kr/community/questions/UXVlc3Rpb246NjI1YTVkYmU0ZTkyZTc2MTBjMWFhYTM5)"
      ],
      "metadata": {
        "id": "-wKRQTDXY-6V"
      }
    },
    {
      "cell_type": "code",
      "execution_count": 45,
      "metadata": {
        "colab": {
          "base_uri": "https://localhost:8080/",
          "height": 224
        },
        "id": "OU1Js0fB7pJ_",
        "outputId": "2530d31d-09c1-4bd6-9108-85f9cb53ed0f"
      },
      "outputs": [
        {
          "output_type": "stream",
          "name": "stdout",
          "text": [
            "Boston 데이터셋 크기 : (506, 14)\n"
          ]
        },
        {
          "output_type": "execute_result",
          "data": {
            "text/plain": [
              "      CRIM    ZN  INDUS CHAS    NOX     RM   AGE     DIS RAD    TAX  PTRATIO  \\\n",
              "0  0.00632  18.0   2.31    0  0.538  6.575  65.2  4.0900   1  296.0     15.3   \n",
              "1  0.02731   0.0   7.07    0  0.469  6.421  78.9  4.9671   2  242.0     17.8   \n",
              "2  0.02729   0.0   7.07    0  0.469  7.185  61.1  4.9671   2  242.0     17.8   \n",
              "3  0.03237   0.0   2.18    0  0.458  6.998  45.8  6.0622   3  222.0     18.7   \n",
              "4  0.06905   0.0   2.18    0  0.458  7.147  54.2  6.0622   3  222.0     18.7   \n",
              "\n",
              "        B  LSTAT  PRICE  \n",
              "0  396.90   4.98   24.0  \n",
              "1  396.90   9.14   21.6  \n",
              "2  392.83   4.03   34.7  \n",
              "3  394.63   2.94   33.4  \n",
              "4  396.90   5.33   36.2  "
            ],
            "text/html": [
              "\n",
              "  <div id=\"df-ef1cfdb3-807c-48a8-810e-877cc366d40b\" class=\"colab-df-container\">\n",
              "    <div>\n",
              "<style scoped>\n",
              "    .dataframe tbody tr th:only-of-type {\n",
              "        vertical-align: middle;\n",
              "    }\n",
              "\n",
              "    .dataframe tbody tr th {\n",
              "        vertical-align: top;\n",
              "    }\n",
              "\n",
              "    .dataframe thead th {\n",
              "        text-align: right;\n",
              "    }\n",
              "</style>\n",
              "<table border=\"1\" class=\"dataframe\">\n",
              "  <thead>\n",
              "    <tr style=\"text-align: right;\">\n",
              "      <th></th>\n",
              "      <th>CRIM</th>\n",
              "      <th>ZN</th>\n",
              "      <th>INDUS</th>\n",
              "      <th>CHAS</th>\n",
              "      <th>NOX</th>\n",
              "      <th>RM</th>\n",
              "      <th>AGE</th>\n",
              "      <th>DIS</th>\n",
              "      <th>RAD</th>\n",
              "      <th>TAX</th>\n",
              "      <th>PTRATIO</th>\n",
              "      <th>B</th>\n",
              "      <th>LSTAT</th>\n",
              "      <th>PRICE</th>\n",
              "    </tr>\n",
              "  </thead>\n",
              "  <tbody>\n",
              "    <tr>\n",
              "      <th>0</th>\n",
              "      <td>0.00632</td>\n",
              "      <td>18.0</td>\n",
              "      <td>2.31</td>\n",
              "      <td>0</td>\n",
              "      <td>0.538</td>\n",
              "      <td>6.575</td>\n",
              "      <td>65.2</td>\n",
              "      <td>4.0900</td>\n",
              "      <td>1</td>\n",
              "      <td>296.0</td>\n",
              "      <td>15.3</td>\n",
              "      <td>396.90</td>\n",
              "      <td>4.98</td>\n",
              "      <td>24.0</td>\n",
              "    </tr>\n",
              "    <tr>\n",
              "      <th>1</th>\n",
              "      <td>0.02731</td>\n",
              "      <td>0.0</td>\n",
              "      <td>7.07</td>\n",
              "      <td>0</td>\n",
              "      <td>0.469</td>\n",
              "      <td>6.421</td>\n",
              "      <td>78.9</td>\n",
              "      <td>4.9671</td>\n",
              "      <td>2</td>\n",
              "      <td>242.0</td>\n",
              "      <td>17.8</td>\n",
              "      <td>396.90</td>\n",
              "      <td>9.14</td>\n",
              "      <td>21.6</td>\n",
              "    </tr>\n",
              "    <tr>\n",
              "      <th>2</th>\n",
              "      <td>0.02729</td>\n",
              "      <td>0.0</td>\n",
              "      <td>7.07</td>\n",
              "      <td>0</td>\n",
              "      <td>0.469</td>\n",
              "      <td>7.185</td>\n",
              "      <td>61.1</td>\n",
              "      <td>4.9671</td>\n",
              "      <td>2</td>\n",
              "      <td>242.0</td>\n",
              "      <td>17.8</td>\n",
              "      <td>392.83</td>\n",
              "      <td>4.03</td>\n",
              "      <td>34.7</td>\n",
              "    </tr>\n",
              "    <tr>\n",
              "      <th>3</th>\n",
              "      <td>0.03237</td>\n",
              "      <td>0.0</td>\n",
              "      <td>2.18</td>\n",
              "      <td>0</td>\n",
              "      <td>0.458</td>\n",
              "      <td>6.998</td>\n",
              "      <td>45.8</td>\n",
              "      <td>6.0622</td>\n",
              "      <td>3</td>\n",
              "      <td>222.0</td>\n",
              "      <td>18.7</td>\n",
              "      <td>394.63</td>\n",
              "      <td>2.94</td>\n",
              "      <td>33.4</td>\n",
              "    </tr>\n",
              "    <tr>\n",
              "      <th>4</th>\n",
              "      <td>0.06905</td>\n",
              "      <td>0.0</td>\n",
              "      <td>2.18</td>\n",
              "      <td>0</td>\n",
              "      <td>0.458</td>\n",
              "      <td>7.147</td>\n",
              "      <td>54.2</td>\n",
              "      <td>6.0622</td>\n",
              "      <td>3</td>\n",
              "      <td>222.0</td>\n",
              "      <td>18.7</td>\n",
              "      <td>396.90</td>\n",
              "      <td>5.33</td>\n",
              "      <td>36.2</td>\n",
              "    </tr>\n",
              "  </tbody>\n",
              "</table>\n",
              "</div>\n",
              "    <div class=\"colab-df-buttons\">\n",
              "\n",
              "  <div class=\"colab-df-container\">\n",
              "    <button class=\"colab-df-convert\" onclick=\"convertToInteractive('df-ef1cfdb3-807c-48a8-810e-877cc366d40b')\"\n",
              "            title=\"Convert this dataframe to an interactive table.\"\n",
              "            style=\"display:none;\">\n",
              "\n",
              "  <svg xmlns=\"http://www.w3.org/2000/svg\" height=\"24px\" viewBox=\"0 -960 960 960\">\n",
              "    <path d=\"M120-120v-720h720v720H120Zm60-500h600v-160H180v160Zm220 220h160v-160H400v160Zm0 220h160v-160H400v160ZM180-400h160v-160H180v160Zm440 0h160v-160H620v160ZM180-180h160v-160H180v160Zm440 0h160v-160H620v160Z\"/>\n",
              "  </svg>\n",
              "    </button>\n",
              "\n",
              "  <style>\n",
              "    .colab-df-container {\n",
              "      display:flex;\n",
              "      gap: 12px;\n",
              "    }\n",
              "\n",
              "    .colab-df-convert {\n",
              "      background-color: #E8F0FE;\n",
              "      border: none;\n",
              "      border-radius: 50%;\n",
              "      cursor: pointer;\n",
              "      display: none;\n",
              "      fill: #1967D2;\n",
              "      height: 32px;\n",
              "      padding: 0 0 0 0;\n",
              "      width: 32px;\n",
              "    }\n",
              "\n",
              "    .colab-df-convert:hover {\n",
              "      background-color: #E2EBFA;\n",
              "      box-shadow: 0px 1px 2px rgba(60, 64, 67, 0.3), 0px 1px 3px 1px rgba(60, 64, 67, 0.15);\n",
              "      fill: #174EA6;\n",
              "    }\n",
              "\n",
              "    .colab-df-buttons div {\n",
              "      margin-bottom: 4px;\n",
              "    }\n",
              "\n",
              "    [theme=dark] .colab-df-convert {\n",
              "      background-color: #3B4455;\n",
              "      fill: #D2E3FC;\n",
              "    }\n",
              "\n",
              "    [theme=dark] .colab-df-convert:hover {\n",
              "      background-color: #434B5C;\n",
              "      box-shadow: 0px 1px 3px 1px rgba(0, 0, 0, 0.15);\n",
              "      filter: drop-shadow(0px 1px 2px rgba(0, 0, 0, 0.3));\n",
              "      fill: #FFFFFF;\n",
              "    }\n",
              "  </style>\n",
              "\n",
              "    <script>\n",
              "      const buttonEl =\n",
              "        document.querySelector('#df-ef1cfdb3-807c-48a8-810e-877cc366d40b button.colab-df-convert');\n",
              "      buttonEl.style.display =\n",
              "        google.colab.kernel.accessAllowed ? 'block' : 'none';\n",
              "\n",
              "      async function convertToInteractive(key) {\n",
              "        const element = document.querySelector('#df-ef1cfdb3-807c-48a8-810e-877cc366d40b');\n",
              "        const dataTable =\n",
              "          await google.colab.kernel.invokeFunction('convertToInteractive',\n",
              "                                                    [key], {});\n",
              "        if (!dataTable) return;\n",
              "\n",
              "        const docLinkHtml = 'Like what you see? Visit the ' +\n",
              "          '<a target=\"_blank\" href=https://colab.research.google.com/notebooks/data_table.ipynb>data table notebook</a>'\n",
              "          + ' to learn more about interactive tables.';\n",
              "        element.innerHTML = '';\n",
              "        dataTable['output_type'] = 'display_data';\n",
              "        await google.colab.output.renderOutput(dataTable, element);\n",
              "        const docLink = document.createElement('div');\n",
              "        docLink.innerHTML = docLinkHtml;\n",
              "        element.appendChild(docLink);\n",
              "      }\n",
              "    </script>\n",
              "  </div>\n",
              "\n",
              "\n",
              "<div id=\"df-001b24b6-94c3-4720-981c-a3405ccaff86\">\n",
              "  <button class=\"colab-df-quickchart\" onclick=\"quickchart('df-001b24b6-94c3-4720-981c-a3405ccaff86')\"\n",
              "            title=\"Suggest charts\"\n",
              "            style=\"display:none;\">\n",
              "\n",
              "<svg xmlns=\"http://www.w3.org/2000/svg\" height=\"24px\"viewBox=\"0 0 24 24\"\n",
              "     width=\"24px\">\n",
              "    <g>\n",
              "        <path d=\"M19 3H5c-1.1 0-2 .9-2 2v14c0 1.1.9 2 2 2h14c1.1 0 2-.9 2-2V5c0-1.1-.9-2-2-2zM9 17H7v-7h2v7zm4 0h-2V7h2v10zm4 0h-2v-4h2v4z\"/>\n",
              "    </g>\n",
              "</svg>\n",
              "  </button>\n",
              "\n",
              "<style>\n",
              "  .colab-df-quickchart {\n",
              "      --bg-color: #E8F0FE;\n",
              "      --fill-color: #1967D2;\n",
              "      --hover-bg-color: #E2EBFA;\n",
              "      --hover-fill-color: #174EA6;\n",
              "      --disabled-fill-color: #AAA;\n",
              "      --disabled-bg-color: #DDD;\n",
              "  }\n",
              "\n",
              "  [theme=dark] .colab-df-quickchart {\n",
              "      --bg-color: #3B4455;\n",
              "      --fill-color: #D2E3FC;\n",
              "      --hover-bg-color: #434B5C;\n",
              "      --hover-fill-color: #FFFFFF;\n",
              "      --disabled-bg-color: #3B4455;\n",
              "      --disabled-fill-color: #666;\n",
              "  }\n",
              "\n",
              "  .colab-df-quickchart {\n",
              "    background-color: var(--bg-color);\n",
              "    border: none;\n",
              "    border-radius: 50%;\n",
              "    cursor: pointer;\n",
              "    display: none;\n",
              "    fill: var(--fill-color);\n",
              "    height: 32px;\n",
              "    padding: 0;\n",
              "    width: 32px;\n",
              "  }\n",
              "\n",
              "  .colab-df-quickchart:hover {\n",
              "    background-color: var(--hover-bg-color);\n",
              "    box-shadow: 0 1px 2px rgba(60, 64, 67, 0.3), 0 1px 3px 1px rgba(60, 64, 67, 0.15);\n",
              "    fill: var(--button-hover-fill-color);\n",
              "  }\n",
              "\n",
              "  .colab-df-quickchart-complete:disabled,\n",
              "  .colab-df-quickchart-complete:disabled:hover {\n",
              "    background-color: var(--disabled-bg-color);\n",
              "    fill: var(--disabled-fill-color);\n",
              "    box-shadow: none;\n",
              "  }\n",
              "\n",
              "  .colab-df-spinner {\n",
              "    border: 2px solid var(--fill-color);\n",
              "    border-color: transparent;\n",
              "    border-bottom-color: var(--fill-color);\n",
              "    animation:\n",
              "      spin 1s steps(1) infinite;\n",
              "  }\n",
              "\n",
              "  @keyframes spin {\n",
              "    0% {\n",
              "      border-color: transparent;\n",
              "      border-bottom-color: var(--fill-color);\n",
              "      border-left-color: var(--fill-color);\n",
              "    }\n",
              "    20% {\n",
              "      border-color: transparent;\n",
              "      border-left-color: var(--fill-color);\n",
              "      border-top-color: var(--fill-color);\n",
              "    }\n",
              "    30% {\n",
              "      border-color: transparent;\n",
              "      border-left-color: var(--fill-color);\n",
              "      border-top-color: var(--fill-color);\n",
              "      border-right-color: var(--fill-color);\n",
              "    }\n",
              "    40% {\n",
              "      border-color: transparent;\n",
              "      border-right-color: var(--fill-color);\n",
              "      border-top-color: var(--fill-color);\n",
              "    }\n",
              "    60% {\n",
              "      border-color: transparent;\n",
              "      border-right-color: var(--fill-color);\n",
              "    }\n",
              "    80% {\n",
              "      border-color: transparent;\n",
              "      border-right-color: var(--fill-color);\n",
              "      border-bottom-color: var(--fill-color);\n",
              "    }\n",
              "    90% {\n",
              "      border-color: transparent;\n",
              "      border-bottom-color: var(--fill-color);\n",
              "    }\n",
              "  }\n",
              "</style>\n",
              "\n",
              "  <script>\n",
              "    async function quickchart(key) {\n",
              "      const quickchartButtonEl =\n",
              "        document.querySelector('#' + key + ' button');\n",
              "      quickchartButtonEl.disabled = true;  // To prevent multiple clicks.\n",
              "      quickchartButtonEl.classList.add('colab-df-spinner');\n",
              "      try {\n",
              "        const charts = await google.colab.kernel.invokeFunction(\n",
              "            'suggestCharts', [key], {});\n",
              "      } catch (error) {\n",
              "        console.error('Error during call to suggestCharts:', error);\n",
              "      }\n",
              "      quickchartButtonEl.classList.remove('colab-df-spinner');\n",
              "      quickchartButtonEl.classList.add('colab-df-quickchart-complete');\n",
              "    }\n",
              "    (() => {\n",
              "      let quickchartButtonEl =\n",
              "        document.querySelector('#df-001b24b6-94c3-4720-981c-a3405ccaff86 button');\n",
              "      quickchartButtonEl.style.display =\n",
              "        google.colab.kernel.accessAllowed ? 'block' : 'none';\n",
              "    })();\n",
              "  </script>\n",
              "</div>\n",
              "\n",
              "    </div>\n",
              "  </div>\n"
            ],
            "application/vnd.google.colaboratory.intrinsic+json": {
              "type": "dataframe",
              "variable_name": "bostonDF",
              "summary": "{\n  \"name\": \"bostonDF\",\n  \"rows\": 506,\n  \"fields\": [\n    {\n      \"column\": \"CRIM\",\n      \"properties\": {\n        \"dtype\": \"number\",\n        \"std\": 8.601545105332487,\n        \"min\": 0.00632,\n        \"max\": 88.9762,\n        \"num_unique_values\": 504,\n        \"samples\": [\n          0.09178,\n          0.05644,\n          0.10574\n        ],\n        \"semantic_type\": \"\",\n        \"description\": \"\"\n      }\n    },\n    {\n      \"column\": \"ZN\",\n      \"properties\": {\n        \"dtype\": \"number\",\n        \"std\": 23.322452994515036,\n        \"min\": 0.0,\n        \"max\": 100.0,\n        \"num_unique_values\": 26,\n        \"samples\": [\n          25.0,\n          30.0,\n          18.0\n        ],\n        \"semantic_type\": \"\",\n        \"description\": \"\"\n      }\n    },\n    {\n      \"column\": \"INDUS\",\n      \"properties\": {\n        \"dtype\": \"number\",\n        \"std\": 6.8603529408975845,\n        \"min\": 0.46,\n        \"max\": 27.74,\n        \"num_unique_values\": 76,\n        \"samples\": [\n          8.14,\n          1.47,\n          1.22\n        ],\n        \"semantic_type\": \"\",\n        \"description\": \"\"\n      }\n    },\n    {\n      \"column\": \"CHAS\",\n      \"properties\": {\n        \"dtype\": \"category\",\n        \"num_unique_values\": 2,\n        \"samples\": [\n          \"1\",\n          \"0\"\n        ],\n        \"semantic_type\": \"\",\n        \"description\": \"\"\n      }\n    },\n    {\n      \"column\": \"NOX\",\n      \"properties\": {\n        \"dtype\": \"number\",\n        \"std\": 0.11587767566755611,\n        \"min\": 0.385,\n        \"max\": 0.871,\n        \"num_unique_values\": 81,\n        \"samples\": [\n          0.401,\n          0.538\n        ],\n        \"semantic_type\": \"\",\n        \"description\": \"\"\n      }\n    },\n    {\n      \"column\": \"RM\",\n      \"properties\": {\n        \"dtype\": \"number\",\n        \"std\": 0.7026171434153237,\n        \"min\": 3.561,\n        \"max\": 8.78,\n        \"num_unique_values\": 446,\n        \"samples\": [\n          6.849,\n          4.88\n        ],\n        \"semantic_type\": \"\",\n        \"description\": \"\"\n      }\n    },\n    {\n      \"column\": \"AGE\",\n      \"properties\": {\n        \"dtype\": \"number\",\n        \"std\": 28.148861406903638,\n        \"min\": 2.9,\n        \"max\": 100.0,\n        \"num_unique_values\": 356,\n        \"samples\": [\n          51.8,\n          33.8\n        ],\n        \"semantic_type\": \"\",\n        \"description\": \"\"\n      }\n    },\n    {\n      \"column\": \"DIS\",\n      \"properties\": {\n        \"dtype\": \"number\",\n        \"std\": 2.1057101266276104,\n        \"min\": 1.1296,\n        \"max\": 12.1265,\n        \"num_unique_values\": 412,\n        \"samples\": [\n          2.2955,\n          4.2515\n        ],\n        \"semantic_type\": \"\",\n        \"description\": \"\"\n      }\n    },\n    {\n      \"column\": \"RAD\",\n      \"properties\": {\n        \"dtype\": \"category\",\n        \"num_unique_values\": 9,\n        \"samples\": [\n          \"7\",\n          \"2\"\n        ],\n        \"semantic_type\": \"\",\n        \"description\": \"\"\n      }\n    },\n    {\n      \"column\": \"TAX\",\n      \"properties\": {\n        \"dtype\": \"number\",\n        \"std\": 168.53711605495926,\n        \"min\": 187.0,\n        \"max\": 711.0,\n        \"num_unique_values\": 66,\n        \"samples\": [\n          370.0,\n          666.0\n        ],\n        \"semantic_type\": \"\",\n        \"description\": \"\"\n      }\n    },\n    {\n      \"column\": \"PTRATIO\",\n      \"properties\": {\n        \"dtype\": \"number\",\n        \"std\": 2.164945523714446,\n        \"min\": 12.6,\n        \"max\": 22.0,\n        \"num_unique_values\": 46,\n        \"samples\": [\n          19.6,\n          15.6\n        ],\n        \"semantic_type\": \"\",\n        \"description\": \"\"\n      }\n    },\n    {\n      \"column\": \"B\",\n      \"properties\": {\n        \"dtype\": \"number\",\n        \"std\": 91.29486438415779,\n        \"min\": 0.32,\n        \"max\": 396.9,\n        \"num_unique_values\": 357,\n        \"samples\": [\n          396.24,\n          395.11\n        ],\n        \"semantic_type\": \"\",\n        \"description\": \"\"\n      }\n    },\n    {\n      \"column\": \"LSTAT\",\n      \"properties\": {\n        \"dtype\": \"number\",\n        \"std\": 7.141061511348571,\n        \"min\": 1.73,\n        \"max\": 37.97,\n        \"num_unique_values\": 455,\n        \"samples\": [\n          6.15,\n          4.32\n        ],\n        \"semantic_type\": \"\",\n        \"description\": \"\"\n      }\n    },\n    {\n      \"column\": \"PRICE\",\n      \"properties\": {\n        \"dtype\": \"number\",\n        \"std\": 9.19710408737982,\n        \"min\": 5.0,\n        \"max\": 50.0,\n        \"num_unique_values\": 229,\n        \"samples\": [\n          14.1,\n          22.5\n        ],\n        \"semantic_type\": \"\",\n        \"description\": \"\"\n      }\n    }\n  ]\n}"
            }
          },
          "metadata": {},
          "execution_count": 45
        }
      ],
      "source": [
        "import numpy as np\n",
        "import matplotlib.pyplot as plt\n",
        "import pandas as pd\n",
        "import seaborn as sns\n",
        "from scipy import stats\n",
        "from sklearn.datasets import fetch_openml\n",
        "import warnings\n",
        "warnings.filterwarnings('ignore')  #사이킷런 1.2 부터는 보스턴 주택가격 데이터가 없어진다는 warning 메시지가 출력됨(무시)\n",
        "%matplotlib inline\n",
        "\n",
        "# boston 데이터셋 로드\n",
        "boston = fetch_openml(name=\"boston\", version=1, parser='auto')\n",
        "\n",
        "# boston 데이터셋 DataFrame 변환\n",
        "bostonDF = pd.DataFrame(boston.data , columns = boston.feature_names)\n",
        "\n",
        "# boston dataset의 target array : 주택 가격 -> PRICE 컬럼으로 DataFrame에 추가\n",
        "bostonDF['PRICE'] = boston.target\n",
        "print('Boston 데이터셋 크기 :',bostonDF.shape)\n",
        "bostonDF.head()"
      ]
    },
    {
      "cell_type": "markdown",
      "metadata": {
        "id": "b0gCwhqP7pJ_"
      },
      "source": [
        "- 각 컬럼별로 주택가격에 미치는 영향도를 조사"
      ]
    },
    {
      "cell_type": "code",
      "source": [
        "print(bostonDF.dtypes)"
      ],
      "metadata": {
        "colab": {
          "base_uri": "https://localhost:8080/"
        },
        "id": "YaoQNN9BZgwm",
        "outputId": "82d67a68-93c1-4214-e095-73507f86e1fc"
      },
      "execution_count": 46,
      "outputs": [
        {
          "output_type": "stream",
          "name": "stdout",
          "text": [
            "CRIM        float64\n",
            "ZN          float64\n",
            "INDUS       float64\n",
            "CHAS       category\n",
            "NOX         float64\n",
            "RM          float64\n",
            "AGE         float64\n",
            "DIS         float64\n",
            "RAD        category\n",
            "TAX         float64\n",
            "PTRATIO     float64\n",
            "B           float64\n",
            "LSTAT       float64\n",
            "PRICE       float64\n",
            "dtype: object\n"
          ]
        }
      ]
    },
    {
      "cell_type": "markdown",
      "source": [
        "- 범주형 -> 숫자형으로 변환"
      ],
      "metadata": {
        "id": "OqFt0Qlwai_F"
      }
    },
    {
      "cell_type": "code",
      "source": [
        "bostonDF['CHAS'] = bostonDF['CHAS'].astype('int')\n",
        "bostonDF['RAD'] = bostonDF['RAD'].astype('int')"
      ],
      "metadata": {
        "id": "smIV56G-aoH2"
      },
      "execution_count": 47,
      "outputs": []
    },
    {
      "cell_type": "code",
      "execution_count": 48,
      "metadata": {
        "colab": {
          "base_uri": "https://localhost:8080/",
          "height": 666
        },
        "id": "ePn507sw7pJ_",
        "outputId": "600533d2-6357-4a91-8d20-5009f4c77e25"
      },
      "outputs": [
        {
          "output_type": "display_data",
          "data": {
            "text/plain": [
              "<Figure size 1600x800 with 8 Axes>"
            ],
            "image/png": "[encoded data removed]"
          },
          "metadata": {}
        }
      ],
      "source": [
        "# 2개의 행과 4개의 열을 가진 subplots를 이용 -> axs는 4x2개의 ax를 가짐\n",
        "fig, axs = plt.subplots(figsize=(16,8) , ncols=4 , nrows=2)\n",
        "lm_features = ['RM','ZN','INDUS','NOX','AGE','PTRATIO','LSTAT','RAD']\n",
        "for i , feature in enumerate(lm_features):\n",
        "    row = int(i/4)\n",
        "    col = i%4\n",
        "\n",
        "    # 시본의 regplot을 이용해 산점도와 선형 회귀 직선을 함께 표현\n",
        "    sns.regplot(x=feature , y='PRICE',data=bostonDF , ax=axs[row][col])\n",
        "\n",
        "fig1 = plt.gcf()\n",
        "fig1.savefig('p322_boston.tif', format='tif', dpi=300, bbox_inches='tight')"
      ]
    },
    {
      "cell_type": "markdown",
      "source": [
        "- RM, LSTAT의 PRICE 영향도가 가장 두드러지게 나타남!\n",
        "  - RM(방 개수) : 양 방향의 선형성(Positive Linearity)이 가장 큼\n",
        "    - 방의 크기가 클수록 가격이 증가\n",
        "  - LSTAT(하위 계층 비율) : 음 방향 선형성(Negative Linearity)이 가장 큼\n",
        "  "
      ],
      "metadata": {
        "id": "G-5zcAFUa2AZ"
      }
    },
    {
      "cell_type": "markdown",
      "metadata": {
        "id": "_doYq8Ht7pJ_"
      },
      "source": [
        "- 학습과 테스트 데이터 세트로 분리하고 학습/예측/평가 수행"
      ]
    },
    {
      "cell_type": "code",
      "execution_count": 49,
      "metadata": {
        "colab": {
          "base_uri": "https://localhost:8080/"
        },
        "id": "5qHP2bMS7pJ_",
        "outputId": "4d826b73-6ef6-454f-83a3-4e6a79d01575"
      },
      "outputs": [
        {
          "output_type": "stream",
          "name": "stdout",
          "text": [
            "MSE : 17.297 , RMSE : 4.159\n",
            "Variance score : 0.757\n"
          ]
        }
      ],
      "source": [
        "from sklearn.model_selection import train_test_split\n",
        "from sklearn.linear_model import LinearRegression\n",
        "from sklearn.metrics import mean_squared_error, r2_score\n",
        "\n",
        "y_target = bostonDF['PRICE']\n",
        "X_data = bostonDF.drop(['PRICE'],axis=1,inplace=False)\n",
        "\n",
        "X_train , X_test , y_train , y_test = train_test_split(X_data , y_target ,test_size=0.3, random_state=156)\n",
        "\n",
        "# Linear Regression OLS로 학습/예측/평가 수행\n",
        "lr = LinearRegression()\n",
        "lr.fit(X_train ,y_train )\n",
        "y_preds = lr.predict(X_test)\n",
        "mse = mean_squared_error(y_test, y_preds)\n",
        "rmse = np.sqrt(mse)\n",
        "\n",
        "print('MSE : {0:.3f} , RMSE : {1:.3F}'.format(mse , rmse))\n",
        "print('Variance score : {0:.3f}'.format(r2_score(y_test, y_preds)))"
      ]
    },
    {
      "cell_type": "code",
      "execution_count": 50,
      "metadata": {
        "colab": {
          "base_uri": "https://localhost:8080/"
        },
        "id": "gvFVocB97pJ_",
        "outputId": "e982462f-4e20-436c-994e-a29f90dc7e11"
      },
      "outputs": [
        {
          "output_type": "stream",
          "name": "stdout",
          "text": [
            "절편 값: 40.995595172164826\n",
            "회귀 계수값: [ -0.1   0.1   0.    3.  -19.8   3.4   0.   -1.7   0.4  -0.   -0.9   0.\n",
            "  -0.6]\n"
          ]
        }
      ],
      "source": [
        "print('절편 값:',lr.intercept_)\n",
        "print('회귀 계수값:', np.round(lr.coef_, 1))"
      ]
    },
    {
      "cell_type": "markdown",
      "source": [
        "- coef_\n",
        "  - 회귀 계수 값만 가지고 있기 때문에 피처별 회귀 계수 값으로 다시 매핑, 높은 값 순으로 출력\n",
        "- RM이 양의 값으로 회귀 계수가 가장 큼 + NOX 피쳐의 회귀 계수 - 값이 다소 커보임\n",
        "  - 최적화를 통해 피처 coefficients 변화가 같이 살펴볼 것"
      ],
      "metadata": {
        "id": "9feptfoQbgnX"
      }
    },
    {
      "cell_type": "code",
      "execution_count": 51,
      "metadata": {
        "colab": {
          "base_uri": "https://localhost:8080/",
          "height": 491
        },
        "id": "FLSjQwQL7pJ_",
        "outputId": "d770ff4d-f993-4904-b324-c5096418ddf6"
      },
      "outputs": [
        {
          "output_type": "execute_result",
          "data": {
            "text/plain": [
              "RM          3.4\n",
              "CHAS        3.0\n",
              "RAD         0.4\n",
              "ZN          0.1\n",
              "INDUS       0.0\n",
              "AGE         0.0\n",
              "TAX        -0.0\n",
              "B           0.0\n",
              "CRIM       -0.1\n",
              "LSTAT      -0.6\n",
              "PTRATIO    -0.9\n",
              "DIS        -1.7\n",
              "NOX       -19.8\n",
              "dtype: float64"
            ],
            "text/html": [
              "<div>\n",
              "<style scoped>\n",
              "    .dataframe tbody tr th:only-of-type {\n",
              "        vertical-align: middle;\n",
              "    }\n",
              "\n",
              "    .dataframe tbody tr th {\n",
              "        vertical-align: top;\n",
              "    }\n",
              "\n",
              "    .dataframe thead th {\n",
              "        text-align: right;\n",
              "    }\n",
              "</style>\n",
              "<table border=\"1\" class=\"dataframe\">\n",
              "  <thead>\n",
              "    <tr style=\"text-align: right;\">\n",
              "      <th></th>\n",
              "      <th>0</th>\n",
              "    </tr>\n",
              "  </thead>\n",
              "  <tbody>\n",
              "    <tr>\n",
              "      <th>RM</th>\n",
              "      <td>3.4</td>\n",
              "    </tr>\n",
              "    <tr>\n",
              "      <th>CHAS</th>\n",
              "      <td>3.0</td>\n",
              "    </tr>\n",
              "    <tr>\n",
              "      <th>RAD</th>\n",
              "      <td>0.4</td>\n",
              "    </tr>\n",
              "    <tr>\n",
              "      <th>ZN</th>\n",
              "      <td>0.1</td>\n",
              "    </tr>\n",
              "    <tr>\n",
              "      <th>INDUS</th>\n",
              "      <td>0.0</td>\n",
              "    </tr>\n",
              "    <tr>\n",
              "      <th>AGE</th>\n",
              "      <td>0.0</td>\n",
              "    </tr>\n",
              "    <tr>\n",
              "      <th>TAX</th>\n",
              "      <td>-0.0</td>\n",
              "    </tr>\n",
              "    <tr>\n",
              "      <th>B</th>\n",
              "      <td>0.0</td>\n",
              "    </tr>\n",
              "    <tr>\n",
              "      <th>CRIM</th>\n",
              "      <td>-0.1</td>\n",
              "    </tr>\n",
              "    <tr>\n",
              "      <th>LSTAT</th>\n",
              "      <td>-0.6</td>\n",
              "    </tr>\n",
              "    <tr>\n",
              "      <th>PTRATIO</th>\n",
              "      <td>-0.9</td>\n",
              "    </tr>\n",
              "    <tr>\n",
              "      <th>DIS</th>\n",
              "      <td>-1.7</td>\n",
              "    </tr>\n",
              "    <tr>\n",
              "      <th>NOX</th>\n",
              "      <td>-19.8</td>\n",
              "    </tr>\n",
              "  </tbody>\n",
              "</table>\n",
              "</div><br><label><b>dtype:</b> float64</label>"
            ]
          },
          "metadata": {},
          "execution_count": 51
        }
      ],
      "source": [
        "# 회귀 계수를 큰 값 순으로 정렬하기 위해 Series로 생성, index가 칼럼명에 유의\n",
        "coeff = pd.Series(data=np.round(lr.coef_, 1), index=X_data.columns)\n",
        "coeff.sort_values(ascending=False)"
      ]
    },
    {
      "cell_type": "markdown",
      "source": [
        "- 5개의 폴드 세트에서 cross_val_score()를 이용해 교차 검증으로 MSE와 RMSE를 측정\n",
        "  - 회귀의 경우는, MSE 값이 낮을수록 좋은 회귀 모델\n",
        "  - cross_val_score()에서 반환된 값에 다시 -1을 곱해야 -> 양의 값이 원래 모델에서 계산된 MSE값이 됨!"
      ],
      "metadata": {
        "id": "uFxHFL6zcYwt"
      }
    },
    {
      "cell_type": "code",
      "execution_count": 52,
      "metadata": {
        "colab": {
          "base_uri": "https://localhost:8080/"
        },
        "id": "tYDd1Mrp7pJ_",
        "outputId": "8cd9b661-fcd8-441e-f2b4-b4be5fce33ac"
      },
      "outputs": [
        {
          "output_type": "stream",
          "name": "stdout",
          "text": [
            " 5 folds의 개별 Negative MSE scores:  [-12.46 -26.05 -33.07 -80.76 -33.31]\n",
            " 5 folds의 개별 RMSE scores :  [3.53 5.1  5.75 8.99 5.77]\n",
            " 5 folds의 평균 RMSE : 5.829 \n"
          ]
        }
      ],
      "source": [
        "from sklearn.model_selection import cross_val_score\n",
        "\n",
        "y_target = bostonDF['PRICE']\n",
        "X_data = bostonDF.drop(['PRICE'],axis=1,inplace=False)\n",
        "lr = LinearRegression()\n",
        "\n",
        "# cross_val_score()로 5 Fold 셋으로 MSE를 구한 뒤, 이를 기반으로 다시 RMSE 구함\n",
        "neg_mse_scores = cross_val_score(lr, X_data, y_target, scoring=\"neg_mean_squared_error\", cv = 5)\n",
        "rmse_scores  = np.sqrt(-1 * neg_mse_scores)\n",
        "avg_rmse = np.mean(rmse_scores)\n",
        "\n",
        "# cross_val_score(scoring=\"neg_mean_squared_error\")로 반환된 값은 모두 음수\n",
        "print(' 5 folds의 개별 Negative MSE scores: ', np.round(neg_mse_scores, 2))\n",
        "print(' 5 folds의 개별 RMSE scores : ', np.round(rmse_scores, 2))\n",
        "print(' 5 folds의 평균 RMSE : {0:.3f} '.format(avg_rmse))"
      ]
    },
    {
      "cell_type": "markdown",
      "metadata": {
        "id": "qSEEf6PQ7pJ_"
      },
      "source": [
        "# 05. Polynomial Regression과 오버피팅/언더피팅 이해\n",
        "## Polynomial Regression 이해\n",
        "- 다항 회귀식 : $y = w_0 + w_1*x_1 + w_2*x_2 + w3*x_1*x_2 + w_4*x_1^2 + w_5*x_2^2$\n",
        "- 다항 회귀는 **선형 회귀**!\n",
        "> 회귀에서 선형 회귀/비선형 회귀를 나누는 기준 : 회귀 계수가 선형/비선형인지에 따른 것, 독립변수의 선형/비선형 여부와는 무관\n",
        "- 새 변수 z를 $z = [x_1, x_2, x_1*x_2, x_1^2, x_2^2]$로 한다면\n",
        "  - $y = w_0 + w_1*z_1 + w_2*z_2 + w3*z_3 + w_4*z_4 + w_5*z_5$로 표현 가능 -> 여전히 선형 회귀\n",
        "\n",
        "- 다항 회귀 곡선형으로 표현하는 것이 예측 성능이 더 높음!\n",
        "- 사이킷런에서는 : 직접 바로 적용은 안되고, 비선형 함수를 선형 모델에 적용시키는 방법을 사용해 구현\n",
        "  - PolynomialFeatures 클래스를 통해 피처를 Polynomial(다항식) 피처\n",
        "    - degree 파라미터를 통해 입력받은 단항식 피처를 degree에 해당하는 다항식 피처로 변환"
      ]
    },
    {
      "cell_type": "markdown",
      "metadata": {
        "id": "AvAVgxm_7pJ_"
      },
      "source": [
        "- PolynomialFeatures 클래스로 다항식 변환\n",
        "  - 단항값 $[x_1, x_2]$를 2차 다항값 $[1, x_1, x_2, x_1^2, x_1x_2, x_2^2]$로 변환"
      ]
    },
    {
      "cell_type": "code",
      "execution_count": 53,
      "metadata": {
        "colab": {
          "base_uri": "https://localhost:8080/"
        },
        "id": "nbFv2l7V7pJ_",
        "outputId": "54ab4a9b-7fe5-4956-f22b-bf220b9159f2"
      },
      "outputs": [
        {
          "output_type": "stream",
          "name": "stdout",
          "text": [
            "일차 단항식 계수 feature:\n",
            " [[0 1]\n",
            " [2 3]]\n",
            "변환된 2차 다항식 계수 feature:\n",
            " [[1. 0. 1. 0. 0. 1.]\n",
            " [1. 2. 3. 4. 6. 9.]]\n"
          ]
        }
      ],
      "source": [
        "from sklearn.preprocessing import PolynomialFeatures\n",
        "import numpy as np\n",
        "\n",
        "# 다항식으로 변환한 단항식 생성, [[0,1],[2,3]]의 2X2 행렬 생성\n",
        "X = np.arange(4).reshape(2,2)\n",
        "print('일차 단항식 계수 feature:\\n',X )\n",
        "\n",
        "# degree = 2인 2차 다항식으로 변환하기 위해 PolynomialFeatures를 이용하여 변환\n",
        "poly = PolynomialFeatures(degree=2)\n",
        "poly.fit(X)\n",
        "poly_ftr = poly.transform(X)\n",
        "print('변환된 2차 다항식 계수 feature:\\n', poly_ftr)"
      ]
    },
    {
      "cell_type": "markdown",
      "metadata": {
        "id": "vfV4D6yr7pJ_"
      },
      "source": [
        "- 3차 다항식 결정값을 구하는 함수 polynomial_func(X) 생성\n",
        "  - 즉, 회귀식은 결정값 $y = 1+ 2x_1 + 3x_1^2 + 4x_2^3$"
      ]
    },
    {
      "cell_type": "code",
      "execution_count": 54,
      "metadata": {
        "colab": {
          "base_uri": "https://localhost:8080/"
        },
        "id": "Hcczas5S7pJ_",
        "outputId": "223c00d2-89a9-4372-965e-8185d20a5af2"
      },
      "outputs": [
        {
          "output_type": "stream",
          "name": "stdout",
          "text": [
            "일차 단항식 계수 feature: \n",
            " [[0 1]\n",
            " [2 3]]\n",
            "[0 2]\n",
            "[1 3]\n",
            "삼차 다항식 결정값: \n",
            " [  5 125]\n"
          ]
        }
      ],
      "source": [
        "def polynomial_func(X):\n",
        "    y = 1 + 2*X[:,0] + 3*X[:,0]**2 + 4*X[:,1]**3\n",
        "    print(X[:, 0])\n",
        "    print(X[:, 1])\n",
        "    return y\n",
        "\n",
        "X = np.arange(0,4).reshape(2,2)\n",
        "\n",
        "print('일차 단항식 계수 feature: \\n' ,X)\n",
        "y = polynomial_func(X)\n",
        "print('삼차 다항식 결정값: \\n', y)"
      ]
    },
    {
      "cell_type": "markdown",
      "metadata": {
        "id": "DfVkBaq07pJ_"
      },
      "source": [
        "- 3차 다항식 계수의 피처값과 3차 다항식 결정값으로 학습\n",
        "  - 일차 단항식 계수 피처는 2개였지만 -> 3차 다항식 Polynomial 변환 이후 다항식 계수 피처가 10개로 늘어남\n",
        "  "
      ]
    },
    {
      "cell_type": "code",
      "execution_count": 55,
      "metadata": {
        "colab": {
          "base_uri": "https://localhost:8080/"
        },
        "id": "rcpDRtwi7pJ_",
        "outputId": "f0d06109-4fd4-4bd9-a532-bafb7dc9a217"
      },
      "outputs": [
        {
          "output_type": "stream",
          "name": "stdout",
          "text": [
            "3차 다항식 계수 feature: \n",
            " [[ 1.  0.  1.  0.  0.  1.  0.  0.  0.  1.]\n",
            " [ 1.  2.  3.  4.  6.  9.  8. 12. 18. 27.]]\n",
            "Polynomial 회귀 계수\n",
            " [0.   0.18 0.18 0.36 0.54 0.72 0.72 1.08 1.62 2.34]\n",
            "Polynomial 회귀 Shape : (10,)\n"
          ]
        }
      ],
      "source": [
        "# 3차 다항식 변환\n",
        "poly_ftr = PolynomialFeatures(degree=3).fit_transform(X)\n",
        "print('3차 다항식 계수 feature: \\n',poly_ftr)\n",
        "\n",
        "# Linear Regression에 3차 다항식 계수 feature와 3차 다항식 결정값으로 학습 후 회귀 계수 확인\n",
        "model = LinearRegression()\n",
        "model.fit(poly_ftr,y)\n",
        "print('Polynomial 회귀 계수\\n' , np.round(model.coef_, 2))\n",
        "print('Polynomial 회귀 Shape :', model.coef_.shape)"
      ]
    },
    {
      "cell_type": "markdown",
      "metadata": {
        "id": "qLQ60lJB7pKA"
      },
      "source": [
        "#### 코드 정리\n",
        "- 사이킷런 파이프라인(Pipeline)을 이용하여 3차 다항회귀 학습\n",
        "  - 사이킷런의 Pipeline 객체 : Feature 엔지니어링 변환과 모델 학습/예측을 순차 결합"
      ]
    },
    {
      "cell_type": "code",
      "execution_count": 56,
      "metadata": {
        "colab": {
          "base_uri": "https://localhost:8080/"
        },
        "id": "WvD1C7nJ7pKA",
        "outputId": "85717a7c-5926-4b2b-b527-a48fbc9a1f11"
      },
      "outputs": [
        {
          "output_type": "stream",
          "name": "stdout",
          "text": [
            "Polynomial 회귀 계수\n",
            " [0.   0.18 0.18 0.36 0.54 0.72 0.72 1.08 1.62 2.34]\n"
          ]
        }
      ],
      "source": [
        "from sklearn.preprocessing import PolynomialFeatures\n",
        "from sklearn.linear_model import LinearRegression\n",
        "from sklearn.pipeline import Pipeline\n",
        "import numpy as np\n",
        "\n",
        "def polynomial_func(X):\n",
        "    y = 1 + 2*X[:,0] + 3*X[:,0]**2 + 4*X[:,1]**3\n",
        "    return y\n",
        "\n",
        "# Pipeline 객체로 Streamline하게 Polynomial Feature 변환과 Linear Regression을 연결\n",
        "model = Pipeline([('poly', PolynomialFeatures(degree=3)),\n",
        "                  ('linear', LinearRegression())])\n",
        "X = np.arange(4).reshape(2,2)\n",
        "y = polynomial_func(X)\n",
        "\n",
        "model = model.fit(X, y)\n",
        "print('Polynomial 회귀 계수\\n', np.round(model.named_steps['linear'].coef_, 2))"
      ]
    },
    {
      "cell_type": "markdown",
      "metadata": {
        "id": "nlqe3SDX7pKA"
      },
      "source": [
        "#### 다항 회귀를 이용한 과소적합 및 과적합 이해\n",
        "- 다항식의 차수(degree)를 높일수록 학습 데이터에만 너무 맞춘 학습이 이뤄져 정작 테스트 데이터 환경에서는 예측 정확도가 떨어짐 -> 과적합 문제 발생"
      ]
    },
    {
      "cell_type": "markdown",
      "metadata": {
        "id": "ZjJ0WrIE7pKA"
      },
      "source": [
        "- cosine 곡선에 약간의 Noise 변동값을 더하여 실제값 곡선을 만듦"
      ]
    },
    {
      "cell_type": "code",
      "execution_count": 57,
      "metadata": {
        "id": "m8AeIjgQ7pKA"
      },
      "outputs": [],
      "source": [
        "import numpy as np\n",
        "import matplotlib.pyplot as plt\n",
        "from sklearn.pipeline import Pipeline\n",
        "from sklearn.preprocessing import PolynomialFeatures\n",
        "from sklearn.linear_model import LinearRegression\n",
        "from sklearn.model_selection import cross_val_score\n",
        "%matplotlib inline\n",
        "\n",
        "# 임의의 값으로 구성된 X값에 대해 코사인 변환 값 반환\n",
        "def true_fun(X):\n",
        "    return np.cos(1.5 * np.pi * X)\n",
        "\n",
        "# X는 0부터 1까지 30개의 임의의 값을 순서대로 샘플링한 데이터\n",
        "np.random.seed(0)\n",
        "n_samples = 30\n",
        "X = np.sort(np.random.rand(n_samples))\n",
        "\n",
        "# y 값은 코사인 기반의 true_fun()에서 약간의 노이즈 변동 값을 더한 값\n",
        "y = true_fun(X) + np.random.randn(n_samples) * 0.1"
      ]
    },
    {
      "cell_type": "code",
      "execution_count": 58,
      "metadata": {
        "colab": {
          "base_uri": "https://localhost:8080/",
          "height": 448
        },
        "id": "77zfmlDC7pKA",
        "outputId": "b841b99c-a32d-4b56-bc45-4e14b31de35f"
      },
      "outputs": [
        {
          "output_type": "execute_result",
          "data": {
            "text/plain": [
              "<matplotlib.collections.PathCollection at 0x78f603e26a40>"
            ]
          },
          "metadata": {},
          "execution_count": 58
        },
        {
          "output_type": "display_data",
          "data": {
            "text/plain": [
              "<Figure size 640x480 with 1 Axes>"
            ],
            "image/png": "[encoded data removed]"
          },
          "metadata": {}
        }
      ],
      "source": [
        "plt.scatter(X, y)"
      ]
    },
    {
      "cell_type": "code",
      "execution_count": 59,
      "metadata": {
        "colab": {
          "base_uri": "https://localhost:8080/",
          "height": 699
        },
        "id": "1Y2smOO97pKA",
        "outputId": "3e64d5b7-13fa-4f77-aa6f-ae42b5ffd83f"
      },
      "outputs": [
        {
          "output_type": "stream",
          "name": "stdout",
          "text": [
            "\n",
            "Degree 1 회귀 계수는 [-1.61] 입니다.\n",
            "Degree 1 MSE 는 0.4077289625098685 입니다.\n",
            "\n",
            "Degree 4 회귀 계수는 [  0.47 -17.79  23.59  -7.26] 입니다.\n",
            "Degree 4 MSE 는 0.04320874987232064 입니다.\n",
            "\n",
            "Degree 15 회귀 계수는 [-2.98293000e+03  1.03899390e+05 -1.87416123e+06  2.03716219e+07\n",
            " -1.44873283e+08  7.09315363e+08 -2.47065792e+09  6.24561050e+09\n",
            " -1.15676510e+10  1.56894936e+10 -1.54006023e+10  1.06457264e+10\n",
            " -4.91377530e+09  1.35919645e+09 -1.70380786e+08] 입니다.\n",
            "Degree 15 MSE 는 181238256.56423894 입니다.\n"
          ]
        },
        {
          "output_type": "display_data",
          "data": {
            "text/plain": [
              "<Figure size 1400x500 with 3 Axes>"
            ],
            "image/png": "[encoded data removed]"
          },
          "metadata": {}
        }
      ],
      "source": [
        "plt.figure(figsize=(14, 5))\n",
        "degrees = [1, 4, 15]\n",
        "\n",
        "# 다항 회귀의 차수(degree)를 1, 4, 15로 각각 변화시키며 비교\n",
        "for i in range(len(degrees)):\n",
        "    ax = plt.subplot(1, len(degrees), i + 1)\n",
        "    plt.setp(ax, xticks=(), yticks=())\n",
        "\n",
        "    # 개별 degree별로 Polynomial변환\n",
        "    polynomial_features = PolynomialFeatures(degree=degrees[i], include_bias=False)\n",
        "    linear_regression = LinearRegression()\n",
        "    pipeline = Pipeline([(\"polynomial_features\", polynomial_features),\n",
        "                         (\"linear_regression\", linear_regression)])\n",
        "    pipeline.fit(X.reshape(-1, 1), y)\n",
        "\n",
        "    # 교차 검증으로 다항 회귀 평가\n",
        "    scores = cross_val_score(pipeline, X.reshape(-1, 1), y, scoring=\"neg_mean_squared_error\", cv=10)\n",
        "    # Pipeline을 구성하는 세부 객체를 접근하는 named_steps['객체명']을 이용해 회귀계수 추출\n",
        "    coefficients = pipeline.named_steps['linear_regression'].coef_\n",
        "    print('\\nDegree {0} 회귀 계수는 {1} 입니다.'.format(degrees[i], np.round(coefficients, 2)))\n",
        "    print('Degree {0} MSE 는 {1} 입니다.'.format(degrees[i], -1*np.mean(scores)))\n",
        "\n",
        "    # 0부터 1까지 테스트 데이터 세트를 100개로 나눠 예측 수행\n",
        "    # 테스트 데이터 세트에 회귀 예측을 수행하고, 예측 곡선과 실제 곡선을 그려서 비교\n",
        "    X_test = np.linspace(0, 1, 100)\n",
        "\n",
        "    # 예측값 곡선\n",
        "    plt.plot(X_test, pipeline.predict(X_test[:, np.newaxis]), label=\"Model\")\n",
        "\n",
        "    # 실제 값 곡선\n",
        "    plt.plot(X_test, true_fun(X_test), '--', label=\"True function\")\n",
        "    plt.scatter(X, y, edgecolor='b', s=20, label=\"Samples\")\n",
        "    plt.xlabel(\"x\"); plt.ylabel(\"y\"); plt.xlim((0, 1)); plt.ylim((-2, 2)); plt.legend(loc=\"best\")\n",
        "    plt.title(\"Degree {}\\nMSE = {:.2e}(+/- {:.2e})\".format(degrees[i], -scores.mean(), scores.std()))\n",
        "\n",
        "plt.show()"
      ]
    },
    {
      "cell_type": "markdown",
      "source": [
        "- 실선 : 다항 회귀 예측 곡선\n",
        "- 점선 : 실제 데이터 세트 X, Y의 코사인 곡선\n",
        "- 학습 데이터\n",
        "  - 0부터 1까지의 30개의 임의의 X값과 코사인 Y값에 잡음을 변동값으로 추가해 구성\n",
        "  - MSE 평가는 학습 데이터를 10개의 교차 검증 세트로 나눠 측정해 평균한 것\n",
        "\n",
        "<br>\n",
        "\n",
        "- Degree 1\n",
        "  - 단순 선형 회귀\n",
        "  - 예측 곡선이 학습 데이터 패턴을 제대로 반영하지 못하고 있는 과소적합 모델\n",
        "  - MSE 값은 약 0.41\n",
        "- Degree 4\n",
        "  - 실제 데이터 세트와 유사\n",
        "  - 변동 노이즈까지 예측하지는 못했지만, 학습 데이터 세트를 비교적 잘 반영해 코사인 곡선 기반으로 테스트 데이터를 잘 예측한 곡선을 가진 모델이 되었음\n",
        "  - MSE 값은 약 0.04(가장 뛰어난 성능)\n",
        "- Degree 15\n",
        "  - MSE 값이 182581084.83 -> 오류값 과다 발생(과적합 강조를 위한 조치였음)\n",
        "  - 변동 노이즈를 지나치게 반영 -> 예측 곡선이 학습 데이터 세트만 정확히 예측, 테스트 값의 실제 곡선과는 완전히 다른 형태의 예측 곡선 생성\n",
        "  - 학습 데이터에 너무 충실하게 맞춰진 과적합 모델이 되었음"
      ],
      "metadata": {
        "id": "fPkYWj8Ak0-l"
      }
    },
    {
      "cell_type": "markdown",
      "source": [
        "#### 편향-분산 트레이드오프(Bias-Variance Trade off)\n",
        "- Degree 1과 같은 모델\n",
        "  - 매우 단순화된 모델\n",
        "  - 지나치게 한 방향성으로 치우침\n",
        "  - 고편향성(High Bias)을 가졌다고 표현\n",
        "- Degree 15와 같은 모델\n",
        "  - 학습 데이터 하나하나의 특성을 반영하며 매우 복잡한 모델이 되었음\n",
        "  - 지나치게 높은 변동성을 가지게 됨\n",
        "  - 고분산성(High Variance)을 가졌다고 표현\n",
        "\n",
        "<br>\n",
        "\n",
        "#### 편향과 분산의 특징\n",
        "- 한쪽이 높으면 한쪽이 낮아지는 경향\n",
        "- 편향이 높으면 분산은 낮아지고(과소적합)\n",
        "- 분산이 높으면 편향이 낮아짐(과적합)\n",
        "\n",
        "<br>\n",
        "\n",
        "#### 편향과 분산의 관계에 따른 전체 오류 값(Total Error)의 변화\n",
        "- 편향이 너무 높으면 전체 오류가 높음\n",
        "- 편향을 점점 맞추면 동시에 분산이 높아지고 전체 오류도 낮아지게 됨\n",
        "- 편향을 낮추고 분산을 높이며 전체 오류가 가장 낮아지는 **골디락스** 지점을 통과하며 분산을 지속적으로 높이면 -> 전체 오류 값이 오히려 증가하며 예측 성능이 다시 저하됨\n",
        "\n",
        "> - 높은 편향/낮은 분산 : 과소적합\n",
        "> - 낮은 편향/높은 분산 : 과적합\n",
        "> - 편향과 분산이 서로 트레이드오프를 이루며 오류 Cost 값이 최대로 낮아지는 모델을 구축하는 것이 가장 효율적인 머신러닝 모델!"
      ],
      "metadata": {
        "id": "NdvOWiTzmXVc"
      }
    },
    {
      "cell_type": "markdown",
      "metadata": {
        "id": "NUxjYEPr7pKD"
      },
      "source": [
        "# 06. 규제 선형 모델 - 릿지, 라쏘, 엘라스틱넷\n",
        "### 규제 선형 모델의 개요\n",
        "- 회귀 모델은 적절히 데이터에 적합하면서도 회귀 계수가 기하급수적으로 커지는 것을 제어할 수 있어야 함\n",
        "- 손실 함수 : 학습 데이터의 잔차 오류 값을 최소로 하는 RSS 최소화 방법과 과적합을 방지하기 위해 회귀 계수 값이 커지지 않도록 하는 방법이 균형을 이뤄야 함\n",
        "\n",
        "<br>\n",
        "\n",
        "### 과적합 개선 방법\n",
        "- 회귀 계수의 크기를 제어\n",
        "- 손실 함수의 목표가 $Min(RSS(W) + alpha * ||W||_2^2)$ 즉, 최소화하는 w 벡터를 찾는 것\n",
        "  - w 값을 0 또는 매우 작게 만들어야 Cost가 최소화되는 손실 함수 목표를 달성할 수 있음\n",
        "  - alpha 값을 크게 하면 -> 손실 함수는 회귀 계수 W의 값을 작게 해 과적합을 개선\n",
        "  - alpha 값을 작게 하면 -> 회귀 계수 W의 값이 커져도 어느 정도 상쇄 가능(학습 데이터 적합을 더 개선 가능)\n",
        "\n",
        "> 즉, alpha를 0부터 지속적으로 값을 증가 -> 회귀 계수 값의 크기를 감소시킬 수 있음 -> 이것이 **규제!**"
      ]
    },
    {
      "cell_type": "markdown",
      "source": [
        "## 릿지 회귀\n",
        "- L2 규제 계수 : alpha"
      ],
      "metadata": {
        "id": "dPAEFon7t3AF"
      }
    },
    {
      "cell_type": "code",
      "source": [
        "# 앞의 LinearRegression 예제에서 분할한 feature 데이터셋인 X_data과 Target 데이터셋인 Y_target 데이터셋을 그대로 이용\n",
        "from sklearn.linear_model import Ridge\n",
        "from sklearn.model_selection import cross_val_score\n",
        "from sklearn.datasets import fetch_openml\n",
        "from sklearn.preprocessing import StandardScaler\n",
        "import pandas as pd\n",
        "import numpy as np\n",
        "\n",
        "# Boston 데이터셋 로드\n",
        "boston = fetch_openml(name=\"boston\", version=1, as_frame=True)\n",
        "\n",
        "# DataFrame으로 변환 후, 누락된 값 처리\n",
        "bostonDF = pd.DataFrame(boston.data, columns=boston.feature_names)\n",
        "\n",
        "# boston dataset의 target array는 주택 가격 -> PRICE 컬럼으로 DataFrame에 추가\n",
        "bostonDF['PRICE'] = boston.target\n",
        "\n",
        "# 누락된 값 확인 및 제거\n",
        "if bostonDF.isnull().sum().sum() > 0:\n",
        "    bostonDF = bostonDF.dropna()\n",
        "\n",
        "# 타겟과 특성 분리\n",
        "y_target = bostonDF['PRICE']\n",
        "X_data = bostonDF.drop(['PRICE'], axis=1, inplace=False)\n",
        "\n",
        "# 특성 스케일링\n",
        "scaler = StandardScaler()\n",
        "X_scaled = scaler.fit_transform(X_data)\n",
        "\n",
        "# Ridge 회귀와 교차 검증 수행\n",
        "ridge = Ridge(alpha=10)\n",
        "neg_mse_scores = cross_val_score(ridge, X_scaled, y_target, scoring=\"neg_mean_squared_error\", cv=5)\n",
        "rmse_scores = np.sqrt(-1 * neg_mse_scores)\n",
        "avg_rmse = np.mean(rmse_scores)\n",
        "\n",
        "print('5 folds의 개별 Negative MSE scores: ', np.round(neg_mse_scores, 3))\n",
        "print('5 folds의 개별 RMSE scores: ', np.round(rmse_scores, 3))\n",
        "print('5 folds의 평균 RMSE: {0:.3f}'.format(avg_rmse))"
      ],
      "metadata": {
        "colab": {
          "base_uri": "https://localhost:8080/"
        },
        "id": "7k5qJr68hN75",
        "outputId": "226d0fc1-045f-43f7-89bd-99a90d321374"
      },
      "execution_count": 64,
      "outputs": [
        {
          "output_type": "stream",
          "name": "stdout",
          "text": [
            "5 folds의 개별 Negative MSE scores:  [-11.315 -24.117 -32.541 -78.387 -28.636]\n",
            "5 folds의 개별 RMSE scores:  [3.364 4.911 5.705 8.854 5.351]\n",
            "5 folds의 평균 RMSE: 5.637\n"
          ]
        }
      ]
    },
    {
      "cell_type": "markdown",
      "source": [
        "- RMSE 평균 수치보다 더 뛰어난 예측 성능을 보여줌"
      ],
      "metadata": {
        "id": "HtjZPOH0hmXj"
      }
    },
    {
      "cell_type": "markdown",
      "metadata": {
        "id": "S-Kf06Fe7pKE"
      },
      "source": [
        "<br>\n",
        "\n",
        "- alpha값을 0, 0.1, 1, 10, 100으로 변경하면서 RMSE 측정\n",
        "  - alpha가 100일 경우 가장 좋은 성능을 보임"
      ]
    },
    {
      "cell_type": "code",
      "execution_count": 66,
      "metadata": {
        "colab": {
          "base_uri": "https://localhost:8080/"
        },
        "id": "XmU3B_SR7pKE",
        "outputId": "6f3e5434-9a3d-445c-9ba5-6cad4cbd1b25"
      },
      "outputs": [
        {
          "output_type": "stream",
          "name": "stdout",
          "text": [
            "alpha 0 일 때 5 folds 의 평균 RMSE : 5.829\n",
            "alpha 0.1 일 때 5 folds 의 평균 RMSE : 5.826\n",
            "alpha 1 일 때 5 folds 의 평균 RMSE : 5.803\n",
            "alpha 10 일 때 5 folds 의 평균 RMSE : 5.637\n",
            "alpha 100 일 때 5 folds 의 평균 RMSE : 5.421\n"
          ]
        }
      ],
      "source": [
        "# 릿지에 사용될 alpha 파라미터 값 정의\n",
        "alphas = [0, 0.1, 1, 10, 100]\n",
        "\n",
        "# alpha 값을 반복하면서 평균 RMSE 계산\n",
        "for alpha in alphas:\n",
        "    ridge = Ridge(alpha=alpha)\n",
        "\n",
        "    # cross_val_score를 이용해 5 폴드의 평균 RMSE를 계산\n",
        "    neg_mse_scores = cross_val_score(ridge, X_scaled, y_target, scoring=\"neg_mean_squared_error\", cv=5)\n",
        "    avg_rmse = np.mean(np.sqrt(-1 * neg_mse_scores))\n",
        "    print('alpha {0} 일 때 5 folds 의 평균 RMSE : {1:.3f}'.format(alpha, avg_rmse))"
      ]
    },
    {
      "cell_type": "markdown",
      "metadata": {
        "id": "RR73Zuf97pKE"
      },
      "source": [
        "- 각 alpha에 따른 회귀 계수 값 시각화\n",
        "  - 각 alpha값별로 plt.subplots로 맷플롯립 축 생성\n",
        "  - NOX 피처의 경우 alpha 값을 계속 증가시킴에 따라 회귀 계수가 크게 작아지고 있음"
      ]
    },
    {
      "cell_type": "code",
      "execution_count": 67,
      "metadata": {
        "colab": {
          "base_uri": "https://localhost:8080/",
          "height": 457
        },
        "id": "X0BCnZZ27pKE",
        "outputId": "908f2b85-da23-481a-8e58-ec1adeb20ccd"
      },
      "outputs": [
        {
          "output_type": "display_data",
          "data": {
            "text/plain": [
              "<Figure size 1800x600 with 5 Axes>"
            ],
            "image/png": "[encoded data removed]"
          },
          "metadata": {}
        }
      ],
      "source": [
        "# 각 alpha에 따른 회귀 계수 값을 시각화하기 위해 5개의 열로 된 맷플롯립 축 생성\n",
        "fig, axs = plt.subplots(figsize=(18,6) , nrows=1 , ncols=5)\n",
        "\n",
        "# 각 alpha에 따른 회귀 계수 값을 데이터로 저장하기 위한 DataFrame 생성\n",
        "coeff_df = pd.DataFrame()\n",
        "\n",
        "# alphas 리스트 값을 차례로 입력해 회귀 계수 값 시각화 및 데이터 저장. pos는 axis의 위치 지정\n",
        "for pos, alpha in enumerate(alphas):\n",
        "    ridge = Ridge(alpha = alpha)\n",
        "    ridge.fit(X_data, y_target)\n",
        "\n",
        "    # alpha에 따른 피처별 회귀 계수를 Series로 변환하고 이를 DataFrame의 컬럼으로 추가\n",
        "    coeff = pd.Series(data=ridge.coef_, index=X_data.columns)\n",
        "    colname='alpha:'+str(alpha)\n",
        "    coeff_df[colname] = coeff\n",
        "\n",
        "    # 막대 그래프로 각 alpha 값에서의 회귀 계수를 시각화 -> 회귀 계수값이 높은순으로 표현\n",
        "    coeff = coeff.sort_values(ascending=False)\n",
        "    axs[pos].set_title(colname)\n",
        "    axs[pos].set_xlim(-3,6)\n",
        "    sns.barplot(x=coeff.values , y=coeff.index, ax=axs[pos])\n",
        "\n",
        "# for 문 바깥에서 맷플롯립의 show 호출 및 alpha에 따른 피처별 회귀 계수를 DataFrame으로 표시\n",
        "plt.show()"
      ]
    },
    {
      "cell_type": "markdown",
      "metadata": {
        "id": "4x_XhyrT7pKE"
      },
      "source": [
        "- alpha 값에 따른 컬럼별 회귀계수 출력\n",
        "  - 릿지 회귀는 회귀 계수를 0으로 만들지는 않는다!"
      ]
    },
    {
      "cell_type": "code",
      "execution_count": 68,
      "metadata": {
        "colab": {
          "base_uri": "https://localhost:8080/",
          "height": 457
        },
        "id": "GFh2o29M7pKE",
        "outputId": "71e0fe2d-6381-48e3-855a-56ed7f83644a"
      },
      "outputs": [
        {
          "output_type": "execute_result",
          "data": {
            "text/plain": [
              "           alpha:0  alpha:0.1    alpha:1  alpha:10  alpha:100\n",
              "RM        3.809865   3.818233   3.854000  3.702272   2.334536\n",
              "CHAS      2.686734   2.670019   2.552393  1.952021   0.638335\n",
              "RAD       0.306049   0.303515   0.290142  0.279596   0.315358\n",
              "ZN        0.046420   0.046572   0.047443  0.049579   0.054496\n",
              "INDUS     0.020559   0.015999  -0.008805 -0.042962  -0.052826\n",
              "B         0.009312   0.009368   0.009673  0.010037   0.009393\n",
              "AGE       0.000692  -0.000269  -0.005415 -0.010707   0.001212\n",
              "TAX      -0.012335  -0.012421  -0.012912 -0.013993  -0.015856\n",
              "CRIM     -0.108011  -0.107474  -0.104595 -0.101435  -0.102202\n",
              "LSTAT    -0.524758  -0.525966  -0.533343 -0.559366  -0.660764\n",
              "PTRATIO  -0.952747  -0.940759  -0.876074 -0.797945  -0.829218\n",
              "DIS      -1.475567  -1.459626  -1.372654 -1.248808  -1.153390\n",
              "NOX     -17.766611 -16.684645 -10.777015 -2.371619  -0.262847"
            ],
            "text/html": [
              "\n",
              "  <div id=\"df-8474fd85-61eb-4237-a09b-21bc1afe94e0\" class=\"colab-df-container\">\n",
              "    <div>\n",
              "<style scoped>\n",
              "    .dataframe tbody tr th:only-of-type {\n",
              "        vertical-align: middle;\n",
              "    }\n",
              "\n",
              "    .dataframe tbody tr th {\n",
              "        vertical-align: top;\n",
              "    }\n",
              "\n",
              "    .dataframe thead th {\n",
              "        text-align: right;\n",
              "    }\n",
              "</style>\n",
              "<table border=\"1\" class=\"dataframe\">\n",
              "  <thead>\n",
              "    <tr style=\"text-align: right;\">\n",
              "      <th></th>\n",
              "      <th>alpha:0</th>\n",
              "      <th>alpha:0.1</th>\n",
              "      <th>alpha:1</th>\n",
              "      <th>alpha:10</th>\n",
              "      <th>alpha:100</th>\n",
              "    </tr>\n",
              "  </thead>\n",
              "  <tbody>\n",
              "    <tr>\n",
              "      <th>RM</th>\n",
              "      <td>3.809865</td>\n",
              "      <td>3.818233</td>\n",
              "      <td>3.854000</td>\n",
              "      <td>3.702272</td>\n",
              "      <td>2.334536</td>\n",
              "    </tr>\n",
              "    <tr>\n",
              "      <th>CHAS</th>\n",
              "      <td>2.686734</td>\n",
              "      <td>2.670019</td>\n",
              "      <td>2.552393</td>\n",
              "      <td>1.952021</td>\n",
              "      <td>0.638335</td>\n",
              "    </tr>\n",
              "    <tr>\n",
              "      <th>RAD</th>\n",
              "      <td>0.306049</td>\n",
              "      <td>0.303515</td>\n",
              "      <td>0.290142</td>\n",
              "      <td>0.279596</td>\n",
              "      <td>0.315358</td>\n",
              "    </tr>\n",
              "    <tr>\n",
              "      <th>ZN</th>\n",
              "      <td>0.046420</td>\n",
              "      <td>0.046572</td>\n",
              "      <td>0.047443</td>\n",
              "      <td>0.049579</td>\n",
              "      <td>0.054496</td>\n",
              "    </tr>\n",
              "    <tr>\n",
              "      <th>INDUS</th>\n",
              "      <td>0.020559</td>\n",
              "      <td>0.015999</td>\n",
              "      <td>-0.008805</td>\n",
              "      <td>-0.042962</td>\n",
              "      <td>-0.052826</td>\n",
              "    </tr>\n",
              "    <tr>\n",
              "      <th>B</th>\n",
              "      <td>0.009312</td>\n",
              "      <td>0.009368</td>\n",
              "      <td>0.009673</td>\n",
              "      <td>0.010037</td>\n",
              "      <td>0.009393</td>\n",
              "    </tr>\n",
              "    <tr>\n",
              "      <th>AGE</th>\n",
              "      <td>0.000692</td>\n",
              "      <td>-0.000269</td>\n",
              "      <td>-0.005415</td>\n",
              "      <td>-0.010707</td>\n",
              "      <td>0.001212</td>\n",
              "    </tr>\n",
              "    <tr>\n",
              "      <th>TAX</th>\n",
              "      <td>-0.012335</td>\n",
              "      <td>-0.012421</td>\n",
              "      <td>-0.012912</td>\n",
              "      <td>-0.013993</td>\n",
              "      <td>-0.015856</td>\n",
              "    </tr>\n",
              "    <tr>\n",
              "      <th>CRIM</th>\n",
              "      <td>-0.108011</td>\n",
              "      <td>-0.107474</td>\n",
              "      <td>-0.104595</td>\n",
              "      <td>-0.101435</td>\n",
              "      <td>-0.102202</td>\n",
              "    </tr>\n",
              "    <tr>\n",
              "      <th>LSTAT</th>\n",
              "      <td>-0.524758</td>\n",
              "      <td>-0.525966</td>\n",
              "      <td>-0.533343</td>\n",
              "      <td>-0.559366</td>\n",
              "      <td>-0.660764</td>\n",
              "    </tr>\n",
              "    <tr>\n",
              "      <th>PTRATIO</th>\n",
              "      <td>-0.952747</td>\n",
              "      <td>-0.940759</td>\n",
              "      <td>-0.876074</td>\n",
              "      <td>-0.797945</td>\n",
              "      <td>-0.829218</td>\n",
              "    </tr>\n",
              "    <tr>\n",
              "      <th>DIS</th>\n",
              "      <td>-1.475567</td>\n",
              "      <td>-1.459626</td>\n",
              "      <td>-1.372654</td>\n",
              "      <td>-1.248808</td>\n",
              "      <td>-1.153390</td>\n",
              "    </tr>\n",
              "    <tr>\n",
              "      <th>NOX</th>\n",
              "      <td>-17.766611</td>\n",
              "      <td>-16.684645</td>\n",
              "      <td>-10.777015</td>\n",
              "      <td>-2.371619</td>\n",
              "      <td>-0.262847</td>\n",
              "    </tr>\n",
              "  </tbody>\n",
              "</table>\n",
              "</div>\n",
              "    <div class=\"colab-df-buttons\">\n",
              "\n",
              "  <div class=\"colab-df-container\">\n",
              "    <button class=\"colab-df-convert\" onclick=\"convertToInteractive('df-8474fd85-61eb-4237-a09b-21bc1afe94e0')\"\n",
              "            title=\"Convert this dataframe to an interactive table.\"\n",
              "            style=\"display:none;\">\n",
              "\n",
              "  <svg xmlns=\"http://www.w3.org/2000/svg\" height=\"24px\" viewBox=\"0 -960 960 960\">\n",
              "    <path d=\"M120-120v-720h720v720H120Zm60-500h600v-160H180v160Zm220 220h160v-160H400v160Zm0 220h160v-160H400v160ZM180-400h160v-160H180v160Zm440 0h160v-160H620v160ZM180-180h160v-160H180v160Zm440 0h160v-160H620v160Z\"/>\n",
              "  </svg>\n",
              "    </button>\n",
              "\n",
              "  <style>\n",
              "    .colab-df-container {\n",
              "      display:flex;\n",
              "      gap: 12px;\n",
              "    }\n",
              "\n",
              "    .colab-df-convert {\n",
              "      background-color: #E8F0FE;\n",
              "      border: none;\n",
              "      border-radius: 50%;\n",
              "      cursor: pointer;\n",
              "      display: none;\n",
              "      fill: #1967D2;\n",
              "      height: 32px;\n",
              "      padding: 0 0 0 0;\n",
              "      width: 32px;\n",
              "    }\n",
              "\n",
              "    .colab-df-convert:hover {\n",
              "      background-color: #E2EBFA;\n",
              "      box-shadow: 0px 1px 2px rgba(60, 64, 67, 0.3), 0px 1px 3px 1px rgba(60, 64, 67, 0.15);\n",
              "      fill: #174EA6;\n",
              "    }\n",
              "\n",
              "    .colab-df-buttons div {\n",
              "      margin-bottom: 4px;\n",
              "    }\n",
              "\n",
              "    [theme=dark] .colab-df-convert {\n",
              "      background-color: #3B4455;\n",
              "      fill: #D2E3FC;\n",
              "    }\n",
              "\n",
              "    [theme=dark] .colab-df-convert:hover {\n",
              "      background-color: #434B5C;\n",
              "      box-shadow: 0px 1px 3px 1px rgba(0, 0, 0, 0.15);\n",
              "      filter: drop-shadow(0px 1px 2px rgba(0, 0, 0, 0.3));\n",
              "      fill: #FFFFFF;\n",
              "    }\n",
              "  </style>\n",
              "\n",
              "    <script>\n",
              "      const buttonEl =\n",
              "        document.querySelector('#df-8474fd85-61eb-4237-a09b-21bc1afe94e0 button.colab-df-convert');\n",
              "      buttonEl.style.display =\n",
              "        google.colab.kernel.accessAllowed ? 'block' : 'none';\n",
              "\n",
              "      async function convertToInteractive(key) {\n",
              "        const element = document.querySelector('#df-8474fd85-61eb-4237-a09b-21bc1afe94e0');\n",
              "        const dataTable =\n",
              "          await google.colab.kernel.invokeFunction('convertToInteractive',\n",
              "                                                    [key], {});\n",
              "        if (!dataTable) return;\n",
              "\n",
              "        const docLinkHtml = 'Like what you see? Visit the ' +\n",
              "          '<a target=\"_blank\" href=https://colab.research.google.com/notebooks/data_table.ipynb>data table notebook</a>'\n",
              "          + ' to learn more about interactive tables.';\n",
              "        element.innerHTML = '';\n",
              "        dataTable['output_type'] = 'display_data';\n",
              "        await google.colab.output.renderOutput(dataTable, element);\n",
              "        const docLink = document.createElement('div');\n",
              "        docLink.innerHTML = docLinkHtml;\n",
              "        element.appendChild(docLink);\n",
              "      }\n",
              "    </script>\n",
              "  </div>\n",
              "\n",
              "\n",
              "<div id=\"df-e55e29a3-14c7-4da8-97bc-c0d73566bf35\">\n",
              "  <button class=\"colab-df-quickchart\" onclick=\"quickchart('df-e55e29a3-14c7-4da8-97bc-c0d73566bf35')\"\n",
              "            title=\"Suggest charts\"\n",
              "            style=\"display:none;\">\n",
              "\n",
              "<svg xmlns=\"http://www.w3.org/2000/svg\" height=\"24px\"viewBox=\"0 0 24 24\"\n",
              "     width=\"24px\">\n",
              "    <g>\n",
              "        <path d=\"M19 3H5c-1.1 0-2 .9-2 2v14c0 1.1.9 2 2 2h14c1.1 0 2-.9 2-2V5c0-1.1-.9-2-2-2zM9 17H7v-7h2v7zm4 0h-2V7h2v10zm4 0h-2v-4h2v4z\"/>\n",
              "    </g>\n",
              "</svg>\n",
              "  </button>\n",
              "\n",
              "<style>\n",
              "  .colab-df-quickchart {\n",
              "      --bg-color: #E8F0FE;\n",
              "      --fill-color: #1967D2;\n",
              "      --hover-bg-color: #E2EBFA;\n",
              "      --hover-fill-color: #174EA6;\n",
              "      --disabled-fill-color: #AAA;\n",
              "      --disabled-bg-color: #DDD;\n",
              "  }\n",
              "\n",
              "  [theme=dark] .colab-df-quickchart {\n",
              "      --bg-color: #3B4455;\n",
              "      --fill-color: #D2E3FC;\n",
              "      --hover-bg-color: #434B5C;\n",
              "      --hover-fill-color: #FFFFFF;\n",
              "      --disabled-bg-color: #3B4455;\n",
              "      --disabled-fill-color: #666;\n",
              "  }\n",
              "\n",
              "  .colab-df-quickchart {\n",
              "    background-color: var(--bg-color);\n",
              "    border: none;\n",
              "    border-radius: 50%;\n",
              "    cursor: pointer;\n",
              "    display: none;\n",
              "    fill: var(--fill-color);\n",
              "    height: 32px;\n",
              "    padding: 0;\n",
              "    width: 32px;\n",
              "  }\n",
              "\n",
              "  .colab-df-quickchart:hover {\n",
              "    background-color: var(--hover-bg-color);\n",
              "    box-shadow: 0 1px 2px rgba(60, 64, 67, 0.3), 0 1px 3px 1px rgba(60, 64, 67, 0.15);\n",
              "    fill: var(--button-hover-fill-color);\n",
              "  }\n",
              "\n",
              "  .colab-df-quickchart-complete:disabled,\n",
              "  .colab-df-quickchart-complete:disabled:hover {\n",
              "    background-color: var(--disabled-bg-color);\n",
              "    fill: var(--disabled-fill-color);\n",
              "    box-shadow: none;\n",
              "  }\n",
              "\n",
              "  .colab-df-spinner {\n",
              "    border: 2px solid var(--fill-color);\n",
              "    border-color: transparent;\n",
              "    border-bottom-color: var(--fill-color);\n",
              "    animation:\n",
              "      spin 1s steps(1) infinite;\n",
              "  }\n",
              "\n",
              "  @keyframes spin {\n",
              "    0% {\n",
              "      border-color: transparent;\n",
              "      border-bottom-color: var(--fill-color);\n",
              "      border-left-color: var(--fill-color);\n",
              "    }\n",
              "    20% {\n",
              "      border-color: transparent;\n",
              "      border-left-color: var(--fill-color);\n",
              "      border-top-color: var(--fill-color);\n",
              "    }\n",
              "    30% {\n",
              "      border-color: transparent;\n",
              "      border-left-color: var(--fill-color);\n",
              "      border-top-color: var(--fill-color);\n",
              "      border-right-color: var(--fill-color);\n",
              "    }\n",
              "    40% {\n",
              "      border-color: transparent;\n",
              "      border-right-color: var(--fill-color);\n",
              "      border-top-color: var(--fill-color);\n",
              "    }\n",
              "    60% {\n",
              "      border-color: transparent;\n",
              "      border-right-color: var(--fill-color);\n",
              "    }\n",
              "    80% {\n",
              "      border-color: transparent;\n",
              "      border-right-color: var(--fill-color);\n",
              "      border-bottom-color: var(--fill-color);\n",
              "    }\n",
              "    90% {\n",
              "      border-color: transparent;\n",
              "      border-bottom-color: var(--fill-color);\n",
              "    }\n",
              "  }\n",
              "</style>\n",
              "\n",
              "  <script>\n",
              "    async function quickchart(key) {\n",
              "      const quickchartButtonEl =\n",
              "        document.querySelector('#' + key + ' button');\n",
              "      quickchartButtonEl.disabled = true;  // To prevent multiple clicks.\n",
              "      quickchartButtonEl.classList.add('colab-df-spinner');\n",
              "      try {\n",
              "        const charts = await google.colab.kernel.invokeFunction(\n",
              "            'suggestCharts', [key], {});\n",
              "      } catch (error) {\n",
              "        console.error('Error during call to suggestCharts:', error);\n",
              "      }\n",
              "      quickchartButtonEl.classList.remove('colab-df-spinner');\n",
              "      quickchartButtonEl.classList.add('colab-df-quickchart-complete');\n",
              "    }\n",
              "    (() => {\n",
              "      let quickchartButtonEl =\n",
              "        document.querySelector('#df-e55e29a3-14c7-4da8-97bc-c0d73566bf35 button');\n",
              "      quickchartButtonEl.style.display =\n",
              "        google.colab.kernel.accessAllowed ? 'block' : 'none';\n",
              "    })();\n",
              "  </script>\n",
              "</div>\n",
              "\n",
              "    </div>\n",
              "  </div>\n"
            ],
            "application/vnd.google.colaboratory.intrinsic+json": {
              "type": "dataframe",
              "summary": "{\n  \"name\": \"coeff_df\",\n  \"rows\": 13,\n  \"fields\": [\n    {\n      \"column\": \"alpha:0\",\n      \"properties\": {\n        \"dtype\": \"number\",\n        \"std\": 5.211069023334257,\n        \"min\": -17.766611228300096,\n        \"max\": 3.809865206809224,\n        \"num_unique_values\": 13,\n        \"samples\": [\n          -1.4755668456002526,\n          -0.5247583778554896,\n          3.809865206809224\n        ],\n        \"semantic_type\": \"\",\n        \"description\": \"\"\n      }\n    },\n    {\n      \"column\": \"alpha:0.1\",\n      \"properties\": {\n        \"dtype\": \"number\",\n        \"std\": 4.922292368718134,\n        \"min\": -16.68464523185645,\n        \"max\": 3.818233217307196,\n        \"num_unique_values\": 13,\n        \"samples\": [\n          -1.4596255697013627,\n          -0.5259662030656257,\n          3.818233217307196\n        ],\n        \"semantic_type\": \"\",\n        \"description\": \"\"\n      }\n    },\n    {\n      \"column\": \"alpha:1\",\n      \"properties\": {\n        \"dtype\": \"number\",\n        \"std\": 3.3769326762417964,\n        \"min\": -10.77701464816452,\n        \"max\": 3.8540001982986767,\n        \"num_unique_values\": 13,\n        \"samples\": [\n          -1.3726535250455092,\n          -0.5333432253389818,\n          3.8540001982986767\n        ],\n        \"semantic_type\": \"\",\n        \"description\": \"\"\n      }\n    },\n    {\n      \"column\": \"alpha:10\",\n      \"properties\": {\n        \"dtype\": \"number\",\n        \"std\": 1.463128641844877,\n        \"min\": -2.3716189615754737,\n        \"max\": 3.7022720695011744,\n        \"num_unique_values\": 13,\n        \"samples\": [\n          -1.2488082128636517,\n          -0.5593664222657841,\n          3.7022720695011744\n        ],\n        \"semantic_type\": \"\",\n        \"description\": \"\"\n      }\n    },\n    {\n      \"column\": \"alpha:100\",\n      \"properties\": {\n        \"dtype\": \"number\",\n        \"std\": 0.8411928260367438,\n        \"min\": -1.1533898902377873,\n        \"max\": 2.334535785331564,\n        \"num_unique_values\": 13,\n        \"samples\": [\n          -1.1533898902377873,\n          -0.6607638276989454,\n          2.334535785331564\n        ],\n        \"semantic_type\": \"\",\n        \"description\": \"\"\n      }\n    }\n  ]\n}"
            }
          },
          "metadata": {},
          "execution_count": 68
        }
      ],
      "source": [
        "ridge_alphas = [0, 0.1, 1, 10, 100]\n",
        "sort_column = 'alpha:'+str(ridge_alphas[0])\n",
        "coeff_df.sort_values(by=sort_column, ascending=False)"
      ]
    },
    {
      "cell_type": "markdown",
      "metadata": {
        "id": "zAvIKddL7pKE"
      },
      "source": [
        "## 라쏘 회귀\n",
        "- W의 절댓값에 패널티를 부여하는 L1 규제를 선형 회귀에 적용한 것\n",
        "  - L1 규제: $alpha * ||W||_1$을 의미\n",
        "    - 불필요한 회귀 계수를 급격하게 감소시켜 0으로 만들고 제거\n",
        "    - 적절한 피처만 회귀에 포함시키는 피처 선택의 특성을 가지고 있음\n",
        "- 라쏘 회귀 손실함수의 목표\n",
        "  - $RSS(W) + alphaZ*||W||_1$식을 최소화하는 W를 찾는 것\n"
      ]
    },
    {
      "cell_type": "code",
      "execution_count": 71,
      "metadata": {
        "colab": {
          "base_uri": "https://localhost:8080/"
        },
        "id": "hirrcTYx7pKE",
        "outputId": "ce6b2475-ffc9-4c28-a4e9-eb5ce1456833"
      },
      "outputs": [
        {
          "output_type": "stream",
          "name": "stdout",
          "text": [
            "#######  Lasso #######\n",
            "alpha 0.07일 때 5 폴드 세트의 평균 RMSE: 5.676\n",
            "alpha 0.1일 때 5 폴드 세트의 평균 RMSE: 5.658\n",
            "alpha 0.5일 때 5 폴드 세트의 평균 RMSE: 5.843\n",
            "alpha 1일 때 5 폴드 세트의 평균 RMSE: 6.078\n",
            "alpha 3일 때 5 폴드 세트의 평균 RMSE: 7.281\n"
          ]
        }
      ],
      "source": [
        "def get_linear_reg_eval(model_name, params=None, X_data_n=None, y_target_n=None, verbose=True, return_coeff=True):\n",
        "    coeff_df = pd.DataFrame()\n",
        "    if verbose: print('####### ', model_name , '#######')\n",
        "\n",
        "    for param in params:\n",
        "        if model_name == 'Ridge': model = Ridge(alpha=param)\n",
        "        elif model_name == 'Lasso': model = Lasso(alpha=param)\n",
        "        elif model_name == 'ElasticNet': model = ElasticNet(alpha=param, l1_ratio=0.7)\n",
        "\n",
        "        # cross_val_score를 이용해 5 폴드의 평균 RMSE를 계산\n",
        "        neg_mse_scores = cross_val_score(model, X_data_n, y_target_n, scoring=\"neg_mean_squared_error\", cv=5)\n",
        "        avg_rmse = np.mean(np.sqrt(-1 * neg_mse_scores))\n",
        "        print('alpha {0}일 때 5 폴드 세트의 평균 RMSE: {1:.3f}'.format(param, avg_rmse))\n",
        "\n",
        "        # 회귀 계수 추출\n",
        "        model.fit(X_data_n, y_target_n)\n",
        "        if return_coeff:\n",
        "            # alpha에 따른 피처별 회귀 계수를 Series로 변환하고 이를 DataFrame의 컬럼으로 추가\n",
        "            coeff = pd.Series(data=model.coef_, index=X_data.columns)\n",
        "            colname = 'alpha:' + str(param)\n",
        "            coeff_df[colname] = coeff\n",
        "\n",
        "    return coeff_df\n",
        "\n",
        "# Lasso에 사용할 alpha 파라미터 값 정의 후 함수 호출\n",
        "lasso_alphas = [0.07, 0.1, 0.5, 1, 3]\n",
        "coeff_lasso_df = get_linear_reg_eval('Lasso', params=lasso_alphas, X_data_n=X_scaled, y_target_n=y_target)"
      ]
    },
    {
      "cell_type": "markdown",
      "source": [
        "- 교재와는 달리 alpha가 0.1일 때 가장 좋은 성능"
      ],
      "metadata": {
        "id": "OucHfexul-Jg"
      }
    },
    {
      "cell_type": "code",
      "execution_count": 72,
      "metadata": {
        "colab": {
          "base_uri": "https://localhost:8080/",
          "height": 457
        },
        "id": "1dsaPrLB7pKE",
        "outputId": "58655bc9-73f4-42a3-ff27-65f1e622d3f5"
      },
      "outputs": [
        {
          "output_type": "execute_result",
          "data": {
            "text/plain": [
              "         alpha:0.07  alpha:0.1  alpha:0.5   alpha:1   alpha:3\n",
              "RM         2.778925   2.826269   2.974259  2.713355  1.708455\n",
              "RAD        1.618828   1.195937  -0.000000 -0.000000 -0.000000\n",
              "ZN         0.816504   0.708409   0.000000  0.000000  0.000000\n",
              "B          0.787697   0.762165   0.543139  0.180957  0.000000\n",
              "CHAS       0.667291   0.657607   0.397079  0.000000  0.000000\n",
              "INDUS     -0.000000  -0.000000  -0.000000 -0.000000 -0.000000\n",
              "AGE       -0.000000  -0.000000  -0.000000 -0.000000 -0.000000\n",
              "CRIM      -0.722065  -0.632304  -0.115265 -0.000000 -0.000000\n",
              "TAX       -1.187325  -0.846468  -0.000000 -0.000000 -0.000000\n",
              "NOX       -1.705590  -1.574193  -0.000000 -0.000000 -0.000000\n",
              "PTRATIO   -1.959838  -1.922493  -1.598449 -1.343549 -0.043588\n",
              "DIS       -2.637758  -2.422079  -0.170569 -0.000000  0.000000\n",
              "LSTAT     -3.726651  -3.726184  -3.666144 -3.543381 -2.712686"
            ],
            "text/html": [
              "\n",
              "  <div id=\"df-1ae380c1-ecbb-4366-ba15-fbc2794405bd\" class=\"colab-df-container\">\n",
              "    <div>\n",
              "<style scoped>\n",
              "    .dataframe tbody tr th:only-of-type {\n",
              "        vertical-align: middle;\n",
              "    }\n",
              "\n",
              "    .dataframe tbody tr th {\n",
              "        vertical-align: top;\n",
              "    }\n",
              "\n",
              "    .dataframe thead th {\n",
              "        text-align: right;\n",
              "    }\n",
              "</style>\n",
              "<table border=\"1\" class=\"dataframe\">\n",
              "  <thead>\n",
              "    <tr style=\"text-align: right;\">\n",
              "      <th></th>\n",
              "      <th>alpha:0.07</th>\n",
              "      <th>alpha:0.1</th>\n",
              "      <th>alpha:0.5</th>\n",
              "      <th>alpha:1</th>\n",
              "      <th>alpha:3</th>\n",
              "    </tr>\n",
              "  </thead>\n",
              "  <tbody>\n",
              "    <tr>\n",
              "      <th>RM</th>\n",
              "      <td>2.778925</td>\n",
              "      <td>2.826269</td>\n",
              "      <td>2.974259</td>\n",
              "      <td>2.713355</td>\n",
              "      <td>1.708455</td>\n",
              "    </tr>\n",
              "    <tr>\n",
              "      <th>RAD</th>\n",
              "      <td>1.618828</td>\n",
              "      <td>1.195937</td>\n",
              "      <td>-0.000000</td>\n",
              "      <td>-0.000000</td>\n",
              "      <td>-0.000000</td>\n",
              "    </tr>\n",
              "    <tr>\n",
              "      <th>ZN</th>\n",
              "      <td>0.816504</td>\n",
              "      <td>0.708409</td>\n",
              "      <td>0.000000</td>\n",
              "      <td>0.000000</td>\n",
              "      <td>0.000000</td>\n",
              "    </tr>\n",
              "    <tr>\n",
              "      <th>B</th>\n",
              "      <td>0.787697</td>\n",
              "      <td>0.762165</td>\n",
              "      <td>0.543139</td>\n",
              "      <td>0.180957</td>\n",
              "      <td>0.000000</td>\n",
              "    </tr>\n",
              "    <tr>\n",
              "      <th>CHAS</th>\n",
              "      <td>0.667291</td>\n",
              "      <td>0.657607</td>\n",
              "      <td>0.397079</td>\n",
              "      <td>0.000000</td>\n",
              "      <td>0.000000</td>\n",
              "    </tr>\n",
              "    <tr>\n",
              "      <th>INDUS</th>\n",
              "      <td>-0.000000</td>\n",
              "      <td>-0.000000</td>\n",
              "      <td>-0.000000</td>\n",
              "      <td>-0.000000</td>\n",
              "      <td>-0.000000</td>\n",
              "    </tr>\n",
              "    <tr>\n",
              "      <th>AGE</th>\n",
              "      <td>-0.000000</td>\n",
              "      <td>-0.000000</td>\n",
              "      <td>-0.000000</td>\n",
              "      <td>-0.000000</td>\n",
              "      <td>-0.000000</td>\n",
              "    </tr>\n",
              "    <tr>\n",
              "      <th>CRIM</th>\n",
              "      <td>-0.722065</td>\n",
              "      <td>-0.632304</td>\n",
              "      <td>-0.115265</td>\n",
              "      <td>-0.000000</td>\n",
              "      <td>-0.000000</td>\n",
              "    </tr>\n",
              "    <tr>\n",
              "      <th>TAX</th>\n",
              "      <td>-1.187325</td>\n",
              "      <td>-0.846468</td>\n",
              "      <td>-0.000000</td>\n",
              "      <td>-0.000000</td>\n",
              "      <td>-0.000000</td>\n",
              "    </tr>\n",
              "    <tr>\n",
              "      <th>NOX</th>\n",
              "      <td>-1.705590</td>\n",
              "      <td>-1.574193</td>\n",
              "      <td>-0.000000</td>\n",
              "      <td>-0.000000</td>\n",
              "      <td>-0.000000</td>\n",
              "    </tr>\n",
              "    <tr>\n",
              "      <th>PTRATIO</th>\n",
              "      <td>-1.959838</td>\n",
              "      <td>-1.922493</td>\n",
              "      <td>-1.598449</td>\n",
              "      <td>-1.343549</td>\n",
              "      <td>-0.043588</td>\n",
              "    </tr>\n",
              "    <tr>\n",
              "      <th>DIS</th>\n",
              "      <td>-2.637758</td>\n",
              "      <td>-2.422079</td>\n",
              "      <td>-0.170569</td>\n",
              "      <td>-0.000000</td>\n",
              "      <td>0.000000</td>\n",
              "    </tr>\n",
              "    <tr>\n",
              "      <th>LSTAT</th>\n",
              "      <td>-3.726651</td>\n",
              "      <td>-3.726184</td>\n",
              "      <td>-3.666144</td>\n",
              "      <td>-3.543381</td>\n",
              "      <td>-2.712686</td>\n",
              "    </tr>\n",
              "  </tbody>\n",
              "</table>\n",
              "</div>\n",
              "    <div class=\"colab-df-buttons\">\n",
              "\n",
              "  <div class=\"colab-df-container\">\n",
              "    <button class=\"colab-df-convert\" onclick=\"convertToInteractive('df-1ae380c1-ecbb-4366-ba15-fbc2794405bd')\"\n",
              "            title=\"Convert this dataframe to an interactive table.\"\n",
              "            style=\"display:none;\">\n",
              "\n",
              "  <svg xmlns=\"http://www.w3.org/2000/svg\" height=\"24px\" viewBox=\"0 -960 960 960\">\n",
              "    <path d=\"M120-120v-720h720v720H120Zm60-500h600v-160H180v160Zm220 220h160v-160H400v160Zm0 220h160v-160H400v160ZM180-400h160v-160H180v160Zm440 0h160v-160H620v160ZM180-180h160v-160H180v160Zm440 0h160v-160H620v160Z\"/>\n",
              "  </svg>\n",
              "    </button>\n",
              "\n",
              "  <style>\n",
              "    .colab-df-container {\n",
              "      display:flex;\n",
              "      gap: 12px;\n",
              "    }\n",
              "\n",
              "    .colab-df-convert {\n",
              "      background-color: #E8F0FE;\n",
              "      border: none;\n",
              "      border-radius: 50%;\n",
              "      cursor: pointer;\n",
              "      display: none;\n",
              "      fill: #1967D2;\n",
              "      height: 32px;\n",
              "      padding: 0 0 0 0;\n",
              "      width: 32px;\n",
              "    }\n",
              "\n",
              "    .colab-df-convert:hover {\n",
              "      background-color: #E2EBFA;\n",
              "      box-shadow: 0px 1px 2px rgba(60, 64, 67, 0.3), 0px 1px 3px 1px rgba(60, 64, 67, 0.15);\n",
              "      fill: #174EA6;\n",
              "    }\n",
              "\n",
              "    .colab-df-buttons div {\n",
              "      margin-bottom: 4px;\n",
              "    }\n",
              "\n",
              "    [theme=dark] .colab-df-convert {\n",
              "      background-color: #3B4455;\n",
              "      fill: #D2E3FC;\n",
              "    }\n",
              "\n",
              "    [theme=dark] .colab-df-convert:hover {\n",
              "      background-color: #434B5C;\n",
              "      box-shadow: 0px 1px 3px 1px rgba(0, 0, 0, 0.15);\n",
              "      filter: drop-shadow(0px 1px 2px rgba(0, 0, 0, 0.3));\n",
              "      fill: #FFFFFF;\n",
              "    }\n",
              "  </style>\n",
              "\n",
              "    <script>\n",
              "      const buttonEl =\n",
              "        document.querySelector('#df-1ae380c1-ecbb-4366-ba15-fbc2794405bd button.colab-df-convert');\n",
              "      buttonEl.style.display =\n",
              "        google.colab.kernel.accessAllowed ? 'block' : 'none';\n",
              "\n",
              "      async function convertToInteractive(key) {\n",
              "        const element = document.querySelector('#df-1ae380c1-ecbb-4366-ba15-fbc2794405bd');\n",
              "        const dataTable =\n",
              "          await google.colab.kernel.invokeFunction('convertToInteractive',\n",
              "                                                    [key], {});\n",
              "        if (!dataTable) return;\n",
              "\n",
              "        const docLinkHtml = 'Like what you see? Visit the ' +\n",
              "          '<a target=\"_blank\" href=https://colab.research.google.com/notebooks/data_table.ipynb>data table notebook</a>'\n",
              "          + ' to learn more about interactive tables.';\n",
              "        element.innerHTML = '';\n",
              "        dataTable['output_type'] = 'display_data';\n",
              "        await google.colab.output.renderOutput(dataTable, element);\n",
              "        const docLink = document.createElement('div');\n",
              "        docLink.innerHTML = docLinkHtml;\n",
              "        element.appendChild(docLink);\n",
              "      }\n",
              "    </script>\n",
              "  </div>\n",
              "\n",
              "\n",
              "<div id=\"df-b916a9ad-2f71-4ac4-af0d-d2ea8ff3c28f\">\n",
              "  <button class=\"colab-df-quickchart\" onclick=\"quickchart('df-b916a9ad-2f71-4ac4-af0d-d2ea8ff3c28f')\"\n",
              "            title=\"Suggest charts\"\n",
              "            style=\"display:none;\">\n",
              "\n",
              "<svg xmlns=\"http://www.w3.org/2000/svg\" height=\"24px\"viewBox=\"0 0 24 24\"\n",
              "     width=\"24px\">\n",
              "    <g>\n",
              "        <path d=\"M19 3H5c-1.1 0-2 .9-2 2v14c0 1.1.9 2 2 2h14c1.1 0 2-.9 2-2V5c0-1.1-.9-2-2-2zM9 17H7v-7h2v7zm4 0h-2V7h2v10zm4 0h-2v-4h2v4z\"/>\n",
              "    </g>\n",
              "</svg>\n",
              "  </button>\n",
              "\n",
              "<style>\n",
              "  .colab-df-quickchart {\n",
              "      --bg-color: #E8F0FE;\n",
              "      --fill-color: #1967D2;\n",
              "      --hover-bg-color: #E2EBFA;\n",
              "      --hover-fill-color: #174EA6;\n",
              "      --disabled-fill-color: #AAA;\n",
              "      --disabled-bg-color: #DDD;\n",
              "  }\n",
              "\n",
              "  [theme=dark] .colab-df-quickchart {\n",
              "      --bg-color: #3B4455;\n",
              "      --fill-color: #D2E3FC;\n",
              "      --hover-bg-color: #434B5C;\n",
              "      --hover-fill-color: #FFFFFF;\n",
              "      --disabled-bg-color: #3B4455;\n",
              "      --disabled-fill-color: #666;\n",
              "  }\n",
              "\n",
              "  .colab-df-quickchart {\n",
              "    background-color: var(--bg-color);\n",
              "    border: none;\n",
              "    border-radius: 50%;\n",
              "    cursor: pointer;\n",
              "    display: none;\n",
              "    fill: var(--fill-color);\n",
              "    height: 32px;\n",
              "    padding: 0;\n",
              "    width: 32px;\n",
              "  }\n",
              "\n",
              "  .colab-df-quickchart:hover {\n",
              "    background-color: var(--hover-bg-color);\n",
              "    box-shadow: 0 1px 2px rgba(60, 64, 67, 0.3), 0 1px 3px 1px rgba(60, 64, 67, 0.15);\n",
              "    fill: var(--button-hover-fill-color);\n",
              "  }\n",
              "\n",
              "  .colab-df-quickchart-complete:disabled,\n",
              "  .colab-df-quickchart-complete:disabled:hover {\n",
              "    background-color: var(--disabled-bg-color);\n",
              "    fill: var(--disabled-fill-color);\n",
              "    box-shadow: none;\n",
              "  }\n",
              "\n",
              "  .colab-df-spinner {\n",
              "    border: 2px solid var(--fill-color);\n",
              "    border-color: transparent;\n",
              "    border-bottom-color: var(--fill-color);\n",
              "    animation:\n",
              "      spin 1s steps(1) infinite;\n",
              "  }\n",
              "\n",
              "  @keyframes spin {\n",
              "    0% {\n",
              "      border-color: transparent;\n",
              "      border-bottom-color: var(--fill-color);\n",
              "      border-left-color: var(--fill-color);\n",
              "    }\n",
              "    20% {\n",
              "      border-color: transparent;\n",
              "      border-left-color: var(--fill-color);\n",
              "      border-top-color: var(--fill-color);\n",
              "    }\n",
              "    30% {\n",
              "      border-color: transparent;\n",
              "      border-left-color: var(--fill-color);\n",
              "      border-top-color: var(--fill-color);\n",
              "      border-right-color: var(--fill-color);\n",
              "    }\n",
              "    40% {\n",
              "      border-color: transparent;\n",
              "      border-right-color: var(--fill-color);\n",
              "      border-top-color: var(--fill-color);\n",
              "    }\n",
              "    60% {\n",
              "      border-color: transparent;\n",
              "      border-right-color: var(--fill-color);\n",
              "    }\n",
              "    80% {\n",
              "      border-color: transparent;\n",
              "      border-right-color: var(--fill-color);\n",
              "      border-bottom-color: var(--fill-color);\n",
              "    }\n",
              "    90% {\n",
              "      border-color: transparent;\n",
              "      border-bottom-color: var(--fill-color);\n",
              "    }\n",
              "  }\n",
              "</style>\n",
              "\n",
              "  <script>\n",
              "    async function quickchart(key) {\n",
              "      const quickchartButtonEl =\n",
              "        document.querySelector('#' + key + ' button');\n",
              "      quickchartButtonEl.disabled = true;  // To prevent multiple clicks.\n",
              "      quickchartButtonEl.classList.add('colab-df-spinner');\n",
              "      try {\n",
              "        const charts = await google.colab.kernel.invokeFunction(\n",
              "            'suggestCharts', [key], {});\n",
              "      } catch (error) {\n",
              "        console.error('Error during call to suggestCharts:', error);\n",
              "      }\n",
              "      quickchartButtonEl.classList.remove('colab-df-spinner');\n",
              "      quickchartButtonEl.classList.add('colab-df-quickchart-complete');\n",
              "    }\n",
              "    (() => {\n",
              "      let quickchartButtonEl =\n",
              "        document.querySelector('#df-b916a9ad-2f71-4ac4-af0d-d2ea8ff3c28f button');\n",
              "      quickchartButtonEl.style.display =\n",
              "        google.colab.kernel.accessAllowed ? 'block' : 'none';\n",
              "    })();\n",
              "  </script>\n",
              "</div>\n",
              "\n",
              "    </div>\n",
              "  </div>\n"
            ],
            "application/vnd.google.colaboratory.intrinsic+json": {
              "type": "dataframe",
              "summary": "{\n  \"name\": \"coeff_lasso_df\",\n  \"rows\": 13,\n  \"fields\": [\n    {\n      \"column\": \"alpha:0.07\",\n      \"properties\": {\n        \"dtype\": \"number\",\n        \"std\": 1.813511882916108,\n        \"min\": -3.7266512807009726,\n        \"max\": 2.7789247320988597,\n        \"num_unique_values\": 12,\n        \"samples\": [\n          -2.6377579964767066,\n          -1.9598383356057336,\n          2.7789247320988597\n        ],\n        \"semantic_type\": \"\",\n        \"description\": \"\"\n      }\n    },\n    {\n      \"column\": \"alpha:0.1\",\n      \"properties\": {\n        \"dtype\": \"number\",\n        \"std\": 1.7337801627389462,\n        \"min\": -3.7261838282515605,\n        \"max\": 2.8262690307935308,\n        \"num_unique_values\": 12,\n        \"samples\": [\n          -2.422079007878176,\n          -1.922493448882469,\n          2.8262690307935308\n        ],\n        \"semantic_type\": \"\",\n        \"description\": \"\"\n      }\n    },\n    {\n      \"column\": \"alpha:0.5\",\n      \"properties\": {\n        \"dtype\": \"number\",\n        \"std\": 1.4471535386780385,\n        \"min\": -3.6661436083897465,\n        \"max\": 2.9742586075119144,\n        \"num_unique_values\": 8,\n        \"samples\": [\n          -0.0,\n          -1.5984485639315225,\n          2.9742586075119144\n        ],\n        \"semantic_type\": \"\",\n        \"description\": \"\"\n      }\n    },\n    {\n      \"column\": \"alpha:1\",\n      \"properties\": {\n        \"dtype\": \"number\",\n        \"std\": 1.3369832321568367,\n        \"min\": -3.543381069886951,\n        \"max\": 2.7133552961731424,\n        \"num_unique_values\": 5,\n        \"samples\": [\n          -0.0,\n          -3.543381069886951,\n          0.18095664443487328\n        ],\n        \"semantic_type\": \"\",\n        \"description\": \"\"\n      }\n    },\n    {\n      \"column\": \"alpha:3\",\n      \"properties\": {\n        \"dtype\": \"number\",\n        \"std\": 0.9217252275294421,\n        \"min\": -2.712686158761959,\n        \"max\": 1.708454967306647,\n        \"num_unique_values\": 4,\n        \"samples\": [\n          -0.0,\n          -2.712686158761959,\n          1.708454967306647\n        ],\n        \"semantic_type\": \"\",\n        \"description\": \"\"\n      }\n    }\n  ]\n}"
            }
          },
          "metadata": {},
          "execution_count": 72
        }
      ],
      "source": [
        "# 반환된 coeff_lasso_df를 첫번째 컬럼순으로 내림차순 정렬하여 회귀계수 DataFrame 출력\n",
        "sort_column = 'alpha:'+str(lasso_alphas[0])\n",
        "coeff_lasso_df.sort_values(by=sort_column, ascending=False)"
      ]
    },
    {
      "cell_type": "markdown",
      "source": [
        "- alpha 크기 증가에 따라 일부 피처의 회귀 계수는 아예 0으로 바뀌고 있음\n",
        "- NOX 속성은 alpha가 0.5일떄부터 회귀 계수가 0\n",
        "- alpha를 증가시키며 INDUS, CHAS 같은 속성 회귀 계수도 0이 됨을 알 수 있음"
      ],
      "metadata": {
        "id": "Jtpyw9kGmJ7i"
      }
    },
    {
      "cell_type": "markdown",
      "metadata": {
        "id": "HDD7VoSe7pKE"
      },
      "source": [
        "## 엘라스틱넷 회귀\n",
        "- L2 규제와 L1 규제 결합한 회귀\n",
        "- 엘라스틱넷 회귀의 손실함수 목표: $RSS(W) + alpha2 * ||W||_2^2 + alpha1 * ||W||_1$의 식을 최소화하는 W를 찾는 것\n",
        "- 랏쏘 회귀의 alpha 값에 따른 회귀 계수의 값이 급격히 변동하는 현상을 완화하기 위해 L2 규제를 라쏘 회귀에 추가한 것\n",
        "- 단점: L1과 L2 규제가 결합된 규제로 인해 수행시간이 상대적으로 오래 걸림\n",
        "\n",
        "<br>\n",
        "\n",
        "- ElasticNet 클래스\n",
        "  - alpha : a+b\n",
        "  - l1_ratio : a / (a+b) -> l1_ratio가 0이면 a가 0 -> L2 규제와 동일\n",
        "  \n"
      ]
    },
    {
      "cell_type": "code",
      "execution_count": 74,
      "metadata": {
        "colab": {
          "base_uri": "https://localhost:8080/"
        },
        "id": "5aaW50oF7pKE",
        "outputId": "1527a35e-c01b-4fe0-d232-4041a01b61b1"
      },
      "outputs": [
        {
          "output_type": "stream",
          "name": "stdout",
          "text": [
            "#######  ElasticNet #######\n",
            "alpha 0.07일 때 5 폴드 세트의 평균 RMSE: 5.606\n",
            "alpha 0.1일 때 5 폴드 세트의 평균 RMSE: 5.581\n",
            "alpha 0.5일 때 5 폴드 세트의 평균 RMSE: 5.736\n",
            "alpha 1일 때 5 폴드 세트의 평균 RMSE: 6.048\n",
            "alpha 3일 때 5 폴드 세트의 평균 RMSE: 7.310\n"
          ]
        }
      ],
      "source": [
        "# 엘라스틱넷에 사용될 alpha 파라미터의 값들을 정의하고 get_linear_reg_eval() 함수 호출\n",
        "# l1_ratio는 0.7로 고정\n",
        "elastic_alphas = [0.07, 0.1, 0.5, 1, 3]\n",
        "coeff_elastic_df = get_linear_reg_eval('ElasticNet', params=elastic_alphas, X_data_n=X_scaled, y_target_n=y_target)"
      ]
    },
    {
      "cell_type": "markdown",
      "source": [
        "- alpha가 0.1일 때 RMSE가 5.581로 가장 좋은 예측 성능을 보이고 있음"
      ],
      "metadata": {
        "id": "Y5NH8TZ-oAVH"
      }
    },
    {
      "cell_type": "code",
      "execution_count": 75,
      "metadata": {
        "colab": {
          "base_uri": "https://localhost:8080/",
          "height": 457
        },
        "id": "mS_57LvF7pKE",
        "outputId": "1cde085c-a0a4-410c-dfbc-46172baee747"
      },
      "outputs": [
        {
          "output_type": "execute_result",
          "data": {
            "text/plain": [
              "         alpha:0.07  alpha:0.1  alpha:0.5   alpha:1   alpha:3\n",
              "RM         2.797365   2.832209   2.847719  2.535178  1.510727\n",
              "RAD        1.513212   1.163984  -0.000000 -0.000000 -0.000000\n",
              "B          0.801476   0.781343   0.588305  0.407609  0.000000\n",
              "ZN         0.798925   0.705485   0.052423  0.000000  0.000000\n",
              "CHAS       0.688869   0.684941   0.511595  0.269028  0.000000\n",
              "AGE       -0.000000  -0.000000  -0.000000 -0.000000 -0.000000\n",
              "INDUS     -0.072995  -0.120597  -0.104735 -0.103949 -0.160120\n",
              "CRIM      -0.730245  -0.662587  -0.311474 -0.229723 -0.000000\n",
              "TAX       -1.102202  -0.830613  -0.141707 -0.244658 -0.215151\n",
              "NOX       -1.609107  -1.453295  -0.407343 -0.117493 -0.000000\n",
              "PTRATIO   -1.926978  -1.878850  -1.568516 -1.317161 -0.641566\n",
              "DIS       -2.527487  -2.311824  -0.500767 -0.000000  0.000000\n",
              "LSTAT     -3.622697  -3.577293  -3.090733 -2.688605 -1.735085"
            ],
            "text/html": [
              "\n",
              "  <div id=\"df-7e255a78-86bc-4daf-826f-3424c9bed59e\" class=\"colab-df-container\">\n",
              "    <div>\n",
              "<style scoped>\n",
              "    .dataframe tbody tr th:only-of-type {\n",
              "        vertical-align: middle;\n",
              "    }\n",
              "\n",
              "    .dataframe tbody tr th {\n",
              "        vertical-align: top;\n",
              "    }\n",
              "\n",
              "    .dataframe thead th {\n",
              "        text-align: right;\n",
              "    }\n",
              "</style>\n",
              "<table border=\"1\" class=\"dataframe\">\n",
              "  <thead>\n",
              "    <tr style=\"text-align: right;\">\n",
              "      <th></th>\n",
              "      <th>alpha:0.07</th>\n",
              "      <th>alpha:0.1</th>\n",
              "      <th>alpha:0.5</th>\n",
              "      <th>alpha:1</th>\n",
              "      <th>alpha:3</th>\n",
              "    </tr>\n",
              "  </thead>\n",
              "  <tbody>\n",
              "    <tr>\n",
              "      <th>RM</th>\n",
              "      <td>2.797365</td>\n",
              "      <td>2.832209</td>\n",
              "      <td>2.847719</td>\n",
              "      <td>2.535178</td>\n",
              "      <td>1.510727</td>\n",
              "    </tr>\n",
              "    <tr>\n",
              "      <th>RAD</th>\n",
              "      <td>1.513212</td>\n",
              "      <td>1.163984</td>\n",
              "      <td>-0.000000</td>\n",
              "      <td>-0.000000</td>\n",
              "      <td>-0.000000</td>\n",
              "    </tr>\n",
              "    <tr>\n",
              "      <th>B</th>\n",
              "      <td>0.801476</td>\n",
              "      <td>0.781343</td>\n",
              "      <td>0.588305</td>\n",
              "      <td>0.407609</td>\n",
              "      <td>0.000000</td>\n",
              "    </tr>\n",
              "    <tr>\n",
              "      <th>ZN</th>\n",
              "      <td>0.798925</td>\n",
              "      <td>0.705485</td>\n",
              "      <td>0.052423</td>\n",
              "      <td>0.000000</td>\n",
              "      <td>0.000000</td>\n",
              "    </tr>\n",
              "    <tr>\n",
              "      <th>CHAS</th>\n",
              "      <td>0.688869</td>\n",
              "      <td>0.684941</td>\n",
              "      <td>0.511595</td>\n",
              "      <td>0.269028</td>\n",
              "      <td>0.000000</td>\n",
              "    </tr>\n",
              "    <tr>\n",
              "      <th>AGE</th>\n",
              "      <td>-0.000000</td>\n",
              "      <td>-0.000000</td>\n",
              "      <td>-0.000000</td>\n",
              "      <td>-0.000000</td>\n",
              "      <td>-0.000000</td>\n",
              "    </tr>\n",
              "    <tr>\n",
              "      <th>INDUS</th>\n",
              "      <td>-0.072995</td>\n",
              "      <td>-0.120597</td>\n",
              "      <td>-0.104735</td>\n",
              "      <td>-0.103949</td>\n",
              "      <td>-0.160120</td>\n",
              "    </tr>\n",
              "    <tr>\n",
              "      <th>CRIM</th>\n",
              "      <td>-0.730245</td>\n",
              "      <td>-0.662587</td>\n",
              "      <td>-0.311474</td>\n",
              "      <td>-0.229723</td>\n",
              "      <td>-0.000000</td>\n",
              "    </tr>\n",
              "    <tr>\n",
              "      <th>TAX</th>\n",
              "      <td>-1.102202</td>\n",
              "      <td>-0.830613</td>\n",
              "      <td>-0.141707</td>\n",
              "      <td>-0.244658</td>\n",
              "      <td>-0.215151</td>\n",
              "    </tr>\n",
              "    <tr>\n",
              "      <th>NOX</th>\n",
              "      <td>-1.609107</td>\n",
              "      <td>-1.453295</td>\n",
              "      <td>-0.407343</td>\n",
              "      <td>-0.117493</td>\n",
              "      <td>-0.000000</td>\n",
              "    </tr>\n",
              "    <tr>\n",
              "      <th>PTRATIO</th>\n",
              "      <td>-1.926978</td>\n",
              "      <td>-1.878850</td>\n",
              "      <td>-1.568516</td>\n",
              "      <td>-1.317161</td>\n",
              "      <td>-0.641566</td>\n",
              "    </tr>\n",
              "    <tr>\n",
              "      <th>DIS</th>\n",
              "      <td>-2.527487</td>\n",
              "      <td>-2.311824</td>\n",
              "      <td>-0.500767</td>\n",
              "      <td>-0.000000</td>\n",
              "      <td>0.000000</td>\n",
              "    </tr>\n",
              "    <tr>\n",
              "      <th>LSTAT</th>\n",
              "      <td>-3.622697</td>\n",
              "      <td>-3.577293</td>\n",
              "      <td>-3.090733</td>\n",
              "      <td>-2.688605</td>\n",
              "      <td>-1.735085</td>\n",
              "    </tr>\n",
              "  </tbody>\n",
              "</table>\n",
              "</div>\n",
              "    <div class=\"colab-df-buttons\">\n",
              "\n",
              "  <div class=\"colab-df-container\">\n",
              "    <button class=\"colab-df-convert\" onclick=\"convertToInteractive('df-7e255a78-86bc-4daf-826f-3424c9bed59e')\"\n",
              "            title=\"Convert this dataframe to an interactive table.\"\n",
              "            style=\"display:none;\">\n",
              "\n",
              "  <svg xmlns=\"http://www.w3.org/2000/svg\" height=\"24px\" viewBox=\"0 -960 960 960\">\n",
              "    <path d=\"M120-120v-720h720v720H120Zm60-500h600v-160H180v160Zm220 220h160v-160H400v160Zm0 220h160v-160H400v160ZM180-400h160v-160H180v160Zm440 0h160v-160H620v160ZM180-180h160v-160H180v160Zm440 0h160v-160H620v160Z\"/>\n",
              "  </svg>\n",
              "    </button>\n",
              "\n",
              "  <style>\n",
              "    .colab-df-container {\n",
              "      display:flex;\n",
              "      gap: 12px;\n",
              "    }\n",
              "\n",
              "    .colab-df-convert {\n",
              "      background-color: #E8F0FE;\n",
              "      border: none;\n",
              "      border-radius: 50%;\n",
              "      cursor: pointer;\n",
              "      display: none;\n",
              "      fill: #1967D2;\n",
              "      height: 32px;\n",
              "      padding: 0 0 0 0;\n",
              "      width: 32px;\n",
              "    }\n",
              "\n",
              "    .colab-df-convert:hover {\n",
              "      background-color: #E2EBFA;\n",
              "      box-shadow: 0px 1px 2px rgba(60, 64, 67, 0.3), 0px 1px 3px 1px rgba(60, 64, 67, 0.15);\n",
              "      fill: #174EA6;\n",
              "    }\n",
              "\n",
              "    .colab-df-buttons div {\n",
              "      margin-bottom: 4px;\n",
              "    }\n",
              "\n",
              "    [theme=dark] .colab-df-convert {\n",
              "      background-color: #3B4455;\n",
              "      fill: #D2E3FC;\n",
              "    }\n",
              "\n",
              "    [theme=dark] .colab-df-convert:hover {\n",
              "      background-color: #434B5C;\n",
              "      box-shadow: 0px 1px 3px 1px rgba(0, 0, 0, 0.15);\n",
              "      filter: drop-shadow(0px 1px 2px rgba(0, 0, 0, 0.3));\n",
              "      fill: #FFFFFF;\n",
              "    }\n",
              "  </style>\n",
              "\n",
              "    <script>\n",
              "      const buttonEl =\n",
              "        document.querySelector('#df-7e255a78-86bc-4daf-826f-3424c9bed59e button.colab-df-convert');\n",
              "      buttonEl.style.display =\n",
              "        google.colab.kernel.accessAllowed ? 'block' : 'none';\n",
              "\n",
              "      async function convertToInteractive(key) {\n",
              "        const element = document.querySelector('#df-7e255a78-86bc-4daf-826f-3424c9bed59e');\n",
              "        const dataTable =\n",
              "          await google.colab.kernel.invokeFunction('convertToInteractive',\n",
              "                                                    [key], {});\n",
              "        if (!dataTable) return;\n",
              "\n",
              "        const docLinkHtml = 'Like what you see? Visit the ' +\n",
              "          '<a target=\"_blank\" href=https://colab.research.google.com/notebooks/data_table.ipynb>data table notebook</a>'\n",
              "          + ' to learn more about interactive tables.';\n",
              "        element.innerHTML = '';\n",
              "        dataTable['output_type'] = 'display_data';\n",
              "        await google.colab.output.renderOutput(dataTable, element);\n",
              "        const docLink = document.createElement('div');\n",
              "        docLink.innerHTML = docLinkHtml;\n",
              "        element.appendChild(docLink);\n",
              "      }\n",
              "    </script>\n",
              "  </div>\n",
              "\n",
              "\n",
              "<div id=\"df-5e161094-b078-4392-a345-49a70002dd7d\">\n",
              "  <button class=\"colab-df-quickchart\" onclick=\"quickchart('df-5e161094-b078-4392-a345-49a70002dd7d')\"\n",
              "            title=\"Suggest charts\"\n",
              "            style=\"display:none;\">\n",
              "\n",
              "<svg xmlns=\"http://www.w3.org/2000/svg\" height=\"24px\"viewBox=\"0 0 24 24\"\n",
              "     width=\"24px\">\n",
              "    <g>\n",
              "        <path d=\"M19 3H5c-1.1 0-2 .9-2 2v14c0 1.1.9 2 2 2h14c1.1 0 2-.9 2-2V5c0-1.1-.9-2-2-2zM9 17H7v-7h2v7zm4 0h-2V7h2v10zm4 0h-2v-4h2v4z\"/>\n",
              "    </g>\n",
              "</svg>\n",
              "  </button>\n",
              "\n",
              "<style>\n",
              "  .colab-df-quickchart {\n",
              "      --bg-color: #E8F0FE;\n",
              "      --fill-color: #1967D2;\n",
              "      --hover-bg-color: #E2EBFA;\n",
              "      --hover-fill-color: #174EA6;\n",
              "      --disabled-fill-color: #AAA;\n",
              "      --disabled-bg-color: #DDD;\n",
              "  }\n",
              "\n",
              "  [theme=dark] .colab-df-quickchart {\n",
              "      --bg-color: #3B4455;\n",
              "      --fill-color: #D2E3FC;\n",
              "      --hover-bg-color: #434B5C;\n",
              "      --hover-fill-color: #FFFFFF;\n",
              "      --disabled-bg-color: #3B4455;\n",
              "      --disabled-fill-color: #666;\n",
              "  }\n",
              "\n",
              "  .colab-df-quickchart {\n",
              "    background-color: var(--bg-color);\n",
              "    border: none;\n",
              "    border-radius: 50%;\n",
              "    cursor: pointer;\n",
              "    display: none;\n",
              "    fill: var(--fill-color);\n",
              "    height: 32px;\n",
              "    padding: 0;\n",
              "    width: 32px;\n",
              "  }\n",
              "\n",
              "  .colab-df-quickchart:hover {\n",
              "    background-color: var(--hover-bg-color);\n",
              "    box-shadow: 0 1px 2px rgba(60, 64, 67, 0.3), 0 1px 3px 1px rgba(60, 64, 67, 0.15);\n",
              "    fill: var(--button-hover-fill-color);\n",
              "  }\n",
              "\n",
              "  .colab-df-quickchart-complete:disabled,\n",
              "  .colab-df-quickchart-complete:disabled:hover {\n",
              "    background-color: var(--disabled-bg-color);\n",
              "    fill: var(--disabled-fill-color);\n",
              "    box-shadow: none;\n",
              "  }\n",
              "\n",
              "  .colab-df-spinner {\n",
              "    border: 2px solid var(--fill-color);\n",
              "    border-color: transparent;\n",
              "    border-bottom-color: var(--fill-color);\n",
              "    animation:\n",
              "      spin 1s steps(1) infinite;\n",
              "  }\n",
              "\n",
              "  @keyframes spin {\n",
              "    0% {\n",
              "      border-color: transparent;\n",
              "      border-bottom-color: var(--fill-color);\n",
              "      border-left-color: var(--fill-color);\n",
              "    }\n",
              "    20% {\n",
              "      border-color: transparent;\n",
              "      border-left-color: var(--fill-color);\n",
              "      border-top-color: var(--fill-color);\n",
              "    }\n",
              "    30% {\n",
              "      border-color: transparent;\n",
              "      border-left-color: var(--fill-color);\n",
              "      border-top-color: var(--fill-color);\n",
              "      border-right-color: var(--fill-color);\n",
              "    }\n",
              "    40% {\n",
              "      border-color: transparent;\n",
              "      border-right-color: var(--fill-color);\n",
              "      border-top-color: var(--fill-color);\n",
              "    }\n",
              "    60% {\n",
              "      border-color: transparent;\n",
              "      border-right-color: var(--fill-color);\n",
              "    }\n",
              "    80% {\n",
              "      border-color: transparent;\n",
              "      border-right-color: var(--fill-color);\n",
              "      border-bottom-color: var(--fill-color);\n",
              "    }\n",
              "    90% {\n",
              "      border-color: transparent;\n",
              "      border-bottom-color: var(--fill-color);\n",
              "    }\n",
              "  }\n",
              "</style>\n",
              "\n",
              "  <script>\n",
              "    async function quickchart(key) {\n",
              "      const quickchartButtonEl =\n",
              "        document.querySelector('#' + key + ' button');\n",
              "      quickchartButtonEl.disabled = true;  // To prevent multiple clicks.\n",
              "      quickchartButtonEl.classList.add('colab-df-spinner');\n",
              "      try {\n",
              "        const charts = await google.colab.kernel.invokeFunction(\n",
              "            'suggestCharts', [key], {});\n",
              "      } catch (error) {\n",
              "        console.error('Error during call to suggestCharts:', error);\n",
              "      }\n",
              "      quickchartButtonEl.classList.remove('colab-df-spinner');\n",
              "      quickchartButtonEl.classList.add('colab-df-quickchart-complete');\n",
              "    }\n",
              "    (() => {\n",
              "      let quickchartButtonEl =\n",
              "        document.querySelector('#df-5e161094-b078-4392-a345-49a70002dd7d button');\n",
              "      quickchartButtonEl.style.display =\n",
              "        google.colab.kernel.accessAllowed ? 'block' : 'none';\n",
              "    })();\n",
              "  </script>\n",
              "</div>\n",
              "\n",
              "    </div>\n",
              "  </div>\n"
            ],
            "application/vnd.google.colaboratory.intrinsic+json": {
              "type": "dataframe",
              "summary": "{\n  \"name\": \"coeff_elastic_df\",\n  \"rows\": 13,\n  \"fields\": [\n    {\n      \"column\": \"alpha:0.07\",\n      \"properties\": {\n        \"dtype\": \"number\",\n        \"std\": 1.768272550875696,\n        \"min\": -3.6226973584427524,\n        \"max\": 2.7973648268085185,\n        \"num_unique_values\": 13,\n        \"samples\": [\n          -2.5274870572422925,\n          -1.6091074522094986,\n          2.7973648268085185\n        ],\n        \"semantic_type\": \"\",\n        \"description\": \"\"\n      }\n    },\n    {\n      \"column\": \"alpha:0.1\",\n      \"properties\": {\n        \"dtype\": \"number\",\n        \"std\": 1.6883244080098179,\n        \"min\": -3.5772928835779503,\n        \"max\": 2.832208750937439,\n        \"num_unique_values\": 13,\n        \"samples\": [\n          -2.3118238837779446,\n          -1.4532950586650353,\n          2.832208750937439\n        ],\n        \"semantic_type\": \"\",\n        \"description\": \"\"\n      }\n    },\n    {\n      \"column\": \"alpha:0.5\",\n      \"properties\": {\n        \"dtype\": \"number\",\n        \"std\": 1.3206779775784918,\n        \"min\": -3.0907325745233853,\n        \"max\": 2.847718954458613,\n        \"num_unique_values\": 12,\n        \"samples\": [\n          -0.5007669344639106,\n          -1.5685158012494362,\n          2.847718954458613\n        ],\n        \"semantic_type\": \"\",\n        \"description\": \"\"\n      }\n    },\n    {\n      \"column\": \"alpha:1\",\n      \"properties\": {\n        \"dtype\": \"number\",\n        \"std\": 1.1400174706221373,\n        \"min\": -2.6886053470328206,\n        \"max\": 2.535178371918399,\n        \"num_unique_values\": 10,\n        \"samples\": [\n          -1.3171611441582816,\n          -0.0,\n          -0.22972322462370717\n        ],\n        \"semantic_type\": \"\",\n        \"description\": \"\"\n      }\n    },\n    {\n      \"column\": \"alpha:3\",\n      \"properties\": {\n        \"dtype\": \"number\",\n        \"std\": 0.6866492784339716,\n        \"min\": -1.7350849084300053,\n        \"max\": 1.510727153660784,\n        \"num_unique_values\": 6,\n        \"samples\": [\n          1.510727153660784,\n          -0.0,\n          -1.7350849084300053\n        ],\n        \"semantic_type\": \"\",\n        \"description\": \"\"\n      }\n    }\n  ]\n}"
            }
          },
          "metadata": {},
          "execution_count": 75
        }
      ],
      "source": [
        "# 반환된 coeff_elastic_df를 첫번째 컬럼순으로 내림차순 정렬하여 회귀계수 DataFrame 출력\n",
        "sort_column = 'alpha:'+str(elastic_alphas[0])\n",
        "coeff_elastic_df.sort_values(by=sort_column, ascending=False)"
      ]
    },
    {
      "cell_type": "markdown",
      "source": [
        "- 확실히 라쏘보다는 상대적으로 0이 되는 값이 적음"
      ],
      "metadata": {
        "id": "RPChJCmyoMGv"
      }
    },
    {
      "cell_type": "markdown",
      "source": [
        "## 선형회귀의 경우, 최적의 하이퍼파라미터를 찾아내는 것 못지않게 먼저 데이터 분포도의 정규화와 인코딩 방법이 매우 중요"
      ],
      "metadata": {
        "id": "4RnBXQR-oTOc"
      }
    },
    {
      "cell_type": "markdown",
      "metadata": {
        "id": "41HEIxcL7pKE"
      },
      "source": [
        "### 선형 회귀 모델을 위한 데이터 변환\n",
        "- 일반적으로 피처와 Taget값 간 선형 관계가 있다고 가정하고, 최적 선형함수를 찾아내 결과값 예측\n",
        "- 피처와 Taget값 분포가 -> 정규분포(평균을 중심으로 종 모양으로 데이터 값이 분포된 형태) 형태를 매우 선호\n",
        "- Target: 정규 분포 형태가 아닌 특정값의 분포가 치우친 왜곡(Skew)된 형태의 분포도일 경우 예측 성능에 부정적 영향\n",
        "- 즉, 데이터 스케일링과 정규화 작업이 매우 중요!(심한 왜곡이 있다는 가정하에)\n",
        "\n",
        "<br>\n",
        "\n",
        "- 사이킷런을 이용한 피처 데이터 세트 변환 작업\n",
        "  - StandardScaler 클래스를 이용해 평균이 0, 분산이 1인 표준 정규 분포를 가진 데이터 세트로 변환하거나 MinMaxScaler 클래스를 이용해 최솟값이 0이고 최댓값이 1인 값으로 정규화 수행\n",
        "  - 스케일링/정규화를 수행한 데이터 세트에 다시 다항 특성을 적용해 변환(보통 바로 위 방법으로 예측 성능 변화가 없을 경우 사용)\n",
        "  - 원래 값에 log 함수를 적용해 보다 정규 분포에 가까운 형태로 값을 분포시킴: 로그 변환\n",
        "    - 가장 많이 사용!\n",
        "\n",
        "<br>\n",
        "\n",
        "- **Target 값의 경우 로그 변환을 적용하는 것이 가장 좋음**"
      ]
    },
    {
      "cell_type": "code",
      "execution_count": 90,
      "metadata": {
        "id": "JNB80TIg7pKE"
      },
      "outputs": [],
      "source": [
        "from sklearn.preprocessing import StandardScaler, MinMaxScaler, PolynomialFeatures\n",
        "\n",
        "# method는 표준 정규 분포 변환(Standard), 최대값/최소값 정규화(MinMax), 로그변환(Log) 결정\n",
        "# p_degree는 다향식 특성을 추가할 때 적용. p_degree는 2이상 부여하지 않음\n",
        "def get_scaled_data(method='None', p_degree=None, input_data=None):\n",
        "    if method == 'Standard':\n",
        "        scaled_data = StandardScaler().fit_transform(input_data)\n",
        "    elif method == 'MinMax':\n",
        "        scaled_data = MinMaxScaler().fit_transform(input_data)\n",
        "    elif method == 'Log':\n",
        "        scaled_data = np.log1p(input_data)\n",
        "    else:\n",
        "        scaled_data = input_data\n",
        "\n",
        "    if p_degree != None:\n",
        "        scaled_data = PolynomialFeatures(degree=p_degree,\n",
        "                                         include_bias=False).fit_transform(scaled_data)\n",
        "\n",
        "    return scaled_data"
      ]
    },
    {
      "cell_type": "code",
      "source": [
        "X_data = pd.get_dummies(X_data)"
      ],
      "metadata": {
        "id": "hyvSN76ntVIy"
      },
      "execution_count": 92,
      "outputs": []
    },
    {
      "cell_type": "code",
      "execution_count": 93,
      "metadata": {
        "colab": {
          "base_uri": "https://localhost:8080/"
        },
        "id": "laAHIObt7pKE",
        "outputId": "f21c3353-4af8-47b1-a085-f5b45935c967"
      },
      "outputs": [
        {
          "output_type": "stream",
          "name": "stdout",
          "text": [
            "(506, 22) (506, 22)\n",
            "\n",
            "## 변환 유형:None, Polynomial Degree:None\n",
            "alpha 0.1일 때 5 폴드 세트의 평균 RMSE: 5.851\n",
            "alpha 1일 때 5 폴드 세트의 평균 RMSE: 5.700\n",
            "alpha 10일 때 5 폴드 세트의 평균 RMSE: 5.512\n",
            "alpha 100일 때 5 폴드 세트의 평균 RMSE: 5.391\n",
            "(506, 22) (506, 22)\n",
            "\n",
            "## 변환 유형:Standard, Polynomial Degree:None\n",
            "alpha 0.1일 때 5 폴드 세트의 평균 RMSE: 5.893\n",
            "alpha 1일 때 5 폴드 세트의 평균 RMSE: 5.868\n",
            "alpha 10일 때 5 폴드 세트의 평균 RMSE: 5.705\n",
            "alpha 100일 때 5 폴드 세트의 평균 RMSE: 5.561\n",
            "(506, 275) (506, 22)\n",
            "\n",
            "## 변환 유형:Standard, Polynomial Degree:2\n",
            "alpha 0.1일 때 5 폴드 세트의 평균 RMSE: 12.515\n",
            "alpha 1일 때 5 폴드 세트의 평균 RMSE: 8.946\n",
            "alpha 10일 때 5 폴드 세트의 평균 RMSE: 6.228\n",
            "alpha 100일 때 5 폴드 세트의 평균 RMSE: 5.124\n",
            "(506, 22) (506, 22)\n",
            "\n",
            "## 변환 유형:MinMax, Polynomial Degree:None\n",
            "alpha 0.1일 때 5 폴드 세트의 평균 RMSE: 5.827\n",
            "alpha 1일 때 5 폴드 세트의 평균 RMSE: 5.554\n",
            "alpha 10일 때 5 폴드 세트의 평균 RMSE: 5.923\n",
            "alpha 100일 때 5 폴드 세트의 평균 RMSE: 7.550\n",
            "(506, 275) (506, 22)\n",
            "\n",
            "## 변환 유형:MinMax, Polynomial Degree:2\n",
            "alpha 0.1일 때 5 폴드 세트의 평균 RMSE: 5.523\n",
            "alpha 1일 때 5 폴드 세트의 평균 RMSE: 4.412\n",
            "alpha 10일 때 5 폴드 세트의 평균 RMSE: 5.242\n",
            "alpha 100일 때 5 폴드 세트의 평균 RMSE: 6.460\n",
            "(506, 22) (506, 22)\n",
            "\n",
            "## 변환 유형:Log, Polynomial Degree:None\n",
            "alpha 0.1일 때 5 폴드 세트의 평균 RMSE: 4.983\n",
            "alpha 1일 때 5 폴드 세트의 평균 RMSE: 4.822\n",
            "alpha 10일 때 5 폴드 세트의 평균 RMSE: 4.999\n",
            "alpha 100일 때 5 폴드 세트의 평균 RMSE: 6.199\n"
          ]
        }
      ],
      "source": [
        "# Ridge의 alpha값을 다르게 적용하고 다양한 데이터 변환방법에 따른 RMSE 추출.\n",
        "alphas = [0.1, 1, 10, 100]\n",
        "#변환 방법은 모두 6개, 원본 그대로, 표준정규분포, 표준정규분포+다항식 특성\n",
        "# 최대/최소 정규화, 최대/최소 정규화+다항식 특성, 로그변환\n",
        "scale_methods=[(None, None), ('Standard', None), ('Standard', 2),\n",
        "               ('MinMax', None), ('MinMax', 2), ('Log', None)]\n",
        "for scale_method in scale_methods:\n",
        "    X_data_scaled = get_scaled_data(method=scale_method[0], p_degree=scale_method[1],\n",
        "                                    input_data=X_data)\n",
        "    print(X_data_scaled.shape, X_data.shape)\n",
        "    print('\\n## 변환 유형:{0}, Polynomial Degree:{1}'.format(scale_method[0], scale_method[1]))\n",
        "    get_linear_reg_eval('Ridge', params=alphas, X_data_n=X_data_scaled,\n",
        "                        y_target_n=y_target, verbose=False, return_coeff=False)"
      ]
    },
    {
      "cell_type": "markdown",
      "source": [
        "- 결론 : 일반적으로 선형 회귀를 적용하려는 데이터 세트에 데이터 값의 분포가 심하게 왜곡되어 있을 경우에 이처럼 로그 변환을 적용하는 것이 좋은 결과를 기대할 수 있음"
      ],
      "metadata": {
        "id": "YAvysJxCthzX"
      }
    }
  ],
  "metadata": {
    "kernelspec": {
      "display_name": "Python 3 (ipykernel)",
      "language": "python",
      "name": "python3"
    },
    "language_info": {
      "codemirror_mode": {
        "name": "ipython",
        "version": 3
      },
      "file_extension": ".py",
      "mimetype": "text/x-python",
      "name": "python",
      "nbconvert_exporter": "python",
      "pygments_lexer": "ipython3",
      "version": "3.9.7"
    },
    "colab": {
      "provenance": [],
      "toc_visible": true,
      "include_colab_link": true
    }
  },
  "nbformat": 4,
  "nbformat_minor": 0
}
