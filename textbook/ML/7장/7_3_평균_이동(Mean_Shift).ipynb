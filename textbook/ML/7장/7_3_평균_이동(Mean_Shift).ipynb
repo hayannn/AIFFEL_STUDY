{
  "cells": [
    {
      "cell_type": "markdown",
      "metadata": {
        "id": "view-in-github",
        "colab_type": "text"
      },
      "source": [
        "<a href=\"https://colab.research.google.com/github/hayannn/AIFFEL_STUDY/blob/main/7_3_%ED%8F%89%EA%B7%A0_%EC%9D%B4%EB%8F%99(Mean_Shift).ipynb\" target=\"_parent\"><img src=\"https://colab.research.google.com/assets/colab-badge.svg\" alt=\"Open In Colab\"/></a>"
      ]
    },
    {
      "cell_type": "markdown",
      "metadata": {
        "id": "NsFRw_lpM6ZO"
      },
      "source": [
        "# 03. 평균 이동\n",
        "## Mean Shift 개요\n",
        "- 중심에 소속된 데이터의 평균 거리 중심으로 이동하는 K-Means와 달리, 평균 이동은 중심을 데이터가 모여 있는 **밀도가 가장 높은 곳**으로 이동시킴\n",
        "- 평균 이동 군집화는 데이터 분포도를 이용해 군집 중심점 찾음\n",
        "  - 확률 밀도 함수 이용\n",
        "  - KDE(Kernel Density Estimation) 이용\n",
        "- 특정 데이터를 반경 내의 데이터 분포 확률 밀도가 가장 높은 곳으로 이동하기 위해 주변 데이터와의 거리 값을 KDE 함수 값으로 입력한 뒤 그 반환 값을 현재 위치에서 업데이트하면서 이동하는 방식을 취함 ➡️ 전체 데이터에 반복 적용해 데이터 군집 중심점을 찾아냄"
      ]
    },
    {
      "cell_type": "markdown",
      "source": [
        "- KDE\n",
        "  - 커널 함수를 통해 어떤 변수의 확률 밀도 함수를 추정\n",
        "  - 관측된 데이터 각각에 커널 함수를 적용한 값을 모두 더한 뒤 -> 데이터 건수로 나눠 확률 밀도 함수 추정\n",
        "  - 개별 관측 데이터에 커널 함수를 적용 -> 적용값을 모두 더한 후 개별 관측 데이터의 건수로 나눠 확률 밀도 함수 추정\n",
        "  - 커널 함수 : 가우시안 분포 함수가 사용됨\n",
        "\n",
        "- PDF\n",
        "  - 확률 밀도 함수(Probability Density Function)\n",
        "  - 확률 변수의 분포를 나타내는 함수\n",
        "  - 널리 알려진 정규분포 함수 포함 감마 분포, t-분포 등 있음\n",
        "  - 이를 이용하면 특정 변수가 어떤 값을 가지게 될지에 대한 확률을 알게 되어 변수의 특성, 확률 분포 등 변수의 많은 요소 파악 가능\n",
        "\n",
        "- KDE를 표현하기 위한 커널 함수식\n",
        "$$\n",
        "\\text{KDE} = \\frac{1}{n} \\sum_{i=1}^{n} K_h(x - x_i) = \\frac{1}{n h} \\sum_{i=1}^{n} K \\left( \\frac{x - x_i}{h} \\right)\n",
        "$$\n",
        "  - h : 대역폭, KDE 형태를 부드러운(또는 뾰족한) 형태로 평활화 -> 이 설정에 따라 확률 밀도 추정 성능을 크게 좌우할 수 있음\n",
        "  - 작은 h 값 : 좁고 뾰족한 KDE를 가지게 되어 변동성이 큰 방식으로 확률 밀도 함수를 추정해 과적합하기 쉬움\n",
        "  - 큰 h 값 : 과도하게 평활화된 KDE로 인해 지나치게 단순화된 방식으로 확률 밀도 함수 추정해 과소적합하기 쉬움\n",
        "  - 적절한 대역폭을 계산하는 것이 KDE 기반 평균 이동 군집화에서 매우 중요!\n",
        "\n",
        "<br>\n",
        "\n",
        "- 평균 이동 군집화의 일반화된 특징\n",
        "  - 대역폭이 평활화된 KDE로 인해 적은 수의 군집 중심점을 가짐\n",
        "  - 대역폭이 적을수록 많은 수의 군집 중심점을 가짐\n",
        "  - 군집 개수를 지정하지 않음\n",
        "  - 오직 대역폭 크기에 따라 군집화 수행\n",
        "\n",
        "- 사이킷런 MeanShift 클래스\n",
        "  - 가장 중요한 초기화 파라미터 : `bandwidth` == KDE의 대역폭 h와 동일\n",
        "  - 최적 대역폭 계산을 위해 estimate_bandwidth() 함수 제공"
      ],
      "metadata": {
        "id": "pBsTn14ZPj1P"
      }
    },
    {
      "cell_type": "markdown",
      "source": [
        "<br>"
      ],
      "metadata": {
        "id": "jomuS-aGTGra"
      }
    },
    {
      "cell_type": "markdown",
      "source": [
        "- make_blobs()의 cluster_std를 0.7로 정한 3개 군집 데이터에 대해 bandwidth를 0.8로 설정한 평균 이동 군집화 알고리즘 적용 예제"
      ],
      "metadata": {
        "id": "0wzjZNNsTH9H"
      }
    },
    {
      "cell_type": "code",
      "execution_count": 1,
      "metadata": {
        "colab": {
          "base_uri": "https://localhost:8080/"
        },
        "id": "NRbK4UNoM6ZQ",
        "outputId": "5167d1d0-fa42-433b-b726-f3c129cffdb8"
      },
      "outputs": [
        {
          "output_type": "stream",
          "name": "stdout",
          "text": [
            "cluster labels 유형: [0 1 2 3 4 5]\n"
          ]
        }
      ],
      "source": [
        "import numpy as np\n",
        "from sklearn.datasets import make_blobs\n",
        "from sklearn.cluster import MeanShift\n",
        "\n",
        "X, y = make_blobs(n_samples=200, n_features=2, centers=3,\n",
        "                  cluster_std=0.7, random_state=0)\n",
        "\n",
        "meanshift= MeanShift(bandwidth=0.8)\n",
        "cluster_labels = meanshift.fit_predict(X)\n",
        "print('cluster labels 유형:', np.unique(cluster_labels))"
      ]
    },
    {
      "cell_type": "markdown",
      "source": [
        "- 0~5까지 6개로 분류됨 -> 지나치게 세분화됨\n",
        "- bandwidth 값을 작게 할수록 군집 개수 많아짐"
      ],
      "metadata": {
        "id": "aniig7XWUT7D"
      }
    },
    {
      "cell_type": "markdown",
      "source": [
        "<br>"
      ],
      "metadata": {
        "id": "tbs-l3dGUd8K"
      }
    },
    {
      "cell_type": "markdown",
      "source": [
        "- bandwidth를 1.0으로 살짝 높여서 MeanShift 수행"
      ],
      "metadata": {
        "id": "xUNCl6muUf2T"
      }
    },
    {
      "cell_type": "code",
      "execution_count": 2,
      "metadata": {
        "colab": {
          "base_uri": "https://localhost:8080/"
        },
        "id": "ExU3_8BDM6ZR",
        "outputId": "e860253c-0cb8-42e2-dcad-8b102c073b3e"
      },
      "outputs": [
        {
          "output_type": "stream",
          "name": "stdout",
          "text": [
            "cluster labels 유형: [0 1 2]\n"
          ]
        }
      ],
      "source": [
        "meanshift= MeanShift(bandwidth=1)\n",
        "cluster_labels = meanshift.fit_predict(X)\n",
        "print('cluster labels 유형:', np.unique(cluster_labels))"
      ]
    },
    {
      "cell_type": "markdown",
      "source": [
        "- 3개로 적절히 잘 군집화됨\n",
        "- MeanShift는 이 bandwidth를 최적화 값으로 설정하는 것이 매우 중요!"
      ],
      "metadata": {
        "id": "tlBtNbJtVK7A"
      }
    },
    {
      "cell_type": "markdown",
      "source": [
        "<br>"
      ],
      "metadata": {
        "id": "njctUhJUVwec"
      }
    },
    {
      "cell_type": "markdown",
      "source": [
        "- estimate_bandwidth() 파라미터로 피쳐 데이터 세트를 입력해주면 최적화된 bandwidth 값을 반환해줌"
      ],
      "metadata": {
        "id": "7eQqRGgTVxen"
      }
    },
    {
      "cell_type": "code",
      "execution_count": 3,
      "metadata": {
        "colab": {
          "base_uri": "https://localhost:8080/"
        },
        "id": "wywHwnzsM6ZS",
        "outputId": "35b9159e-69a3-48db-b8f4-e3964c78ecc6"
      },
      "outputs": [
        {
          "output_type": "stream",
          "name": "stdout",
          "text": [
            "bandwidth 값: 1.816\n"
          ]
        }
      ],
      "source": [
        "from sklearn.cluster import estimate_bandwidth\n",
        "\n",
        "bandwidth = estimate_bandwidth(X)\n",
        "print('bandwidth 값:', round(bandwidth,3))"
      ]
    },
    {
      "cell_type": "markdown",
      "source": [
        "<br>"
      ],
      "metadata": {
        "id": "qM-G_Y1NWG16"
      }
    },
    {
      "cell_type": "markdown",
      "source": [
        "- estimate_bandwidth()로 측정된 bandwidth를 평균 이동 입력값으로 적용해 동일한 make_blobs() 데이터 세트에 군집화를 수행"
      ],
      "metadata": {
        "id": "I5deX8cVWIFl"
      }
    },
    {
      "cell_type": "code",
      "execution_count": 4,
      "metadata": {
        "colab": {
          "base_uri": "https://localhost:8080/"
        },
        "id": "y2aAUtkVM6ZS",
        "outputId": "f1a53c11-d83d-4160-8dc0-38cc04924811"
      },
      "outputs": [
        {
          "output_type": "stream",
          "name": "stdout",
          "text": [
            "cluster labels 유형: [0 1 2]\n"
          ]
        }
      ],
      "source": [
        "import pandas as pd\n",
        "\n",
        "\n",
        "clusterDF = pd.DataFrame(data=X, columns=['ftr1', 'ftr2'])\n",
        "clusterDF['target'] = y\n",
        "\n",
        "# estimate_bandwidth()로 최적 bandwidth 계산\n",
        "best_bandwidth = estimate_bandwidth(X)\n",
        "\n",
        "meanshift= MeanShift(bandwidth=best_bandwidth)\n",
        "cluster_labels = meanshift.fit_predict(X)\n",
        "print('cluster labels 유형:',np.unique(cluster_labels))"
      ]
    },
    {
      "cell_type": "code",
      "execution_count": 5,
      "metadata": {
        "colab": {
          "base_uri": "https://localhost:8080/",
          "height": 435
        },
        "id": "YPwpX77yM6ZS",
        "outputId": "1e330be2-2f44-4ef0-9417-1a9fcd386479"
      },
      "outputs": [
        {
          "output_type": "display_data",
          "data": {
            "text/plain": [
              "<Figure size 640x480 with 1 Axes>"
            ],
            "image/png": "[encoded data removed]"
          },
          "metadata": {}
        }
      ],
      "source": [
        "import matplotlib.pyplot as plt\n",
        "%matplotlib inline\n",
        "\n",
        "clusterDF['meanshift_label']  = cluster_labels\n",
        "centers = meanshift.cluster_centers_\n",
        "unique_labels = np.unique(cluster_labels)\n",
        "markers=['o', 's', '^', 'x', '*']\n",
        "\n",
        "for label in unique_labels:\n",
        "    label_cluster = clusterDF[clusterDF['meanshift_label']==label]\n",
        "    center_x_y = centers[label]\n",
        "    # 군집별로 다른 마커로 산점도 적용\n",
        "    plt.scatter(x=label_cluster['ftr1'], y=label_cluster['ftr2'], edgecolor='k', marker=markers[label] )\n",
        "\n",
        "    # 군집별 중심 표현\n",
        "    plt.scatter(x=center_x_y[0], y=center_x_y[1], s=200, color='gray', alpha=0.9, marker=markers[label])\n",
        "    plt.scatter(x=center_x_y[0], y=center_x_y[1], s=70, color='k', edgecolor='k', marker='$%d$' % label)\n",
        "\n",
        "plt.show()"
      ]
    },
    {
      "cell_type": "markdown",
      "source": [
        "- Target 값과 군집 label 값 비교(1:1로 잘 매칭됨!)"
      ],
      "metadata": {
        "id": "j9OSynVdWfTZ"
      }
    },
    {
      "cell_type": "code",
      "execution_count": 6,
      "metadata": {
        "colab": {
          "base_uri": "https://localhost:8080/"
        },
        "id": "gr8oIABEM6ZT",
        "outputId": "de4da7f2-9545-469f-8ea3-b4c15d41bfff"
      },
      "outputs": [
        {
          "output_type": "stream",
          "name": "stdout",
          "text": [
            "target  meanshift_label\n",
            "0       0                  67\n",
            "1       1                  67\n",
            "2       2                  66\n",
            "Name: count, dtype: int64\n"
          ]
        }
      ],
      "source": [
        "print(clusterDF.groupby('target')['meanshift_label'].value_counts())"
      ]
    },
    {
      "cell_type": "markdown",
      "source": [
        "- 평균 이동의 장점\n",
        "  - 데이터 세트 형태를 특정 형태로 가정하거나, 특정 분포도 기반의 모델로 가정하지 않아 좀 더 유연한 군집화 가능\n",
        "  - 이상치 영향력도 크지 않고, 미리 군집 개수를 정할 필요도 없음!\n",
        "  - 알고리즘 수행 시간 오래 걸림 + bandwidth 크기에 따른 군집화 영향도 매우 큼!\n",
        "  - 그래서 주로 CV 영역에서 사용 ➡️ 이미지나 영상 데이터에서 특정 개체를 구분하거나 움직임을 추적하는 데 뛰어난 역할을 수행하는 알고리즘임"
      ],
      "metadata": {
        "id": "BhfSm3UdXX_p"
      }
    }
  ],
  "metadata": {
    "kernelspec": {
      "display_name": "Python 3 (ipykernel)",
      "language": "python",
      "name": "python3"
    },
    "language_info": {
      "codemirror_mode": {
        "name": "ipython",
        "version": 3
      },
      "file_extension": ".py",
      "mimetype": "text/x-python",
      "name": "python",
      "nbconvert_exporter": "python",
      "pygments_lexer": "ipython3",
      "version": "3.9.7"
    },
    "colab": {
      "provenance": [],
      "include_colab_link": true
    }
  },
  "nbformat": 4,
  "nbformat_minor": 0
}
